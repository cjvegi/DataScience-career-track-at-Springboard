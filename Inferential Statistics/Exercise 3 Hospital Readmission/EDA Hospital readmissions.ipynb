{
 "cells": [
  {
   "cell_type": "markdown",
   "metadata": {},
   "source": [
    "# Hospital Readmissions Data Analysis and Recommendations for Reduction\n",
    "\n",
    "### Background\n",
    "In October 2012, the US government's Center for Medicare and Medicaid Services (CMS) began reducing Medicare payments for Inpatient Prospective Payment System hospitals with excess readmissions. Excess readmissions are measured by a ratio, by dividing a hospital’s number of “predicted” 30-day readmissions for heart attack, heart failure, and pneumonia by the number that would be “expected,” based on an average hospital with similar patients. A ratio greater than 1 indicates excess readmissions.\n",
    "\n",
    "### Exercise Directions\n",
    "\n",
    "In this exercise, you will:\n",
    "+ critique a preliminary analysis of readmissions data and recommendations (provided below) for reducing the readmissions rate\n",
    "+ construct a statistically sound analysis and make recommendations of your own \n",
    "\n",
    "More instructions provided below. Include your work **in this notebook and submit to your Github account**. \n",
    "\n",
    "### Resources\n",
    "+ Data source: https://data.medicare.gov/Hospital-Compare/Hospital-Readmission-Reduction/9n3s-kdb3\n",
    "+ More information: http://www.cms.gov/Medicare/medicare-fee-for-service-payment/acuteinpatientPPS/readmissions-reduction-program.html\n",
    "+ Markdown syntax: http://nestacms.com/docs/creating-content/markdown-cheat-sheet\n",
    "****"
   ]
  },
  {
   "cell_type": "code",
   "execution_count": 1,
   "metadata": {
    "collapsed": true
   },
   "outputs": [],
   "source": [
    "%matplotlib inline\n",
    "\n",
    "import pandas as pd\n",
    "import numpy as np\n",
    "import matplotlib.pyplot as plt\n",
    "import bokeh.plotting as bkp\n",
    "from mpl_toolkits.axes_grid1 import make_axes_locatable\n",
    "plt.rcParams.update({'font.size': 15})"
   ]
  },
  {
   "cell_type": "code",
   "execution_count": 2,
   "metadata": {
    "collapsed": true
   },
   "outputs": [],
   "source": [
    "# read in readmissions data provided\n",
    "hospital_read_df = pd.read_csv('data/cms_hospital_readmissions.csv')"
   ]
  },
  {
   "cell_type": "code",
   "execution_count": 3,
   "metadata": {},
   "outputs": [
    {
     "data": {
      "text/html": [
       "<div>\n",
       "<style>\n",
       "    .dataframe thead tr:only-child th {\n",
       "        text-align: right;\n",
       "    }\n",
       "\n",
       "    .dataframe thead th {\n",
       "        text-align: left;\n",
       "    }\n",
       "\n",
       "    .dataframe tbody tr th {\n",
       "        vertical-align: top;\n",
       "    }\n",
       "</style>\n",
       "<table border=\"1\" class=\"dataframe\">\n",
       "  <thead>\n",
       "    <tr style=\"text-align: right;\">\n",
       "      <th></th>\n",
       "      <th>Hospital Name</th>\n",
       "      <th>Provider Number</th>\n",
       "      <th>State</th>\n",
       "      <th>Measure Name</th>\n",
       "      <th>Number of Discharges</th>\n",
       "      <th>Footnote</th>\n",
       "      <th>Excess Readmission Ratio</th>\n",
       "      <th>Predicted Readmission Rate</th>\n",
       "      <th>Expected Readmission Rate</th>\n",
       "      <th>Number of Readmissions</th>\n",
       "      <th>Start Date</th>\n",
       "      <th>End Date</th>\n",
       "    </tr>\n",
       "  </thead>\n",
       "  <tbody>\n",
       "    <tr>\n",
       "      <th>0</th>\n",
       "      <td>FROEDTERT MEMORIAL LUTHERAN HOSPITAL</td>\n",
       "      <td>520177</td>\n",
       "      <td>WI</td>\n",
       "      <td>READM-30-HIP-KNEE-HRRP</td>\n",
       "      <td>242</td>\n",
       "      <td>NaN</td>\n",
       "      <td>1.9095</td>\n",
       "      <td>10.8</td>\n",
       "      <td>5.6</td>\n",
       "      <td>38.0</td>\n",
       "      <td>07/01/2010</td>\n",
       "      <td>06/30/2013</td>\n",
       "    </tr>\n",
       "    <tr>\n",
       "      <th>1</th>\n",
       "      <td>PROVIDENCE HOSPITAL</td>\n",
       "      <td>90006</td>\n",
       "      <td>DC</td>\n",
       "      <td>READM-30-HIP-KNEE-HRRP</td>\n",
       "      <td>247</td>\n",
       "      <td>NaN</td>\n",
       "      <td>1.7521</td>\n",
       "      <td>9.2</td>\n",
       "      <td>5.3</td>\n",
       "      <td>33.0</td>\n",
       "      <td>07/01/2010</td>\n",
       "      <td>06/30/2013</td>\n",
       "    </tr>\n",
       "    <tr>\n",
       "      <th>2</th>\n",
       "      <td>BEAUFORT COUNTY MEMORIAL HOSPITAL</td>\n",
       "      <td>420067</td>\n",
       "      <td>SC</td>\n",
       "      <td>READM-30-HIP-KNEE-HRRP</td>\n",
       "      <td>586</td>\n",
       "      <td>NaN</td>\n",
       "      <td>1.5836</td>\n",
       "      <td>7.6</td>\n",
       "      <td>4.8</td>\n",
       "      <td>53.0</td>\n",
       "      <td>07/01/2010</td>\n",
       "      <td>06/30/2013</td>\n",
       "    </tr>\n",
       "    <tr>\n",
       "      <th>3</th>\n",
       "      <td>ADVOCATE CHRIST HOSPITAL &amp; MEDICAL CENTER</td>\n",
       "      <td>140208</td>\n",
       "      <td>IL</td>\n",
       "      <td>READM-30-HIP-KNEE-HRRP</td>\n",
       "      <td>965</td>\n",
       "      <td>NaN</td>\n",
       "      <td>1.5760</td>\n",
       "      <td>9.0</td>\n",
       "      <td>5.7</td>\n",
       "      <td>95.0</td>\n",
       "      <td>07/01/2010</td>\n",
       "      <td>06/30/2013</td>\n",
       "    </tr>\n",
       "    <tr>\n",
       "      <th>4</th>\n",
       "      <td>BRAZOSPORT REGIONAL HEALTH SYSTEM</td>\n",
       "      <td>450072</td>\n",
       "      <td>TX</td>\n",
       "      <td>READM-30-HIP-KNEE-HRRP</td>\n",
       "      <td>149</td>\n",
       "      <td>NaN</td>\n",
       "      <td>1.5308</td>\n",
       "      <td>8.2</td>\n",
       "      <td>5.4</td>\n",
       "      <td>20.0</td>\n",
       "      <td>07/01/2010</td>\n",
       "      <td>06/30/2013</td>\n",
       "    </tr>\n",
       "  </tbody>\n",
       "</table>\n",
       "</div>"
      ],
      "text/plain": [
       "                               Hospital Name  Provider Number State  \\\n",
       "0       FROEDTERT MEMORIAL LUTHERAN HOSPITAL           520177    WI   \n",
       "1                        PROVIDENCE HOSPITAL            90006    DC   \n",
       "2          BEAUFORT COUNTY MEMORIAL HOSPITAL           420067    SC   \n",
       "3  ADVOCATE CHRIST HOSPITAL & MEDICAL CENTER           140208    IL   \n",
       "4          BRAZOSPORT REGIONAL HEALTH SYSTEM           450072    TX   \n",
       "\n",
       "             Measure Name Number of Discharges  Footnote  \\\n",
       "0  READM-30-HIP-KNEE-HRRP                  242       NaN   \n",
       "1  READM-30-HIP-KNEE-HRRP                  247       NaN   \n",
       "2  READM-30-HIP-KNEE-HRRP                  586       NaN   \n",
       "3  READM-30-HIP-KNEE-HRRP                  965       NaN   \n",
       "4  READM-30-HIP-KNEE-HRRP                  149       NaN   \n",
       "\n",
       "   Excess Readmission Ratio  Predicted Readmission Rate  \\\n",
       "0                    1.9095                        10.8   \n",
       "1                    1.7521                         9.2   \n",
       "2                    1.5836                         7.6   \n",
       "3                    1.5760                         9.0   \n",
       "4                    1.5308                         8.2   \n",
       "\n",
       "   Expected Readmission Rate  Number of Readmissions  Start Date    End Date  \n",
       "0                        5.6                    38.0  07/01/2010  06/30/2013  \n",
       "1                        5.3                    33.0  07/01/2010  06/30/2013  \n",
       "2                        4.8                    53.0  07/01/2010  06/30/2013  \n",
       "3                        5.7                    95.0  07/01/2010  06/30/2013  \n",
       "4                        5.4                    20.0  07/01/2010  06/30/2013  "
      ]
     },
     "execution_count": 3,
     "metadata": {},
     "output_type": "execute_result"
    }
   ],
   "source": [
    "hospital_read_df.head()"
   ]
  },
  {
   "cell_type": "markdown",
   "metadata": {},
   "source": [
    "****\n",
    "## Preliminary Analysis"
   ]
  },
  {
   "cell_type": "code",
   "execution_count": 4,
   "metadata": {},
   "outputs": [
    {
     "name": "stderr",
     "output_type": "stream",
     "text": [
      "/anaconda3/lib/python3.6/site-packages/pandas/core/indexing.py:517: SettingWithCopyWarning: \n",
      "A value is trying to be set on a copy of a slice from a DataFrame.\n",
      "Try using .loc[row_indexer,col_indexer] = value instead\n",
      "\n",
      "See the caveats in the documentation: http://pandas.pydata.org/pandas-docs/stable/indexing.html#indexing-view-versus-copy\n",
      "  self.obj[item] = s\n"
     ]
    }
   ],
   "source": [
    "# deal with missing and inconvenient portions of data \n",
    "clean_hospital_read_df = hospital_read_df[hospital_read_df['Number of Discharges'] != 'Not Available']\n",
    "clean_hospital_read_df.loc[:, 'Number of Discharges'] = clean_hospital_read_df['Number of Discharges'].astype(int)\n",
    "clean_hospital_read_df = clean_hospital_read_df.sort_values('Number of Discharges')"
   ]
  },
  {
   "cell_type": "code",
   "execution_count": 5,
   "metadata": {},
   "outputs": [
    {
     "data": {
      "image/png": "[encoded data removed]",
      "text/plain": [
       "<matplotlib.figure.Figure at 0x10e0de710>"
      ]
     },
     "metadata": {},
     "output_type": "display_data"
    }
   ],
   "source": [
    "# generate a scatterplot for number of discharges vs. excess rate of readmissions\n",
    "# lists work better with matplotlib scatterplot function\n",
    "x = [a for a in clean_hospital_read_df['Number of Discharges'][81:-3]]\n",
    "y = list(clean_hospital_read_df['Excess Readmission Ratio'][81:-3])\n",
    "\n",
    "fig, ax = plt.subplots(figsize=(8,5))\n",
    "ax.scatter(x, y,alpha=0.2)\n",
    "\n",
    "ax.fill_between([0,350], 1.15, 2, facecolor='red', alpha = .15, interpolate=True)\n",
    "ax.fill_between([800,2500], .5, .95, facecolor='green', alpha = .15, interpolate=True)\n",
    "\n",
    "ax.set_xlim([0, max(x)])\n",
    "ax.set_xlabel('Number of discharges', fontsize=12)\n",
    "ax.set_ylabel('Excess rate of readmissions', fontsize=12)\n",
    "ax.set_title('Scatterplot of number of discharges vs. excess rate of readmissions', fontsize=14)\n",
    "\n",
    "ax.grid(True)\n",
    "fig.tight_layout()"
   ]
  },
  {
   "cell_type": "markdown",
   "metadata": {},
   "source": [
    "\n",
    "## Preliminary Report\n",
    "\n",
    "Read the following results/report. While you are reading it, think about if the conclusions are correct, incorrect, misleading or unfounded. Think about what you would change or what additional analyses you would perform.\n",
    "\n",
    "**A. Initial observations based on the plot above**\n",
    "+ Overall, rate of readmissions is trending down with increasing number of discharges\n",
    "+ With lower number of discharges, there is a greater incidence of excess rate of readmissions (area shaded red)\n",
    "+ With higher number of discharges, there is a greater incidence of lower rates of readmissions (area shaded green) \n",
    "\n",
    "**B. Statistics**\n",
    "+ In hospitals/facilities with number of discharges < 100, mean excess readmission rate is 1.023 and 63% have excess readmission rate greater than 1 \n",
    "+ In hospitals/facilities with number of discharges > 1000, mean excess readmission rate is 0.978 and 44% have excess readmission rate greater than 1 \n",
    "\n",
    "**C. Conclusions**\n",
    "+ There is a significant correlation between hospital capacity (number of discharges) and readmission rates. \n",
    "+ Smaller hospitals/facilities may be lacking necessary resources to ensure quality care and prevent complications that lead to readmissions.\n",
    "\n",
    "**D. Regulatory policy recommendations**\n",
    "+ Hospitals/facilties with small capacity (< 300) should be required to demonstrate upgraded resource allocation for quality care to continue operation.\n",
    "+ Directives and incentives should be provided for consolidation of hospitals and facilities to have a smaller number of them with higher capacity and number of discharges."
   ]
  },
  {
   "cell_type": "markdown",
   "metadata": {},
   "source": [
    "****\n",
    "### Exercise\n",
    "\n",
    "Include your work on the following **in this notebook and submit to your Github account**. \n",
    "\n",
    "A. Do you agree with the above analysis and recommendations? Why or why not?\n",
    "   \n",
    "B. Provide support for your arguments and your own recommendations with a statistically sound analysis:\n",
    "\n",
    "   1. Setup an appropriate hypothesis test.\n",
    "   2. Compute and report the observed significance value (or p-value).\n",
    "   3. Report statistical significance for $\\alpha$ = .01. \n",
    "   4. Discuss statistical significance and practical significance. Do they differ here? How does this change your recommendation to the client?\n",
    "   5. Look at the scatterplot above. \n",
    "      - What are the advantages and disadvantages of using this plot to convey information?\n",
    "      - Construct another plot that conveys the same information in a more direct manner.\n",
    "\n",
    "\n",
    "\n",
    "You can compose in notebook cells using Markdown: \n",
    "+ In the control panel at the top, choose Cell > Cell Type > Markdown\n",
    "+ Markdown syntax: http://nestacms.com/docs/creating-content/markdown-cheat-sheet\n",
    "****"
   ]
  },
  {
   "cell_type": "markdown",
   "metadata": {
    "collapsed": true
   },
   "source": [
    "Let's start with commenting on the preliminary observations that are made.\n",
    "\n",
    "### A. Initial observations based on the plot above\n",
    "+ **Overall, rate of readmissions is trending down with increasing number of discharges**"
   ]
  },
  {
   "cell_type": "markdown",
   "metadata": {},
   "source": [
    "*Given the above plot, its hard to see any sort of visual trend. It would have been helpuful to see a linear line fit to the data with a display of slope. Hence, we cannot conclude that the rate of readmissions is trending down with increasing number of discharges*"
   ]
  },
  {
   "cell_type": "markdown",
   "metadata": {},
   "source": [
    "+ **With lower number of discharges, there is a greater incidence of excess rate of readmissions (area shaded red)**\n",
    "+ **With higher number of discharges, there is a greater incidence of lower rates of readmissions (area shaded green)**\n",
    "\n",
    "*Though it is tempting to infer the above statements from the plots, we need to think about why only those area's are shaded. Clearly, they is no explanation about why those two ranges are selected and moreover it seems that they are only shaded to support the argument. The reason behind is if we take a look at the red area only excess rate of readmissions above 1 is shaded however we can clearly see that the rate of readmissions are below 1 for the same range of number of discharges. Hence, we can infer that the shaded area would not help us infer anything as they misrepresent the data*"
   ]
  },
  {
   "cell_type": "markdown",
   "metadata": {
    "collapsed": true
   },
   "source": [
    "### B. Statistics\n",
    "+ In hospitals/facilities with number of discharges < 100, mean excess readmission rate is 1.023 and 63% have excess readmission rate greater than 1 \n",
    "+ In hospitals/facilities with number of discharges > 1000, mean excess readmission rate is 0.978 and 44% have excess readmission rate greater than 1 "
   ]
  },
  {
   "cell_type": "markdown",
   "metadata": {},
   "source": [
    "*We cannot come up with those statistical numbers by looking at the plot. So, we don't know if these numbers are true. However, one should rememeber that the above numbers only represent sample data and not used to draw conclusions on population.*\n",
    "\n",
    "Let's explore if the statistics reported are correct."
   ]
  },
  {
   "cell_type": "code",
   "execution_count": 6,
   "metadata": {},
   "outputs": [
    {
     "name": "stdout",
     "output_type": "stream",
     "text": [
      "Statistics of mean excess readmission rate and proportion of hospitals with excess of readmission greater than 1\n",
      "\n",
      "Stats for hospitals with Discharges < 100 and excess readmission rate > 1\n",
      "---------------------------------------------------------------------------\n",
      "mean:   1.023\n",
      "perc:   63.22%\n",
      "---------------------------------------------------------------------------\n",
      "\n",
      "Stats for hospitals with Discharges > 1000 and excess readmission rate > 1\n",
      "---------------------------------------------------------------------------\n",
      "mean:   0.978\n",
      "perc:   44.49%\n",
      "---------------------------------------------------------------------------\n"
     ]
    }
   ],
   "source": [
    "## We will use the cleaned data that is used to generate the plot\n",
    "df = clean_hospital_read_df.copy()\n",
    "\n",
    "## Keeping only needed data and droping all the 'NaN'\n",
    "df.dropna(subset=['Excess Readmission Ratio','Predicted Readmission Rate',\n",
    "                  'Expected Readmission Rate','Number of Readmissions'], \n",
    "          inplace=True)\n",
    "\n",
    "\n",
    "# Subsetting the data\n",
    "df_100 = df[df['Number of Discharges'] < 100]\n",
    "df_1000 = df[df['Number of Discharges'] > 1000]\n",
    "\n",
    "\n",
    "print(\"Statistics of mean excess readmission rate and proportion of hospitals with excess of readmission greater than 1\")\n",
    "print('')\n",
    "## Stats of number of hospitals less than \n",
    "print(\"Stats for hospitals with Discharges < 100 and excess readmission rate > 1\")\n",
    "print('---------------------------------------------------------------------------')\n",
    "print(\"%s %.3f\" % ('mean:  ', df_100['Excess Readmission Ratio'].mean())) \n",
    "print(\"%s %.2f%%\" % ('perc:  ', (len(df[(df['Number of Discharges'] <100) & \n",
    "                    (df['Excess Readmission Ratio'] > 1)]['Excess Readmission Ratio'])) \n",
    "                                 / float(len(df_100))*100)) \n",
    "print('---------------------------------------------------------------------------')\n",
    "print('')\n",
    "\n",
    "\n",
    "\n",
    "print(\"Stats for hospitals with Discharges > 1000 and excess readmission rate > 1\")\n",
    "print('---------------------------------------------------------------------------')\n",
    "print(\"%s %.3f\" % ('mean:  ', df_1000['Excess Readmission Ratio'].mean())) \n",
    "print(\"%s %.2f%%\" % ('perc:  ', (len(df[(df['Number of Discharges'] >1000) & \n",
    "                    (df['Excess Readmission Ratio'] > 1)]['Excess Readmission Ratio']))\n",
    "                     / float(len(df_1000))*100))\n",
    "print('---------------------------------------------------------------------------')"
   ]
  },
  {
   "cell_type": "markdown",
   "metadata": {},
   "source": [
    "*From the above stats, the reported stats are correct. However, it should be remembered that this may not gurantee how the populations would be. In order to draw any meanigful conclusions, one has to perform statistical method such as hypothesis testing and builidng confidence interval.*\n",
    "\n",
    "For example,to statistically conclude the similar arguments we set,\n",
    "+ null hypothesis: They is no significant difference in proportion of excess readmission rate greater than 1 for hospital with discharge less than 100 and greater than 1000. \n",
    "+ Alternate hypothesis: They is significant difference in proportion of excess readmission rate greater than 1 for hospital with discharge less than 100 and greater than 1000"
   ]
  },
  {
   "cell_type": "code",
   "execution_count": 7,
   "metadata": {},
   "outputs": [
    {
     "name": "stdout",
     "output_type": "stream",
     "text": [
      "The 99% confidence interval about the mean difference is (0.029, 0.059).\n",
      "The t-statistic is 10.061 and the p-value is 0.00000000.\n"
     ]
    },
    {
     "name": "stderr",
     "output_type": "stream",
     "text": [
      "/anaconda3/lib/python3.6/site-packages/statsmodels/compat/pandas.py:56: FutureWarning: The pandas.core.datetools module is deprecated and will be removed in a future version. Please use the pandas.tseries module instead.\n",
      "  from pandas.core import datetools\n"
     ]
    }
   ],
   "source": [
    "import scipy.stats as st\n",
    "import statsmodels.stats.api as sms\n",
    "\n",
    "two_sample = st.ttest_ind(df_100['Excess Readmission Ratio'], \n",
    "                          df_1000['Excess Readmission Ratio'])\n",
    "cm = sms.CompareMeans(sms.DescrStatsW(df_100['Excess Readmission Ratio']), \n",
    "                      sms.DescrStatsW(df_1000['Excess Readmission Ratio']))\n",
    "\n",
    "print('The 99% confidence interval about the mean difference is ({:.3f}, {:.3f}).'.format(cm.tconfint_diff(alpha = 0.01, usevar='unequal')[0],\n",
    "                                                                                          cm.tconfint_diff(alpha = 0.01, usevar='unequal')[1]))\n",
    "print('The t-statistic is %.3f and the p-value is %.8f.' % two_sample)"
   ]
  },
  {
   "cell_type": "markdown",
   "metadata": {},
   "source": [
    "Given the 99% confidence interval, t-statistic, and p-value of the one-tailed two sample t-test, we can reject the null hypothesis that the mean excess readmission rate for samples with less than 100 discharges is equal to that for samples with greater than 1000 discharges. We are 99% confident that the true mean difference lies between 0.029% and 0.059%."
   ]
  },
  {
   "cell_type": "markdown",
   "metadata": {},
   "source": [
    "### C. Conclusions\n",
    "+ There is a significant correlation between hospital capacity (number of discharges) and readmission rates. \n",
    "+ Smaller hospitals/facilities may be lacking necessary resources to ensure quality care and prevent complications that lead to readmissions."
   ]
  },
  {
   "cell_type": "markdown",
   "metadata": {},
   "source": [
    "*Their is no statistical evidence for the claims made above. One has to provide basis for such claims in terms of how he/she formulated testing process, what are null and alternate hypothesis, significance level used, assumptions that are tested for performing hypothesis testing. Also, after the appropriate test, p-value and test statistic need to be reported for validity.* "
   ]
  },
  {
   "cell_type": "markdown",
   "metadata": {},
   "source": [
    "### D. Regulatory policy recommendations\n",
    "+ Hospitals/facilties with small capacity (< 300) should be required to demonstrate upgraded resource allocation for quality care to continue operation.\n",
    "+ Directives and incentives should be provided for consolidation of hospitals and facilities to have a smaller number of them with higher capacity and number of discharges."
   ]
  },
  {
   "cell_type": "markdown",
   "metadata": {},
   "source": [
    "*Again, the above statements are not provided with statistical evidence. Hence, such statements atmost are unfounded. Examining only two variables in this case i.e., number of discharge and excess readmission rate would only help draw conclusions on them, drawing conclusions outside those variables is unfounded. Again, here one need to understand the difference between correlation and causation. The two variables can be correlated with highest pearson coefficient but that doesn't necessay mean causation. Finally, to draw the above statements we need to investigate other factors and look for causations.*\n",
    "\n",
    "**Given the above reasons, it does not seem that there is enough of a practical difference in excess readmission ratios due to discharges to warrant changes in funding based on hospital size of discharge numbers**"
   ]
  },
  {
   "cell_type": "markdown",
   "metadata": {},
   "source": [
    "### Visualizations"
   ]
  },
  {
   "cell_type": "code",
   "execution_count": 8,
   "metadata": {},
   "outputs": [
    {
     "data": {
      "text/html": [
       "<div>\n",
       "<style>\n",
       "    .dataframe thead tr:only-child th {\n",
       "        text-align: right;\n",
       "    }\n",
       "\n",
       "    .dataframe thead th {\n",
       "        text-align: left;\n",
       "    }\n",
       "\n",
       "    .dataframe tbody tr th {\n",
       "        vertical-align: top;\n",
       "    }\n",
       "</style>\n",
       "<table border=\"1\" class=\"dataframe\">\n",
       "  <thead>\n",
       "    <tr style=\"text-align: right;\">\n",
       "      <th></th>\n",
       "      <th>Hospital Name</th>\n",
       "      <th>Provider Number</th>\n",
       "      <th>State</th>\n",
       "      <th>Measure Name</th>\n",
       "      <th>Number of Discharges</th>\n",
       "      <th>Footnote</th>\n",
       "      <th>Excess Readmission Ratio</th>\n",
       "      <th>Predicted Readmission Rate</th>\n",
       "      <th>Expected Readmission Rate</th>\n",
       "      <th>Number of Readmissions</th>\n",
       "      <th>Start Date</th>\n",
       "      <th>End Date</th>\n",
       "    </tr>\n",
       "  </thead>\n",
       "  <tbody>\n",
       "    <tr>\n",
       "      <th>0</th>\n",
       "      <td>FROEDTERT MEMORIAL LUTHERAN HOSPITAL</td>\n",
       "      <td>520177</td>\n",
       "      <td>WI</td>\n",
       "      <td>READM-30-HIP-KNEE-HRRP</td>\n",
       "      <td>242</td>\n",
       "      <td>NaN</td>\n",
       "      <td>1.9095</td>\n",
       "      <td>10.8</td>\n",
       "      <td>5.6</td>\n",
       "      <td>38.0</td>\n",
       "      <td>07/01/2010</td>\n",
       "      <td>06/30/2013</td>\n",
       "    </tr>\n",
       "    <tr>\n",
       "      <th>1</th>\n",
       "      <td>PROVIDENCE HOSPITAL</td>\n",
       "      <td>90006</td>\n",
       "      <td>DC</td>\n",
       "      <td>READM-30-HIP-KNEE-HRRP</td>\n",
       "      <td>247</td>\n",
       "      <td>NaN</td>\n",
       "      <td>1.7521</td>\n",
       "      <td>9.2</td>\n",
       "      <td>5.3</td>\n",
       "      <td>33.0</td>\n",
       "      <td>07/01/2010</td>\n",
       "      <td>06/30/2013</td>\n",
       "    </tr>\n",
       "    <tr>\n",
       "      <th>2</th>\n",
       "      <td>BEAUFORT COUNTY MEMORIAL HOSPITAL</td>\n",
       "      <td>420067</td>\n",
       "      <td>SC</td>\n",
       "      <td>READM-30-HIP-KNEE-HRRP</td>\n",
       "      <td>586</td>\n",
       "      <td>NaN</td>\n",
       "      <td>1.5836</td>\n",
       "      <td>7.6</td>\n",
       "      <td>4.8</td>\n",
       "      <td>53.0</td>\n",
       "      <td>07/01/2010</td>\n",
       "      <td>06/30/2013</td>\n",
       "    </tr>\n",
       "    <tr>\n",
       "      <th>3</th>\n",
       "      <td>ADVOCATE CHRIST HOSPITAL &amp; MEDICAL CENTER</td>\n",
       "      <td>140208</td>\n",
       "      <td>IL</td>\n",
       "      <td>READM-30-HIP-KNEE-HRRP</td>\n",
       "      <td>965</td>\n",
       "      <td>NaN</td>\n",
       "      <td>1.5760</td>\n",
       "      <td>9.0</td>\n",
       "      <td>5.7</td>\n",
       "      <td>95.0</td>\n",
       "      <td>07/01/2010</td>\n",
       "      <td>06/30/2013</td>\n",
       "    </tr>\n",
       "    <tr>\n",
       "      <th>4</th>\n",
       "      <td>BRAZOSPORT REGIONAL HEALTH SYSTEM</td>\n",
       "      <td>450072</td>\n",
       "      <td>TX</td>\n",
       "      <td>READM-30-HIP-KNEE-HRRP</td>\n",
       "      <td>149</td>\n",
       "      <td>NaN</td>\n",
       "      <td>1.5308</td>\n",
       "      <td>8.2</td>\n",
       "      <td>5.4</td>\n",
       "      <td>20.0</td>\n",
       "      <td>07/01/2010</td>\n",
       "      <td>06/30/2013</td>\n",
       "    </tr>\n",
       "  </tbody>\n",
       "</table>\n",
       "</div>"
      ],
      "text/plain": [
       "                               Hospital Name  Provider Number State  \\\n",
       "0       FROEDTERT MEMORIAL LUTHERAN HOSPITAL           520177    WI   \n",
       "1                        PROVIDENCE HOSPITAL            90006    DC   \n",
       "2          BEAUFORT COUNTY MEMORIAL HOSPITAL           420067    SC   \n",
       "3  ADVOCATE CHRIST HOSPITAL & MEDICAL CENTER           140208    IL   \n",
       "4          BRAZOSPORT REGIONAL HEALTH SYSTEM           450072    TX   \n",
       "\n",
       "             Measure Name Number of Discharges  Footnote  \\\n",
       "0  READM-30-HIP-KNEE-HRRP                  242       NaN   \n",
       "1  READM-30-HIP-KNEE-HRRP                  247       NaN   \n",
       "2  READM-30-HIP-KNEE-HRRP                  586       NaN   \n",
       "3  READM-30-HIP-KNEE-HRRP                  965       NaN   \n",
       "4  READM-30-HIP-KNEE-HRRP                  149       NaN   \n",
       "\n",
       "   Excess Readmission Ratio  Predicted Readmission Rate  \\\n",
       "0                    1.9095                        10.8   \n",
       "1                    1.7521                         9.2   \n",
       "2                    1.5836                         7.6   \n",
       "3                    1.5760                         9.0   \n",
       "4                    1.5308                         8.2   \n",
       "\n",
       "   Expected Readmission Rate  Number of Readmissions  Start Date    End Date  \n",
       "0                        5.6                    38.0  07/01/2010  06/30/2013  \n",
       "1                        5.3                    33.0  07/01/2010  06/30/2013  \n",
       "2                        4.8                    53.0  07/01/2010  06/30/2013  \n",
       "3                        5.7                    95.0  07/01/2010  06/30/2013  \n",
       "4                        5.4                    20.0  07/01/2010  06/30/2013  "
      ]
     },
     "execution_count": 8,
     "metadata": {},
     "output_type": "execute_result"
    }
   ],
   "source": [
    "# Lets start with exploring the data\n",
    "df = pd.read_csv('data/cms_hospital_readmissions.csv')\n",
    "df.head()"
   ]
  },
  {
   "cell_type": "code",
   "execution_count": 9,
   "metadata": {},
   "outputs": [
    {
     "name": "stdout",
     "output_type": "stream",
     "text": [
      "Hospital Name                  object\n",
      "Provider Number                 int64\n",
      "State                          object\n",
      "Measure Name                   object\n",
      "Number of Discharges           object\n",
      "Footnote                      float64\n",
      "Excess Readmission Ratio      float64\n",
      "Predicted Readmission Rate    float64\n",
      "Expected Readmission Rate     float64\n",
      "Number of Readmissions        float64\n",
      "Start Date                     object\n",
      "End Date                       object\n",
      "dtype: object\n"
     ]
    },
    {
     "data": {
      "text/html": [
       "<div>\n",
       "<style>\n",
       "    .dataframe thead tr:only-child th {\n",
       "        text-align: right;\n",
       "    }\n",
       "\n",
       "    .dataframe thead th {\n",
       "        text-align: left;\n",
       "    }\n",
       "\n",
       "    .dataframe tbody tr th {\n",
       "        vertical-align: top;\n",
       "    }\n",
       "</style>\n",
       "<table border=\"1\" class=\"dataframe\">\n",
       "  <thead>\n",
       "    <tr style=\"text-align: right;\">\n",
       "      <th></th>\n",
       "      <th>Provider Number</th>\n",
       "      <th>Footnote</th>\n",
       "      <th>Excess Readmission Ratio</th>\n",
       "      <th>Predicted Readmission Rate</th>\n",
       "      <th>Expected Readmission Rate</th>\n",
       "      <th>Number of Readmissions</th>\n",
       "    </tr>\n",
       "  </thead>\n",
       "  <tbody>\n",
       "    <tr>\n",
       "      <th>count</th>\n",
       "      <td>16860.000000</td>\n",
       "      <td>3129.000000</td>\n",
       "      <td>13731.000000</td>\n",
       "      <td>13731.000000</td>\n",
       "      <td>13731.000000</td>\n",
       "      <td>11497.000000</td>\n",
       "    </tr>\n",
       "    <tr>\n",
       "      <th>mean</th>\n",
       "      <td>263516.943654</td>\n",
       "      <td>2.905401</td>\n",
       "      <td>1.002582</td>\n",
       "      <td>16.916532</td>\n",
       "      <td>16.866135</td>\n",
       "      <td>63.633731</td>\n",
       "    </tr>\n",
       "    <tr>\n",
       "      <th>std</th>\n",
       "      <td>160146.191702</td>\n",
       "      <td>2.074384</td>\n",
       "      <td>0.091088</td>\n",
       "      <td>6.197542</td>\n",
       "      <td>5.989652</td>\n",
       "      <td>59.540296</td>\n",
       "    </tr>\n",
       "    <tr>\n",
       "      <th>min</th>\n",
       "      <td>10001.000000</td>\n",
       "      <td>1.000000</td>\n",
       "      <td>0.549500</td>\n",
       "      <td>2.700000</td>\n",
       "      <td>2.900000</td>\n",
       "      <td>11.000000</td>\n",
       "    </tr>\n",
       "    <tr>\n",
       "      <th>25%</th>\n",
       "      <td>110181.500000</td>\n",
       "      <td>1.000000</td>\n",
       "      <td>0.949500</td>\n",
       "      <td>15.200000</td>\n",
       "      <td>15.800000</td>\n",
       "      <td>24.000000</td>\n",
       "    </tr>\n",
       "    <tr>\n",
       "      <th>50%</th>\n",
       "      <td>250157.000000</td>\n",
       "      <td>1.000000</td>\n",
       "      <td>0.997100</td>\n",
       "      <td>18.500000</td>\n",
       "      <td>18.500000</td>\n",
       "      <td>45.000000</td>\n",
       "    </tr>\n",
       "    <tr>\n",
       "      <th>75%</th>\n",
       "      <td>390138.250000</td>\n",
       "      <td>5.000000</td>\n",
       "      <td>1.052350</td>\n",
       "      <td>21.100000</td>\n",
       "      <td>21.100000</td>\n",
       "      <td>82.000000</td>\n",
       "    </tr>\n",
       "    <tr>\n",
       "      <th>max</th>\n",
       "      <td>670091.000000</td>\n",
       "      <td>7.000000</td>\n",
       "      <td>1.909500</td>\n",
       "      <td>32.800000</td>\n",
       "      <td>29.400000</td>\n",
       "      <td>879.000000</td>\n",
       "    </tr>\n",
       "  </tbody>\n",
       "</table>\n",
       "</div>"
      ],
      "text/plain": [
       "       Provider Number     Footnote  Excess Readmission Ratio  \\\n",
       "count     16860.000000  3129.000000              13731.000000   \n",
       "mean     263516.943654     2.905401                  1.002582   \n",
       "std      160146.191702     2.074384                  0.091088   \n",
       "min       10001.000000     1.000000                  0.549500   \n",
       "25%      110181.500000     1.000000                  0.949500   \n",
       "50%      250157.000000     1.000000                  0.997100   \n",
       "75%      390138.250000     5.000000                  1.052350   \n",
       "max      670091.000000     7.000000                  1.909500   \n",
       "\n",
       "       Predicted Readmission Rate  Expected Readmission Rate  \\\n",
       "count                13731.000000               13731.000000   \n",
       "mean                    16.916532                  16.866135   \n",
       "std                      6.197542                   5.989652   \n",
       "min                      2.700000                   2.900000   \n",
       "25%                     15.200000                  15.800000   \n",
       "50%                     18.500000                  18.500000   \n",
       "75%                     21.100000                  21.100000   \n",
       "max                     32.800000                  29.400000   \n",
       "\n",
       "       Number of Readmissions  \n",
       "count            11497.000000  \n",
       "mean                63.633731  \n",
       "std                 59.540296  \n",
       "min                 11.000000  \n",
       "25%                 24.000000  \n",
       "50%                 45.000000  \n",
       "75%                 82.000000  \n",
       "max                879.000000  "
      ]
     },
     "execution_count": 9,
     "metadata": {},
     "output_type": "execute_result"
    }
   ],
   "source": [
    "## data types\n",
    "print(df.dtypes)\n",
    "df.describe()"
   ]
  },
  {
   "cell_type": "markdown",
   "metadata": {},
   "source": [
    "we see that number of discharges is of type object where we expected float. so they might be some categorical variables in the column. Since we do not what the sort of string we have in our data, lets see unique string elements in the data"
   ]
  },
  {
   "cell_type": "code",
   "execution_count": 10,
   "metadata": {},
   "outputs": [
    {
     "data": {
      "text/plain": [
       "array(['2', '5', '9', '1', '3', '7', '4', '6', '8', 'N', '0'], dtype=object)"
      ]
     },
     "execution_count": 10,
     "metadata": {},
     "output_type": "execute_result"
    }
   ],
   "source": [
    "df['Number of Discharges'].str.get(0).unique()"
   ]
  },
  {
   "cell_type": "markdown",
   "metadata": {},
   "source": [
    "We only have a sring that starts with 'N' and rest all are numbers from 0 to 9 coerced to obejct type. Lets explore "
   ]
  },
  {
   "cell_type": "code",
   "execution_count": 11,
   "metadata": {},
   "outputs": [
    {
     "name": "stdout",
     "output_type": "stream",
     "text": [
      "5282\n"
     ]
    },
    {
     "data": {
      "text/html": [
       "<div>\n",
       "<style>\n",
       "    .dataframe thead tr:only-child th {\n",
       "        text-align: right;\n",
       "    }\n",
       "\n",
       "    .dataframe thead th {\n",
       "        text-align: left;\n",
       "    }\n",
       "\n",
       "    .dataframe tbody tr th {\n",
       "        vertical-align: top;\n",
       "    }\n",
       "</style>\n",
       "<table border=\"1\" class=\"dataframe\">\n",
       "  <thead>\n",
       "    <tr style=\"text-align: right;\">\n",
       "      <th></th>\n",
       "      <th>Hospital Name</th>\n",
       "      <th>Provider Number</th>\n",
       "      <th>State</th>\n",
       "      <th>Measure Name</th>\n",
       "      <th>Number of Discharges</th>\n",
       "      <th>Footnote</th>\n",
       "      <th>Excess Readmission Ratio</th>\n",
       "      <th>Predicted Readmission Rate</th>\n",
       "      <th>Expected Readmission Rate</th>\n",
       "      <th>Number of Readmissions</th>\n",
       "      <th>Start Date</th>\n",
       "      <th>End Date</th>\n",
       "    </tr>\n",
       "  </thead>\n",
       "  <tbody>\n",
       "    <tr>\n",
       "      <th>62</th>\n",
       "      <td>DOCTORS HOSPITAL AT DEER CREEK LLC</td>\n",
       "      <td>190297</td>\n",
       "      <td>LA</td>\n",
       "      <td>READM-30-HIP-KNEE-HRRP</td>\n",
       "      <td>Not Available</td>\n",
       "      <td>NaN</td>\n",
       "      <td>1.3287</td>\n",
       "      <td>6.2</td>\n",
       "      <td>4.7</td>\n",
       "      <td>NaN</td>\n",
       "      <td>07/01/2010</td>\n",
       "      <td>06/30/2013</td>\n",
       "    </tr>\n",
       "    <tr>\n",
       "      <th>92</th>\n",
       "      <td>PARK RIDGE HEALTH</td>\n",
       "      <td>340023</td>\n",
       "      <td>NC</td>\n",
       "      <td>READM-30-HIP-KNEE-HRRP</td>\n",
       "      <td>Not Available</td>\n",
       "      <td>NaN</td>\n",
       "      <td>1.2941</td>\n",
       "      <td>5.7</td>\n",
       "      <td>4.4</td>\n",
       "      <td>NaN</td>\n",
       "      <td>07/01/2010</td>\n",
       "      <td>06/30/2013</td>\n",
       "    </tr>\n",
       "    <tr>\n",
       "      <th>94</th>\n",
       "      <td>MEADOWS REGIONAL MEDICAL CENTER</td>\n",
       "      <td>110128</td>\n",
       "      <td>GA</td>\n",
       "      <td>READM-30-HIP-KNEE-HRRP</td>\n",
       "      <td>Not Available</td>\n",
       "      <td>NaN</td>\n",
       "      <td>1.2915</td>\n",
       "      <td>6.1</td>\n",
       "      <td>4.7</td>\n",
       "      <td>NaN</td>\n",
       "      <td>07/01/2010</td>\n",
       "      <td>06/30/2013</td>\n",
       "    </tr>\n",
       "    <tr>\n",
       "      <th>103</th>\n",
       "      <td>WHEATON FRANCISCAN HEALTHCARE ST FRANCIS</td>\n",
       "      <td>520078</td>\n",
       "      <td>WI</td>\n",
       "      <td>READM-30-HIP-KNEE-HRRP</td>\n",
       "      <td>Not Available</td>\n",
       "      <td>NaN</td>\n",
       "      <td>1.2844</td>\n",
       "      <td>8.0</td>\n",
       "      <td>6.2</td>\n",
       "      <td>NaN</td>\n",
       "      <td>07/01/2010</td>\n",
       "      <td>06/30/2013</td>\n",
       "    </tr>\n",
       "    <tr>\n",
       "      <th>111</th>\n",
       "      <td>CARNEY HOSPITAL</td>\n",
       "      <td>220017</td>\n",
       "      <td>MA</td>\n",
       "      <td>READM-30-HIP-KNEE-HRRP</td>\n",
       "      <td>Not Available</td>\n",
       "      <td>NaN</td>\n",
       "      <td>1.2782</td>\n",
       "      <td>7.3</td>\n",
       "      <td>5.7</td>\n",
       "      <td>NaN</td>\n",
       "      <td>07/01/2010</td>\n",
       "      <td>06/30/2013</td>\n",
       "    </tr>\n",
       "  </tbody>\n",
       "</table>\n",
       "</div>"
      ],
      "text/plain": [
       "                                Hospital Name  Provider Number State  \\\n",
       "62         DOCTORS HOSPITAL AT DEER CREEK LLC           190297    LA   \n",
       "92                          PARK RIDGE HEALTH           340023    NC   \n",
       "94            MEADOWS REGIONAL MEDICAL CENTER           110128    GA   \n",
       "103  WHEATON FRANCISCAN HEALTHCARE ST FRANCIS           520078    WI   \n",
       "111                           CARNEY HOSPITAL           220017    MA   \n",
       "\n",
       "               Measure Name Number of Discharges  Footnote  \\\n",
       "62   READM-30-HIP-KNEE-HRRP        Not Available       NaN   \n",
       "92   READM-30-HIP-KNEE-HRRP        Not Available       NaN   \n",
       "94   READM-30-HIP-KNEE-HRRP        Not Available       NaN   \n",
       "103  READM-30-HIP-KNEE-HRRP        Not Available       NaN   \n",
       "111  READM-30-HIP-KNEE-HRRP        Not Available       NaN   \n",
       "\n",
       "     Excess Readmission Ratio  Predicted Readmission Rate  \\\n",
       "62                     1.3287                         6.2   \n",
       "92                     1.2941                         5.7   \n",
       "94                     1.2915                         6.1   \n",
       "103                    1.2844                         8.0   \n",
       "111                    1.2782                         7.3   \n",
       "\n",
       "     Expected Readmission Rate  Number of Readmissions  Start Date    End Date  \n",
       "62                         4.7                     NaN  07/01/2010  06/30/2013  \n",
       "92                         4.4                     NaN  07/01/2010  06/30/2013  \n",
       "94                         4.7                     NaN  07/01/2010  06/30/2013  \n",
       "103                        6.2                     NaN  07/01/2010  06/30/2013  \n",
       "111                        5.7                     NaN  07/01/2010  06/30/2013  "
      ]
     },
     "execution_count": 11,
     "metadata": {},
     "output_type": "execute_result"
    }
   ],
   "source": [
    "print(len(df[df['Number of Discharges'].str.startswith('N')]))\n",
    "df[df['Number of Discharges'].str.startswith('N')].head()"
   ]
  },
  {
   "cell_type": "markdown",
   "metadata": {},
   "source": [
    "We see that, the number of discharges has 'Not Available' in the column."
   ]
  },
  {
   "cell_type": "code",
   "execution_count": 12,
   "metadata": {},
   "outputs": [
    {
     "name": "stdout",
     "output_type": "stream",
     "text": [
      "Percentage of 'Not Available' entries in the Number of discharges  31.32858837485172\n"
     ]
    }
   ],
   "source": [
    "print(\"Percentage of 'Not Available' entries in the Number of discharges \",\n",
    "      len(df[df['Number of Discharges'].str.startswith('N')])*100/df.shape[0])"
   ]
  },
  {
   "cell_type": "markdown",
   "metadata": {},
   "source": [
    "We have approximately 32% of data that we cannot used to study number of discharges and excess readmission rate ratio as they is no data available. Lets drop the data and explore for NaN values in the data"
   ]
  },
  {
   "cell_type": "code",
   "execution_count": 13,
   "metadata": {},
   "outputs": [
    {
     "name": "stdout",
     "output_type": "stream",
     "text": [
      "Hospital Name                     0\n",
      "Provider Number                   0\n",
      "State                             0\n",
      "Measure Name                      0\n",
      "Number of Discharges              0\n",
      "Footnote                      11497\n",
      "Excess Readmission Ratio         81\n",
      "Predicted Readmission Rate       81\n",
      "Expected Readmission Rate        81\n",
      "Number of Readmissions           81\n",
      "Start Date                        0\n",
      "End Date                          0\n",
      "dtype: int64\n",
      "---------------------------------------------------------------------------\n",
      "Percentage of Nan entries that are removed from data is:  0.699602694766\n"
     ]
    }
   ],
   "source": [
    "## Dropping 'Not avaiable' entries in the data\n",
    "df = df[df['Number of Discharges'].str.startswith('N') == False]\n",
    "print(df.isnull().sum())\n",
    "print(75*'-')\n",
    "print(\"Percentage of Nan entries that are removed from data is: \" ,df['Excess Readmission Ratio'].isnull().sum()*100/\n",
    "                                                                     df.shape[0])"
   ]
  },
  {
   "cell_type": "code",
   "execution_count": 14,
   "metadata": {},
   "outputs": [
    {
     "data": {
      "text/plain": [
       "Hospital Name                     0\n",
       "Provider Number                   0\n",
       "State                             0\n",
       "Measure Name                      0\n",
       "Number of Discharges              0\n",
       "Footnote                      11497\n",
       "Excess Readmission Ratio          0\n",
       "Predicted Readmission Rate        0\n",
       "Expected Readmission Rate         0\n",
       "Number of Readmissions            0\n",
       "Start Date                        0\n",
       "End Date                          0\n",
       "dtype: int64"
      ]
     },
     "execution_count": 14,
     "metadata": {},
     "output_type": "execute_result"
    }
   ],
   "source": [
    "## droping 'Nan'\n",
    "df.dropna(subset=['Excess Readmission Ratio','Predicted Readmission Rate',\n",
    "                  'Expected Readmission Rate','Number of Readmissions'], \n",
    "          inplace=True)\n",
    "\n",
    "df['Number of Discharges'] = df['Number of Discharges'].astype(int)\n",
    "df.isnull().sum()"
   ]
  },
  {
   "cell_type": "code",
   "execution_count": 15,
   "metadata": {},
   "outputs": [
    {
     "data": {
      "text/html": [
       "<div>\n",
       "<style>\n",
       "    .dataframe thead tr:only-child th {\n",
       "        text-align: right;\n",
       "    }\n",
       "\n",
       "    .dataframe thead th {\n",
       "        text-align: left;\n",
       "    }\n",
       "\n",
       "    .dataframe tbody tr th {\n",
       "        vertical-align: top;\n",
       "    }\n",
       "</style>\n",
       "<table border=\"1\" class=\"dataframe\">\n",
       "  <thead>\n",
       "    <tr style=\"text-align: right;\">\n",
       "      <th></th>\n",
       "      <th>Provider Number</th>\n",
       "      <th>Number of Discharges</th>\n",
       "      <th>Footnote</th>\n",
       "      <th>Excess Readmission Ratio</th>\n",
       "      <th>Predicted Readmission Rate</th>\n",
       "      <th>Expected Readmission Rate</th>\n",
       "      <th>Number of Readmissions</th>\n",
       "    </tr>\n",
       "  </thead>\n",
       "  <tbody>\n",
       "    <tr>\n",
       "      <th>count</th>\n",
       "      <td>11497.000000</td>\n",
       "      <td>11497.000000</td>\n",
       "      <td>0.0</td>\n",
       "      <td>11497.000000</td>\n",
       "      <td>11497.000000</td>\n",
       "      <td>11497.000000</td>\n",
       "      <td>11497.000000</td>\n",
       "    </tr>\n",
       "    <tr>\n",
       "      <th>mean</th>\n",
       "      <td>257571.540141</td>\n",
       "      <td>365.466209</td>\n",
       "      <td>NaN</td>\n",
       "      <td>1.007504</td>\n",
       "      <td>17.984292</td>\n",
       "      <td>17.865695</td>\n",
       "      <td>63.633731</td>\n",
       "    </tr>\n",
       "    <tr>\n",
       "      <th>std</th>\n",
       "      <td>154274.374018</td>\n",
       "      <td>308.754590</td>\n",
       "      <td>NaN</td>\n",
       "      <td>0.091964</td>\n",
       "      <td>5.487651</td>\n",
       "      <td>5.240749</td>\n",
       "      <td>59.540296</td>\n",
       "    </tr>\n",
       "    <tr>\n",
       "      <th>min</th>\n",
       "      <td>10001.000000</td>\n",
       "      <td>25.000000</td>\n",
       "      <td>NaN</td>\n",
       "      <td>0.549500</td>\n",
       "      <td>2.700000</td>\n",
       "      <td>3.900000</td>\n",
       "      <td>11.000000</td>\n",
       "    </tr>\n",
       "    <tr>\n",
       "      <th>25%</th>\n",
       "      <td>110129.000000</td>\n",
       "      <td>160.000000</td>\n",
       "      <td>NaN</td>\n",
       "      <td>0.952600</td>\n",
       "      <td>16.300000</td>\n",
       "      <td>16.600000</td>\n",
       "      <td>24.000000</td>\n",
       "    </tr>\n",
       "    <tr>\n",
       "      <th>50%</th>\n",
       "      <td>250042.000000</td>\n",
       "      <td>282.000000</td>\n",
       "      <td>NaN</td>\n",
       "      <td>1.003500</td>\n",
       "      <td>19.000000</td>\n",
       "      <td>19.000000</td>\n",
       "      <td>45.000000</td>\n",
       "    </tr>\n",
       "    <tr>\n",
       "      <th>75%</th>\n",
       "      <td>390039.000000</td>\n",
       "      <td>474.000000</td>\n",
       "      <td>NaN</td>\n",
       "      <td>1.058100</td>\n",
       "      <td>21.500000</td>\n",
       "      <td>21.400000</td>\n",
       "      <td>82.000000</td>\n",
       "    </tr>\n",
       "    <tr>\n",
       "      <th>max</th>\n",
       "      <td>670082.000000</td>\n",
       "      <td>6793.000000</td>\n",
       "      <td>NaN</td>\n",
       "      <td>1.909500</td>\n",
       "      <td>32.800000</td>\n",
       "      <td>28.000000</td>\n",
       "      <td>879.000000</td>\n",
       "    </tr>\n",
       "  </tbody>\n",
       "</table>\n",
       "</div>"
      ],
      "text/plain": [
       "       Provider Number  Number of Discharges  Footnote  \\\n",
       "count     11497.000000          11497.000000       0.0   \n",
       "mean     257571.540141            365.466209       NaN   \n",
       "std      154274.374018            308.754590       NaN   \n",
       "min       10001.000000             25.000000       NaN   \n",
       "25%      110129.000000            160.000000       NaN   \n",
       "50%      250042.000000            282.000000       NaN   \n",
       "75%      390039.000000            474.000000       NaN   \n",
       "max      670082.000000           6793.000000       NaN   \n",
       "\n",
       "       Excess Readmission Ratio  Predicted Readmission Rate  \\\n",
       "count              11497.000000                11497.000000   \n",
       "mean                   1.007504                   17.984292   \n",
       "std                    0.091964                    5.487651   \n",
       "min                    0.549500                    2.700000   \n",
       "25%                    0.952600                   16.300000   \n",
       "50%                    1.003500                   19.000000   \n",
       "75%                    1.058100                   21.500000   \n",
       "max                    1.909500                   32.800000   \n",
       "\n",
       "       Expected Readmission Rate  Number of Readmissions  \n",
       "count               11497.000000            11497.000000  \n",
       "mean                   17.865695               63.633731  \n",
       "std                     5.240749               59.540296  \n",
       "min                     3.900000               11.000000  \n",
       "25%                    16.600000               24.000000  \n",
       "50%                    19.000000               45.000000  \n",
       "75%                    21.400000               82.000000  \n",
       "max                    28.000000              879.000000  "
      ]
     },
     "execution_count": 15,
     "metadata": {},
     "output_type": "execute_result"
    }
   ],
   "source": [
    "## \n",
    "df.dtypes\n",
    "df.describe()"
   ]
  },
  {
   "cell_type": "markdown",
   "metadata": {},
   "source": [
    "### Based on the scatterplot above:\n",
    "What are the advantages and disadvantages of using this plot to convey information?\n",
    "\n",
    "Advantages:\n",
    "1. Visually pleasing and easy to read for amount of information.\n",
    "2. Provides green and red areas of focus.\n",
    " \n",
    "Disadvantages:\n",
    "1. Conveys too much information to draw simple conclusions.\n",
    "2. Green and red areas of focus are not the same as the statistical analyses used and are misleading.\n",
    "3. Seems to be taking odd slices of the data between [81:-3]\n",
    "4. Shows the data in a misleading way for what trends are actually happening"
   ]
  },
  {
   "cell_type": "code",
   "execution_count": 20,
   "metadata": {},
   "outputs": [
    {
     "data": {
      "text/plain": [
       "array([ 1,  2,  3,  4,  5,  6,  8, 14])"
      ]
     },
     "execution_count": 20,
     "metadata": {},
     "output_type": "execute_result"
    }
   ],
   "source": [
    "bins = np.arange(0,7500,500)\n",
    "df['binned_discharges'] = np.digitize(df['Number of Discharges'],bins = bins)\n",
    "\n",
    "np.unique(df['binned_discharges'])"
   ]
  },
  {
   "cell_type": "code",
   "execution_count": 17,
   "metadata": {
    "collapsed": true
   },
   "outputs": [],
   "source": [
    "rename_bins = {'binned_discharges':\n",
    "              {1 : \"0-499\", 1 : \"500-999\",2: \"1000-1499\", 3: \"1500-1999\", 4: \"2000-2499\", 5: \"2500-2999\",\n",
    "               6: \"3000-3499\",7: \"3500-3999\",8: \"4000-4499\",9: \"5000-5499\", 10: \"5500:5999\", 11: \"6000-6499\",\n",
    "               12: \"6500-6999\",13: \"7000-7499\", 14: \"7500-8000\"\n",
    "              }\n",
    "              }"
   ]
  },
  {
   "cell_type": "code",
   "execution_count": 21,
   "metadata": {},
   "outputs": [
    {
     "data": {
      "text/plain": [
       "array(['1000-1499', '1500-1999', '2000-2499', '2500-2999', '3000-3499',\n",
       "       '4000-4499', '500-999', '7500-8000'], dtype=object)"
      ]
     },
     "execution_count": 21,
     "metadata": {},
     "output_type": "execute_result"
    }
   ],
   "source": [
    "df.replace(rename_bins,inplace = True)\n",
    "import seaborn as sns\n",
    "np.unique(df['binned_discharges'])"
   ]
  },
  {
   "cell_type": "code",
   "execution_count": 19,
   "metadata": {},
   "outputs": [
    {
     "data": {
      "image/png": "[encoded data removed]",
      "text/plain": [
       "<matplotlib.figure.Figure at 0x10ea15b00>"
      ]
     },
     "metadata": {},
     "output_type": "display_data"
    }
   ],
   "source": [
    "ax = sns.boxplot(x = \"binned_discharges\", y = \"Excess Readmission Ratio\",data = df)\n",
    "fig = plt.gcf()\n",
    "fig.set_size_inches(15,10)\n",
    "ax.set_xlabel(' ')\n",
    "ax.set_ylabel(' ')\n",
    "plt.xlabel(\"Number of Discharges\")\n",
    "plt.ylabel(\"Excess Readmission Ratio\")\n",
    "plt.title('Variation in Excess Readmission Ratio for different discharge figures')\n",
    "plt.show()"
   ]
  }
 ],
 "metadata": {
  "anaconda-cloud": {},
  "kernelspec": {
   "display_name": "Python 3",
   "language": "python",
   "name": "python3"
  },
  "language_info": {
   "codemirror_mode": {
    "name": "ipython",
    "version": 3
   },
   "file_extension": ".py",
   "mimetype": "text/x-python",
   "name": "python",
   "nbconvert_exporter": "python",
   "pygments_lexer": "ipython3",
   "version": "3.6.3"
  }
 },
 "nbformat": 4,
 "nbformat_minor": 1
}
