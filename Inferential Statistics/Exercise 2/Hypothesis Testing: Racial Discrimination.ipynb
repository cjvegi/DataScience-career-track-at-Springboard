{
 "cells": [
  {
   "cell_type": "markdown",
   "metadata": {},
   "source": [
    "# Examining Racial Discrimination in the US Job Market\n",
    "\n",
    "### Background\n",
    "Racial discrimination continues to be pervasive in cultures throughout the world. Researchers examined the level of racial discrimination in the United States labor market by randomly assigning identical résumés to black-sounding or white-sounding names and observing the impact on requests for interviews from employers.\n",
    "\n",
    "### Data\n",
    "In the dataset provided, each row represents a resume. The 'race' column has two values, 'b' and 'w', indicating black-sounding and white-sounding. The column 'call' has two values, 1 and 0, indicating whether the resume received a call from employers or not.\n",
    "\n",
    "Note that the 'b' and 'w' values in race are assigned randomly to the resumes when presented to the employer."
   ]
  },
  {
   "cell_type": "markdown",
   "metadata": {},
   "source": [
    "### Exercises\n",
    "You will perform a statistical analysis to establish whether race has a significant impact on the rate of callbacks for resumes.\n",
    "\n",
    "Answer the following questions **in this notebook below and submit to your Github account**. \n",
    "\n",
    "   1. What test is appropriate for this problem? Does CLT apply?\n",
    "   2. What are the null and alternate hypotheses?\n",
    "   3. Compute margin of error, confidence interval, and p-value.\n",
    "   4. Write a story describing the statistical significance in the context or the original problem.\n",
    "   5. Does your analysis mean that race/name is the most important factor in callback success? Why or why not? If not, how would you amend your analysis?\n",
    "\n",
    "You can include written notes in notebook cells using Markdown: \n",
    "   - In the control panel at the top, choose Cell > Cell Type > Markdown\n",
    "   - Markdown syntax: http://nestacms.com/docs/creating-content/markdown-cheat-sheet\n",
    "\n",
    "\n",
    "#### Resources\n",
    "+ Experiment information and data source: http://www.povertyactionlab.org/evaluation/discrimination-job-market-united-states\n",
    "+ Scipy statistical methods: http://docs.scipy.org/doc/scipy/reference/stats.html \n",
    "+ Markdown syntax: http://nestacms.com/docs/creating-content/markdown-cheat-sheet\n",
    "****"
   ]
  },
  {
   "cell_type": "code",
   "execution_count": 1,
   "metadata": {
    "collapsed": true
   },
   "outputs": [],
   "source": [
    "import pandas as pd\n",
    "import numpy as np\n",
    "from scipy import stats"
   ]
  },
  {
   "cell_type": "code",
   "execution_count": 2,
   "metadata": {},
   "outputs": [
    {
     "data": {
      "text/html": [
       "<div>\n",
       "<style>\n",
       "    .dataframe thead tr:only-child th {\n",
       "        text-align: right;\n",
       "    }\n",
       "\n",
       "    .dataframe thead th {\n",
       "        text-align: left;\n",
       "    }\n",
       "\n",
       "    .dataframe tbody tr th {\n",
       "        vertical-align: top;\n",
       "    }\n",
       "</style>\n",
       "<table border=\"1\" class=\"dataframe\">\n",
       "  <thead>\n",
       "    <tr style=\"text-align: right;\">\n",
       "      <th></th>\n",
       "      <th>id</th>\n",
       "      <th>ad</th>\n",
       "      <th>education</th>\n",
       "      <th>ofjobs</th>\n",
       "      <th>yearsexp</th>\n",
       "      <th>honors</th>\n",
       "      <th>volunteer</th>\n",
       "      <th>military</th>\n",
       "      <th>empholes</th>\n",
       "      <th>occupspecific</th>\n",
       "      <th>...</th>\n",
       "      <th>compreq</th>\n",
       "      <th>orgreq</th>\n",
       "      <th>manuf</th>\n",
       "      <th>transcom</th>\n",
       "      <th>bankreal</th>\n",
       "      <th>trade</th>\n",
       "      <th>busservice</th>\n",
       "      <th>othservice</th>\n",
       "      <th>missind</th>\n",
       "      <th>ownership</th>\n",
       "    </tr>\n",
       "  </thead>\n",
       "  <tbody>\n",
       "    <tr>\n",
       "      <th>0</th>\n",
       "      <td>b</td>\n",
       "      <td>1</td>\n",
       "      <td>4</td>\n",
       "      <td>2</td>\n",
       "      <td>6</td>\n",
       "      <td>0</td>\n",
       "      <td>0</td>\n",
       "      <td>0</td>\n",
       "      <td>1</td>\n",
       "      <td>17</td>\n",
       "      <td>...</td>\n",
       "      <td>1.0</td>\n",
       "      <td>0.0</td>\n",
       "      <td>1.0</td>\n",
       "      <td>0.0</td>\n",
       "      <td>0.0</td>\n",
       "      <td>0.0</td>\n",
       "      <td>0.0</td>\n",
       "      <td>0.0</td>\n",
       "      <td>0.0</td>\n",
       "      <td></td>\n",
       "    </tr>\n",
       "    <tr>\n",
       "      <th>1</th>\n",
       "      <td>b</td>\n",
       "      <td>1</td>\n",
       "      <td>3</td>\n",
       "      <td>3</td>\n",
       "      <td>6</td>\n",
       "      <td>0</td>\n",
       "      <td>1</td>\n",
       "      <td>1</td>\n",
       "      <td>0</td>\n",
       "      <td>316</td>\n",
       "      <td>...</td>\n",
       "      <td>1.0</td>\n",
       "      <td>0.0</td>\n",
       "      <td>1.0</td>\n",
       "      <td>0.0</td>\n",
       "      <td>0.0</td>\n",
       "      <td>0.0</td>\n",
       "      <td>0.0</td>\n",
       "      <td>0.0</td>\n",
       "      <td>0.0</td>\n",
       "      <td></td>\n",
       "    </tr>\n",
       "    <tr>\n",
       "      <th>2</th>\n",
       "      <td>b</td>\n",
       "      <td>1</td>\n",
       "      <td>4</td>\n",
       "      <td>1</td>\n",
       "      <td>6</td>\n",
       "      <td>0</td>\n",
       "      <td>0</td>\n",
       "      <td>0</td>\n",
       "      <td>0</td>\n",
       "      <td>19</td>\n",
       "      <td>...</td>\n",
       "      <td>1.0</td>\n",
       "      <td>0.0</td>\n",
       "      <td>1.0</td>\n",
       "      <td>0.0</td>\n",
       "      <td>0.0</td>\n",
       "      <td>0.0</td>\n",
       "      <td>0.0</td>\n",
       "      <td>0.0</td>\n",
       "      <td>0.0</td>\n",
       "      <td></td>\n",
       "    </tr>\n",
       "    <tr>\n",
       "      <th>3</th>\n",
       "      <td>b</td>\n",
       "      <td>1</td>\n",
       "      <td>3</td>\n",
       "      <td>4</td>\n",
       "      <td>6</td>\n",
       "      <td>0</td>\n",
       "      <td>1</td>\n",
       "      <td>0</td>\n",
       "      <td>1</td>\n",
       "      <td>313</td>\n",
       "      <td>...</td>\n",
       "      <td>1.0</td>\n",
       "      <td>0.0</td>\n",
       "      <td>1.0</td>\n",
       "      <td>0.0</td>\n",
       "      <td>0.0</td>\n",
       "      <td>0.0</td>\n",
       "      <td>0.0</td>\n",
       "      <td>0.0</td>\n",
       "      <td>0.0</td>\n",
       "      <td></td>\n",
       "    </tr>\n",
       "    <tr>\n",
       "      <th>4</th>\n",
       "      <td>b</td>\n",
       "      <td>1</td>\n",
       "      <td>3</td>\n",
       "      <td>3</td>\n",
       "      <td>22</td>\n",
       "      <td>0</td>\n",
       "      <td>0</td>\n",
       "      <td>0</td>\n",
       "      <td>0</td>\n",
       "      <td>313</td>\n",
       "      <td>...</td>\n",
       "      <td>1.0</td>\n",
       "      <td>1.0</td>\n",
       "      <td>0.0</td>\n",
       "      <td>0.0</td>\n",
       "      <td>0.0</td>\n",
       "      <td>0.0</td>\n",
       "      <td>0.0</td>\n",
       "      <td>1.0</td>\n",
       "      <td>0.0</td>\n",
       "      <td>Nonprofit</td>\n",
       "    </tr>\n",
       "  </tbody>\n",
       "</table>\n",
       "<p>5 rows × 65 columns</p>\n",
       "</div>"
      ],
      "text/plain": [
       "  id ad  education  ofjobs  yearsexp  honors  volunteer  military  empholes  \\\n",
       "0  b  1          4       2         6       0          0         0         1   \n",
       "1  b  1          3       3         6       0          1         1         0   \n",
       "2  b  1          4       1         6       0          0         0         0   \n",
       "3  b  1          3       4         6       0          1         0         1   \n",
       "4  b  1          3       3        22       0          0         0         0   \n",
       "\n",
       "   occupspecific    ...      compreq  orgreq  manuf  transcom  bankreal trade  \\\n",
       "0             17    ...          1.0     0.0    1.0       0.0       0.0   0.0   \n",
       "1            316    ...          1.0     0.0    1.0       0.0       0.0   0.0   \n",
       "2             19    ...          1.0     0.0    1.0       0.0       0.0   0.0   \n",
       "3            313    ...          1.0     0.0    1.0       0.0       0.0   0.0   \n",
       "4            313    ...          1.0     1.0    0.0       0.0       0.0   0.0   \n",
       "\n",
       "  busservice othservice  missind  ownership  \n",
       "0        0.0        0.0      0.0             \n",
       "1        0.0        0.0      0.0             \n",
       "2        0.0        0.0      0.0             \n",
       "3        0.0        0.0      0.0             \n",
       "4        0.0        1.0      0.0  Nonprofit  \n",
       "\n",
       "[5 rows x 65 columns]"
      ]
     },
     "execution_count": 2,
     "metadata": {},
     "output_type": "execute_result"
    }
   ],
   "source": [
    "df = pd.io.stata.read_stata('us_job_market_discrimination.dta')\n",
    "df.head()"
   ]
  },
  {
   "cell_type": "code",
   "execution_count": 3,
   "metadata": {},
   "outputs": [
    {
     "name": "stdout",
     "output_type": "stream",
     "text": [
      "Index(['id', 'ad', 'education', 'ofjobs', 'yearsexp', 'honors', 'volunteer',\n",
      "       'military', 'empholes', 'occupspecific', 'occupbroad', 'workinschool',\n",
      "       'email', 'computerskills', 'specialskills', 'firstname', 'sex', 'race',\n",
      "       'h', 'l', 'call', 'city', 'kind', 'adid', 'fracblack', 'fracwhite',\n",
      "       'lmedhhinc', 'fracdropout', 'fraccolp', 'linc', 'col', 'expminreq',\n",
      "       'schoolreq', 'eoe', 'parent_sales', 'parent_emp', 'branch_sales',\n",
      "       'branch_emp', 'fed', 'fracblack_empzip', 'fracwhite_empzip',\n",
      "       'lmedhhinc_empzip', 'fracdropout_empzip', 'fraccolp_empzip',\n",
      "       'linc_empzip', 'manager', 'supervisor', 'secretary', 'offsupport',\n",
      "       'salesrep', 'retailsales', 'req', 'expreq', 'comreq', 'educreq',\n",
      "       'compreq', 'orgreq', 'manuf', 'transcom', 'bankreal', 'trade',\n",
      "       'busservice', 'othservice', 'missind', 'ownership'],\n",
      "      dtype='object')\n",
      "-------------------------------------------------------------------\n",
      "Number of Observations: 4870\n",
      "-------------------------------------------------------------------\n",
      "  race  call\n",
      "0    w   0.0\n",
      "1    w   0.0\n",
      "2    b   0.0\n",
      "3    b   0.0\n",
      "4    w   0.0\n",
      "5    w   0.0\n",
      "6    w   0.0\n",
      "7    b   0.0\n",
      "8    b   0.0\n",
      "9    b   0.0\n"
     ]
    }
   ],
   "source": [
    "print(df.columns)\n",
    "print('-------------------------------------------------------------------')\n",
    "print('Number of Observations:', df.shape[0])\n",
    "\n",
    "## We will use only columns of interest\n",
    "df = df[['race','call']]\n",
    "print('-------------------------------------------------------------------')\n",
    "print(df.head(10))"
   ]
  },
  {
   "cell_type": "code",
   "execution_count": 4,
   "metadata": {},
   "outputs": [
    {
     "name": "stdout",
     "output_type": "stream",
     "text": [
      "Number of missing values in the columns of interest is 0\n"
     ]
    }
   ],
   "source": [
    "## Checking for 'NaN' entires\n",
    "df.isnull().sum()\n",
    "\n",
    "print('Number of missing values in the columns of interest is',df.isnull().sum().sum())"
   ]
  },
  {
   "cell_type": "markdown",
   "metadata": {
    "collapsed": true
   },
   "source": [
    "## Problem\n",
    "We are trying to understand if race has impact on callback people get.If we consider getting a call back as success then for two races 'b' and 'w', we can proportion of success and failures. So, this boils to two sampled proportion test where we are trying to see if the difference between proportion of success(callbacks) between two races is statistically significant. So, we would use two sampled proportion test in answering our question.\n",
    "\n",
    "### Checking Assumptions\n",
    "1. Independent Random Samples: We are told that race is assigned randomly. Also, we can safely infer that a race getting call back doesn't effect call back in to another member of same race i.e., essentially we have independence within a sample.\n",
    "2. Normality: To perform hypothesis testing, we need to have number of success and number of failures greater than 10 only then success proportion is approx. normally distributed.  \n",
    "Lets check this assumption"
   ]
  },
  {
   "cell_type": "code",
   "execution_count": 5,
   "metadata": {},
   "outputs": [
    {
     "name": "stdout",
     "output_type": "stream",
     "text": [
      "Race b success(call back) success proportion is:  0.064476386037\n",
      "Race b success(call back) success proportion is:  0.0965092402464\n"
     ]
    }
   ],
   "source": [
    "### Race: 'b'\n",
    "b_num_succ = sum(df[df.race=='b'].call)\n",
    "b_num_trails = len(df[df.race == 'b'])\n",
    "b_prop_succ = b_num_succ/b_num_trails\n",
    "print('Race b success(call back) success proportion is: ', b_prop_succ)\n",
    "\n",
    "## Race = 'w\n",
    "w_num_succ = sum(df[df.race=='w'].call)\n",
    "w_num_trails = len(df[df.race == 'w'])\n",
    "w_prop_succ = w_num_succ/w_num_trails\n",
    "print('Race b success(call back) success proportion is: ', w_prop_succ)"
   ]
  },
  {
   "cell_type": "code",
   "execution_count": 6,
   "metadata": {},
   "outputs": [
    {
     "name": "stdout",
     "output_type": "stream",
     "text": [
      "race b success and failure:\n",
      "{'Number_of_success': 157.0, 'Number_of_failure': 2278.0}\n",
      "-------------------------------------------------------------------\n",
      "race w success and failure:\n",
      "{'Number_of_success': 235.0, 'Number_of_failure': 2200.0}\n"
     ]
    }
   ],
   "source": [
    "# Checking Normality assumptions\n",
    "\n",
    "#Race: 'b'\n",
    "b_test = dict({'Number_of_success': b_prop_succ * b_num_trails,\n",
    "              'Number_of_failure' : (1 - b_prop_succ) * b_num_trails\n",
    "              })\n",
    "print('race b success and failure:')\n",
    "print(b_test)\n",
    "\n",
    "print('-------------------------------------------------------------------')\n",
    "# Race: 'w'\n",
    "w_test = dict({'Number_of_success': w_prop_succ * w_num_trails,\n",
    "              'Number_of_failure' : (1 - w_prop_succ) * w_num_trails\n",
    "              })\n",
    "print('race w success and failure:')\n",
    "print(w_test)"
   ]
  },
  {
   "cell_type": "markdown",
   "metadata": {},
   "source": [
    "## Hypothesis Formulation\n",
    "We observe that number of success and failures in each case are greater than 10. Hence, success proportion approx.normal distriution. we can perfrom hypothesis testing now as requirements are met.\n",
    "\n",
    "we formulate the null and alternate hypotheses.\n",
    "\n",
    "$\\hat{p_b}$ = Success proportion for race 'b'   \n",
    "$\\hat{p_w}$ = Sucess proportion for race 'w'\n",
    "\n",
    "**NULL Hypothesis**: $H_0\\:is \\: \\hat{p_b} - \\hat{p_w} = 0$\n",
    "\n",
    "**Alternate Hypothesis:** $H_A \\:is \\: \\hat{p_b} - \\hat{p_w} \\neq 0$\n",
    "\n",
    "\n",
    "Lets, have **significance level ($\\alpha$):** 0.05 any p-value less than significance level we reject null hypothesis. Since, we are checking for difference between the two proportions we would use two-tailed test. If we were to see if one race gets more call backs than other we would perfrom one-tailed test."
   ]
  },
  {
   "cell_type": "markdown",
   "metadata": {},
   "source": [
    "## Margin of error\n",
    "Margin of error for the sample statistic is given by $\\sqrt{\\frac{\\hat{p}_b(1-\\hat{p}_b)}{n_b} + \\frac{\\hat{p}_w(1-\\hat{p}_w)}{n_w}} $  \n",
    "\n",
    "Since, we have sample data approx to a normal we use z-statistic to compute confidence interval. Hence, the margin of error is  $Z_{\\alpha/2} * SE$. For a 95% confidence interval, the z-value is 1.96.\n",
    "The confidence interval, subsequently, is $\\hat{p}_b - \\hat{p}_w \\pm {Z_{\\alpha/2} * SE}$"
   ]
  },
  {
   "cell_type": "code",
   "execution_count": 7,
   "metadata": {},
   "outputs": [
    {
     "name": "stdout",
     "output_type": "stream",
     "text": [
      "Margin of error =  0.0152554063499\n",
      "-------------------------------------------------------------------\n",
      "95% confidence interval for difference in proportion of success(call back) for races b and w is -0.0473 to -0.0168\n"
     ]
    }
   ],
   "source": [
    "## Calculating margin of error\n",
    "z = 1.96\n",
    "margin_error = z * np.sqrt(( b_prop_succ*(1-b_prop_succ) / \n",
    "                      b_num_trails) + (w_prop_succ*(1-w_prop_succ)/w_num_trails))\n",
    "\n",
    "print(\"Margin of error = \", margin_error)\n",
    "print('-------------------------------------------------------------------')\n",
    "print('95% confidence interval for difference in proportion of success(call back) for races b and w is',\n",
    "     round((b_prop_succ-w_prop_succ)-margin_error,4),'to',\n",
    "      round((b_prop_succ-w_prop_succ)+margin_error,4))"
   ]
  },
  {
   "cell_type": "markdown",
   "metadata": {},
   "source": [
    "We observe that our 95% confidence interval(CI) for difference between population proportion of getting call back shows race w is higher than race b. However, we need to check if this is statistically significant. Also, observe that the 95% CI does not cover 0."
   ]
  },
  {
   "cell_type": "code",
   "execution_count": 8,
   "metadata": {},
   "outputs": [
    {
     "name": "stdout",
     "output_type": "stream",
     "text": [
      "p_value obtained from test for difference of proportion of call back for races b and w is 3.98388683759e-05\n"
     ]
    }
   ],
   "source": [
    "## Hypothesis Testing two sample proportion\n",
    "from statsmodels.stats.proportion import proportions_ztest as p_z\n",
    "z_test_statistic, p_value = p_z([b_num_succ,w_num_succ],[b_num_trails,w_num_trails],\n",
    "                                value=0, alternative='two-sided')\n",
    "print('p_value obtained from test for difference of proportion of call back for races b and w is', p_value)"
   ]
  },
  {
   "cell_type": "markdown",
   "metadata": {},
   "source": [
    "We observe that the p_value less than significance($\\alpha$) of 0.05. Hence, we have evidence to reject null hypothesis. This implies that there significant difference in the number of call backs between white sounding names and black sounding names. This does not mean that race is significant factor for getting call backs as here we are only testing for difference between two races and call backs without any othe factors. \n",
    "\n",
    "However, in reality we have many factors like person's qualification for job, experiences and job fit. So, we need to dig into  understanding correlations and causation for call backs with respect to other factors. Hypothesis testing would only provide us testing our assumptions/beliefs and not correlations and causation between the variables."
   ]
  }
 ],
 "metadata": {
  "kernelspec": {
   "display_name": "Python 3",
   "language": "python",
   "name": "python3"
  },
  "language_info": {
   "codemirror_mode": {
    "name": "ipython",
    "version": 3
   },
   "file_extension": ".py",
   "mimetype": "text/x-python",
   "name": "python",
   "nbconvert_exporter": "python",
   "pygments_lexer": "ipython3",
   "version": "3.6.3"
  }
 },
 "nbformat": 4,
 "nbformat_minor": 1
}
