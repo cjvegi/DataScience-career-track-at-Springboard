{
 "cells": [
  {
   "cell_type": "code",
   "execution_count": null,
   "metadata": {
    "collapsed": true
   },
   "outputs": [],
   "source": [
    "## Check the current versions \n",
    "conda --version\n",
    "python --version\n",
    "\n",
    "## List of ennvironments\n",
    "conda info --envs\n",
    "or\n",
    "conda env list"
   ]
  },
  {
   "cell_type": "code",
   "execution_count": null,
   "metadata": {},
   "outputs": [],
   "source": [
    "## Creating envirnoment with specific version of python\n",
    "\n",
    "conda create -n python27 python=2.7\n",
    "\n",
    "## To install all the packages that come along with anaconda \n",
    "\n",
    "conda create -n python27 python=2.7 anaconda\n",
    "\n",
    "## To install specific packages\n",
    "\n",
    "conda create -n python27 python=2.7 scipy \n",
    "\n",
    "## To install list of packages \n",
    "\n",
    "conda create -n python27 python=3.4 scipy=0.15.0 astroid babel"
   ]
  },
  {
   "cell_type": "code",
   "execution_count": null,
   "metadata": {},
   "outputs": [],
   "source": [
    "## Activate environment\n",
    "source activate python27\n",
    "\n",
    "## List of packages in the environment\n",
    "conda list \n",
    "or \n",
    "conda list -n python27\n",
    "\n",
    "## Deactivate environment\n",
    "source deactivate"
   ]
  },
  {
   "cell_type": "code",
   "execution_count": null,
   "metadata": {
    "collapsed": true
   },
   "outputs": [],
   "source": [
    "## Exporting our environment\n",
    "conda env export > envtoshare.yml\n",
    "\n",
    "##cloning exisitng environment to a new environment\n",
    "conda create --name myclone --clone myenv"
   ]
  },
  {
   "cell_type": "code",
   "execution_count": null,
   "metadata": {},
   "outputs": [],
   "source": [
    "## Importing environment we created \n",
    "conda env create -f envtoshare.yml"
   ]
  },
  {
   "cell_type": "markdown",
   "metadata": {},
   "source": []
  },
  {
   "cell_type": "code",
   "execution_count": null,
   "metadata": {
    "collapsed": true
   },
   "outputs": [],
   "source": []
  }
 ],
 "metadata": {
  "kernelspec": {
   "display_name": "Python [conda root]",
   "language": "python",
   "name": "conda-root-py"
  },
  "language_info": {
   "codemirror_mode": {
    "name": "ipython",
    "version": 3
   },
   "file_extension": ".py",
   "mimetype": "text/x-python",
   "name": "python",
   "nbconvert_exporter": "python",
   "pygments_lexer": "ipython3",
   "version": "3.6.3"
  }
 },
 "nbformat": 4,
 "nbformat_minor": 2
}
