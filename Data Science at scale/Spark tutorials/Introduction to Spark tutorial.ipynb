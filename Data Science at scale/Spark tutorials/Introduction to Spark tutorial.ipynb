{
 "cells": [
  {
   "cell_type": "code",
   "execution_count": 1,
   "metadata": {
    "collapsed": true,
    "scrolled": true
   },
   "outputs": [],
   "source": [
    "%matplotlib inline\n",
    "import pandas as pd\n",
    "import seaborn as sns\n",
    "import matplotlib.pyplot as plt\n",
    "sns.set_context('notebook', font_scale=1.5)\n",
    "sns.set_style('white')\n",
    "pd.set_option('display.width', 500)\n",
    "pd.set_option('display.max_columns', 100)\n",
    "import numpy as np"
   ]
  },
  {
   "cell_type": "code",
   "execution_count": 2,
   "metadata": {
    "collapsed": true
   },
   "outputs": [],
   "source": [
    "import pyspark\n",
    "sc = pyspark.SparkContext()"
   ]
  },
  {
   "cell_type": "code",
   "execution_count": 3,
   "metadata": {
    "collapsed": true
   },
   "outputs": [],
   "source": [
    "import findspark\n",
    "findspark.init()"
   ]
  },
  {
   "cell_type": "code",
   "execution_count": 4,
   "metadata": {},
   "outputs": [
    {
     "name": "stdout",
     "output_type": "stream",
     "text": [
      "<class 'pyspark.rdd.PipelinedRDD'>\n"
     ]
    },
    {
     "data": {
      "text/plain": [
       "1"
      ]
     },
     "execution_count": 4,
     "metadata": {},
     "output_type": "execute_result"
    }
   ],
   "source": [
    "## Simple example\n",
    "\n",
    "list1 = sc.parallelize(range(1,1000))\n",
    "print(type(list1))\n",
    "\n",
    "## First element\n",
    "list1.first()"
   ]
  },
  {
   "cell_type": "markdown",
   "metadata": {},
   "source": [
    "### lambda"
   ]
  },
  {
   "cell_type": "code",
   "execution_count": 5,
   "metadata": {
    "collapsed": true
   },
   "outputs": [],
   "source": [
    "list2 = list1.map(lambda x: x*10)"
   ]
  },
  {
   "cell_type": "code",
   "execution_count": 6,
   "metadata": {},
   "outputs": [
    {
     "data": {
      "text/plain": [
       "4995000"
      ]
     },
     "execution_count": 6,
     "metadata": {},
     "output_type": "execute_result"
    }
   ],
   "source": [
    "## Reduce function output's a single value\n",
    "\n",
    "list2.reduce(lambda x,y:x+y)"
   ]
  },
  {
   "cell_type": "code",
   "execution_count": 7,
   "metadata": {
    "collapsed": true
   },
   "outputs": [],
   "source": [
    "## Filter function gives the list of values that satisfy a certain condition\n",
    "## collect method gives a list\n",
    "\n",
    "lis = list2.filter(lambda x: x%100 == 0).collect()"
   ]
  },
  {
   "cell_type": "markdown",
   "metadata": {},
   "source": [
    "Transformations Vs actions\n",
    "\n",
    "RDD methods of two kinds:\n",
    "1. Transformations:   \n",
    "    i.  Return another RDD  \n",
    "    ii. Are not performed until an action is called (lazy)\n",
    "2. Actions  \n",
    "    i.  Return a value other than an RDD  \n",
    "    ii. Performed immediately"
   ]
  },
  {
   "cell_type": "code",
   "execution_count": 8,
   "metadata": {},
   "outputs": [
    {
     "data": {
      "text/plain": [
       "26244"
      ]
     },
     "execution_count": 8,
     "metadata": {},
     "output_type": "execute_result"
    }
   ],
   "source": [
    "## Chaining \n",
    "\n",
    "sc.parallelize(range(1,10)).map(lambda x: x*x).filter(lambda x: x%3 ==0).reduce(lambda x,y:x*y)"
   ]
  },
  {
   "cell_type": "code",
   "execution_count": 9,
   "metadata": {},
   "outputs": [
    {
     "data": {
      "text/plain": [
       "'Orlando\\tM\\t40\\tPython'"
      ]
     },
     "execution_count": 9,
     "metadata": {},
     "output_type": "execute_result"
    }
   ],
   "source": [
    "## Loading data\n",
    "\n",
    "people = sc.textFile(\"data/people.txt\")\n",
    "people.first()"
   ]
  },
  {
   "cell_type": "code",
   "execution_count": 10,
   "metadata": {},
   "outputs": [
    {
     "data": {
      "text/plain": [
       "['Orlando', 'M', '40', 'Python']"
      ]
     },
     "execution_count": 10,
     "metadata": {},
     "output_type": "execute_result"
    }
   ],
   "source": [
    "people.map(lambda x: x.split('\\t')).first()"
   ]
  },
  {
   "cell_type": "code",
   "execution_count": 11,
   "metadata": {},
   "outputs": [
    {
     "data": {
      "text/plain": [
       "[['Orlando', 'M', '40', 'Python'],\n",
       " ['Lina', 'F', '39', 'C#'],\n",
       " ['John', 'M', '30', 'Python'],\n",
       " ['Jane', 'F', '32', 'Python'],\n",
       " ['Michelle', 'F', '18', 'Python'],\n",
       " ['Daniel', 'M', '20', 'C#']]"
      ]
     },
     "execution_count": 11,
     "metadata": {},
     "output_type": "execute_result"
    }
   ],
   "source": [
    "## one line code\n",
    "\n",
    "people = sc.textFile(\"data/people.txt\").map(lambda x: x.split('\\t'))\n",
    "people.take(10)"
   ]
  },
  {
   "cell_type": "code",
   "execution_count": 12,
   "metadata": {},
   "outputs": [
    {
     "data": {
      "text/plain": [
       "[('M', 3), ('F', 3)]"
      ]
     },
     "execution_count": 12,
     "metadata": {},
     "output_type": "execute_result"
    }
   ],
   "source": [
    "## Reduce by key\n",
    "\n",
    "people.map(lambda t: (t[1],1)).reduceByKey(lambda x,y:x+y).collect()"
   ]
  },
  {
   "cell_type": "code",
   "execution_count": 13,
   "metadata": {},
   "outputs": [
    {
     "data": {
      "text/plain": [
       "[('Python', 4), ('C#', 2)]"
      ]
     },
     "execution_count": 13,
     "metadata": {},
     "output_type": "execute_result"
    }
   ],
   "source": [
    "people.map(lambda t: (t[3],1)).reduceByKey(lambda x,y:x+y).collect()"
   ]
  },
  {
   "cell_type": "code",
   "execution_count": 14,
   "metadata": {},
   "outputs": [
    {
     "data": {
      "text/plain": [
       "[('M', 40), ('F', 39), ('M', 30), ('F', 32), ('F', 18), ('M', 20)]"
      ]
     },
     "execution_count": 14,
     "metadata": {},
     "output_type": "execute_result"
    }
   ],
   "source": [
    "people.map(lambda t: (t[1],int(t[2]))).collect()"
   ]
  },
  {
   "cell_type": "markdown",
   "metadata": {},
   "source": [
    "you can send files within nodes,  \n",
    "--py-files(.py,.zip,.egg)    \n",
    "--jars(java jars)  \n",
    "--packages, --repositories  \n",
    "--files to include arbitary files in home folder of executor\n",
    "\n",
    "get ouf of pyspark\n",
    "ctrl-D\n"
   ]
  },
  {
   "cell_type": "code",
   "execution_count": 15,
   "metadata": {},
   "outputs": [],
   "source": [
    "#sc.addPyFile(\"data/person.py\")\n",
    "\n",
    "#import person\n",
    "#people = sc.textFile(\"data/people.txt\").map(lambda l: people.Person().parse(l))"
   ]
  },
  {
   "cell_type": "code",
   "execution_count": 16,
   "metadata": {},
   "outputs": [],
   "source": [
    "## all .txt files will be loaded\n",
    "sales = sc.textFile(\"data/sales/sales_*.txt\")"
   ]
  },
  {
   "cell_type": "code",
   "execution_count": 21,
   "metadata": {},
   "outputs": [
    {
     "data": {
      "text/plain": [
       "['2014-01-01\\t1\\t1\\t100',\n",
       " '2014-01-01\\t1\\t2\\t37',\n",
       " '2014-01-01\\t1\\t3\\t54',\n",
       " '2014-01-01\\t2\\t1\\t50',\n",
       " '2014-01-01\\t2\\t2\\t40',\n",
       " '2014-01-01\\t3\\t1\\t75',\n",
       " '2014-01-01\\t4\\t4\\t1',\n",
       " '2014-01-02\\t1\\t1\\t10',\n",
       " '2014-01-02\\t1\\t2\\t31',\n",
       " '2014-01-02\\t1\\t3\\t5']"
      ]
     },
     "execution_count": 21,
     "metadata": {},
     "output_type": "execute_result"
    }
   ],
   "source": [
    "sales.take(10)"
   ]
  },
  {
   "cell_type": "code",
   "execution_count": 27,
   "metadata": {},
   "outputs": [
    {
     "data": {
      "text/plain": [
       "[('DE', ('324', 23)), ('AL', ('123', 12)), ('ED', ('213', 34))]"
      ]
     },
     "execution_count": 27,
     "metadata": {},
     "output_type": "execute_result"
    }
   ],
   "source": [
    "## join example\n",
    "\n",
    "states = [ (\"AL\",\"123\"),\n",
    "          (\"DE\",\"324\"),\n",
    "          (\"ED\",\"213\")\n",
    "         ]\n",
    "\n",
    "pop = [(\"AL\",12),\n",
    "      (\"DE\",23),\n",
    "      (\"ED\",34)\n",
    "      ]\n",
    "\n",
    "states_rdd = sc.parallelize(states)\n",
    "pop_rdd = sc.parallelize(pop)\n",
    "\n",
    "states_rdd.join(pop_rdd).collect()"
   ]
  },
  {
   "cell_type": "code",
   "execution_count": null,
   "metadata": {},
   "outputs": [],
   "source": []
  },
  {
   "cell_type": "code",
   "execution_count": null,
   "metadata": {
    "collapsed": true
   },
   "outputs": [],
   "source": []
  }
 ],
 "metadata": {
  "kernelspec": {
   "display_name": "Python 3",
   "language": "python",
   "name": "python3"
  },
  "language_info": {
   "codemirror_mode": {
    "name": "ipython",
    "version": 3
   },
   "file_extension": ".py",
   "mimetype": "text/x-python",
   "name": "python",
   "nbconvert_exporter": "python",
   "pygments_lexer": "ipython3",
   "version": "3.6.3"
  }
 },
 "nbformat": 4,
 "nbformat_minor": 2
}
