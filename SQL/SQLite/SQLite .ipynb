{
 "cells": [
  {
   "cell_type": "markdown",
   "metadata": {},
   "source": [
    "## SQLite3\n",
    "\n",
    "#### In this notebook we will refresh our SQL syntax. \n",
    "\n",
    "#### Contents:  \n",
    "\n",
    "1. Creating Database   \n",
    "2. Populating the Database  \n",
    "3. Extracting data from created database   \n",
    "4. Update and Deleting entires in the database  \n",
    "5. Webscraping and storing in SQLite.  \n"
   ]
  },
  {
   "cell_type": "code",
   "execution_count": 1,
   "metadata": {},
   "outputs": [
    {
     "data": {
      "text/plain": [
       "ModuleSpec(name='sqlite3', loader=<_frozen_importlib_external.SourceFileLoader object at 0x10e9da390>, origin='/Users/bobbyvegi/anaconda3/lib/python3.6/sqlite3/__init__.py', submodule_search_locations=['/Users/bobbyvegi/anaconda3/lib/python3.6/sqlite3'])"
      ]
     },
     "execution_count": 1,
     "metadata": {},
     "output_type": "execute_result"
    }
   ],
   "source": [
    "## Loading required libraries\n",
    "\n",
    "import sqlite3\n",
    "sqlite3.__spec__"
   ]
  },
  {
   "cell_type": "code",
   "execution_count": 2,
   "metadata": {},
   "outputs": [
    {
     "data": {
      "text/plain": [
       "sqlite3.Cursor"
      ]
     },
     "execution_count": 2,
     "metadata": {},
     "output_type": "execute_result"
    }
   ],
   "source": [
    "## Creating a database\n",
    "\n",
    "con = sqlite3.connect('first_db.db')\n",
    "c = con.cursor()\n",
    "\n",
    "type(c)"
   ]
  },
  {
   "cell_type": "code",
   "execution_count": 3,
   "metadata": {},
   "outputs": [],
   "source": [
    "# Creating useful functions\n",
    "\n",
    "def create_table():\n",
    "    \"\"\"\n",
    "    Creating a table. 'our_data' is name of the table created in the database.\n",
    "    'CREATE TABLE IF NOT EXISTS' -  SQL command\n",
    "    \"\"\"\n",
    "    c.execute('CREATE TABLE IF NOT EXISTS our_data(datastamp TEXT, event TEXT, name TEXT)')\n",
    "    \n",
    "\n",
    "def data_entry():\n",
    "    \"\"\"\n",
    "    Entering data \n",
    "    \"\"\"\n",
    "    c.execute('INSERT INTO our_data VALUES(\"2017-02-13\",\"Birthday\",\"Haripria\")')\n",
    "    con.commit()\n",
    "    #c.close()\n",
    "    #con.close()\n",
    "        "
   ]
  },
  {
   "cell_type": "code",
   "execution_count": 4,
   "metadata": {},
   "outputs": [],
   "source": [
    "## Creating table in the database\n",
    "create_table()\n",
    "\n",
    "## populating data base\n",
    "\n",
    "data_entry()"
   ]
  },
  {
   "cell_type": "code",
   "execution_count": 5,
   "metadata": {
    "collapsed": true
   },
   "outputs": [],
   "source": [
    "## Import\n",
    "\n",
    "import datetime\n",
    "import random\n",
    "import time"
   ]
  },
  {
   "cell_type": "code",
   "execution_count": 6,
   "metadata": {
    "collapsed": true
   },
   "outputs": [],
   "source": [
    "## Dynamically creating data\n",
    "\n",
    "names = ['Haripria','vegi', 'Alex']\n",
    "events = ['Birthday','Random', 'party']\n",
    "\n",
    "def dynamic_data_fill():\n",
    "    \"\"\"\n",
    "    Function to populate the database\n",
    "    \"\"\"\n",
    "    date = str(datetime.datetime.fromtimestamp(time.time()).strftime('%Y-%m-%d %H:%M:%S'))\n",
    "    name = random.choice(names)\n",
    "    event = random.choice(events)\n",
    "    c.execute(\"INSERT INTO our_data VALUES (?,?,?)\", (date,event,name))\n",
    "    con.commit()    "
   ]
  },
  {
   "cell_type": "code",
   "execution_count": 7,
   "metadata": {},
   "outputs": [],
   "source": [
    "# Creating new table\n",
    "create_table()\n",
    "\n",
    "## Loop over data fill function to populate database\n",
    "for i in range(100):\n",
    "    dynamic_data_fill()\n",
    "    ## Can add stop between runs\n",
    "    #time.sleep(1)\n",
    "\n",
    "## Closing connection after execution\n",
    "\n",
    "#c.close()\n",
    "#con.close()"
   ]
  },
  {
   "cell_type": "markdown",
   "metadata": {},
   "source": [
    "### Working with the database created"
   ]
  },
  {
   "cell_type": "code",
   "execution_count": 8,
   "metadata": {},
   "outputs": [],
   "source": [
    "def read_db(arg):\n",
    "    i = 0\n",
    "    c.execute('SELECT {} FROM our_data'.format(arg))\n",
    "    for row in c.fetchall():\n",
    "        i = i+1\n",
    "        print(row)\n",
    "        if i == 10:\n",
    "            break\n",
    "            \n",
    "## We could also fetchmany instead of fetchall() method to see few rows at a tiem"
   ]
  },
  {
   "cell_type": "code",
   "execution_count": 9,
   "metadata": {},
   "outputs": [
    {
     "name": "stdout",
     "output_type": "stream",
     "text": [
      "('2017-02-13', 'Birthday', 'Haripria')\n",
      "('2018-02-05 21:22:27', 'party', 'Haripria')\n",
      "('2018-02-05 21:22:27', 'Birthday', 'vegi')\n",
      "('2018-02-05 21:22:27', 'party', 'vegi')\n",
      "('2018-02-05 21:22:27', 'party', 'Alex')\n",
      "('2018-02-05 21:22:27', 'Birthday', 'Haripria')\n",
      "('2018-02-05 21:22:27', 'Birthday', 'vegi')\n",
      "('2018-02-05 21:22:27', 'party', 'Alex')\n",
      "('2018-02-05 21:22:27', 'Random', 'vegi')\n",
      "('2018-02-05 21:22:27', 'Birthday', 'vegi')\n"
     ]
    }
   ],
   "source": [
    "## Selecting entire data set\n",
    "read_db('*')"
   ]
  },
  {
   "cell_type": "code",
   "execution_count": 10,
   "metadata": {},
   "outputs": [
    {
     "name": "stdout",
     "output_type": "stream",
     "text": [
      "('Haripria',)\n",
      "('Haripria',)\n",
      "('vegi',)\n",
      "('vegi',)\n",
      "('Alex',)\n",
      "('Haripria',)\n",
      "('vegi',)\n",
      "('Alex',)\n",
      "('vegi',)\n",
      "('vegi',)\n"
     ]
    }
   ],
   "source": [
    "## Specific Columns\n",
    "read_db('name')"
   ]
  },
  {
   "cell_type": "code",
   "execution_count": 11,
   "metadata": {},
   "outputs": [
    {
     "data": {
      "text/plain": [
       "[('2018-02-05 21:22:27', 'party', 'Haripria'),\n",
       " ('2018-02-05 21:22:27', 'Birthday', 'vegi'),\n",
       " ('2018-02-05 21:22:27', 'party', 'vegi'),\n",
       " ('2018-02-05 21:22:27', 'party', 'Alex'),\n",
       " ('2018-02-05 21:22:27', 'Birthday', 'Haripria'),\n",
       " ('2018-02-05 21:22:27', 'Birthday', 'vegi'),\n",
       " ('2018-02-05 21:22:27', 'party', 'Alex'),\n",
       " ('2018-02-05 21:22:27', 'Random', 'vegi'),\n",
       " ('2018-02-05 21:22:27', 'Birthday', 'vegi'),\n",
       " ('2018-02-05 21:22:27', 'party', 'vegi')]"
      ]
     },
     "execution_count": 11,
     "metadata": {},
     "output_type": "execute_result"
    }
   ],
   "source": [
    "## Where clause\n",
    "\n",
    "c.execute(\"SELECT * FROM our_data WHERE datastamp > '2018-02-05 19:38:35' \")\n",
    "c.fetchmany(10)"
   ]
  },
  {
   "cell_type": "code",
   "execution_count": 12,
   "metadata": {},
   "outputs": [
    {
     "data": {
      "text/plain": [
       "[('2018-02-05 21:22:27', 'Birthday', 'vegi'),\n",
       " ('2018-02-05 21:22:27', 'Birthday', 'Haripria'),\n",
       " ('2018-02-05 21:22:27', 'Birthday', 'vegi'),\n",
       " ('2018-02-05 21:22:27', 'Birthday', 'vegi'),\n",
       " ('2018-02-05 21:22:27', 'Birthday', 'vegi'),\n",
       " ('2018-02-05 21:22:27', 'Birthday', 'Haripria'),\n",
       " ('2018-02-05 21:22:27', 'Birthday', 'Haripria'),\n",
       " ('2018-02-05 21:22:27', 'Birthday', 'Haripria'),\n",
       " ('2018-02-05 21:22:27', 'Birthday', 'Haripria'),\n",
       " ('2018-02-05 21:22:27', 'Birthday', 'Alex')]"
      ]
     },
     "execution_count": 12,
     "metadata": {},
     "output_type": "execute_result"
    }
   ],
   "source": [
    "## Multiple conditions \n",
    "\n",
    "c.execute(\"SELECT * FROM our_data WHERE datastamp > '2018-02-05 19:38:35' AND event = 'Birthday' \")\n",
    "c.fetchmany(10)"
   ]
  },
  {
   "cell_type": "markdown",
   "metadata": {},
   "source": [
    "### Updating"
   ]
  },
  {
   "cell_type": "code",
   "execution_count": 13,
   "metadata": {},
   "outputs": [],
   "source": [
    "def update_data():\n",
    "    c.execute('SELECT * FROM our_data')\n",
    "    c.execute('UPDATE our_data SET event = \"vacation\" WHERE event = \"Random\"')\n",
    "    con.commit()\n",
    "    c.execute('SELECT * FROM our_data') \n",
    "    return c.fetchmany(20)"
   ]
  },
  {
   "cell_type": "code",
   "execution_count": 14,
   "metadata": {},
   "outputs": [
    {
     "data": {
      "text/plain": [
       "[('2017-02-13', 'Birthday', 'Haripria'),\n",
       " ('2018-02-05 21:22:27', 'party', 'Haripria'),\n",
       " ('2018-02-05 21:22:27', 'Birthday', 'vegi'),\n",
       " ('2018-02-05 21:22:27', 'party', 'vegi'),\n",
       " ('2018-02-05 21:22:27', 'party', 'Alex'),\n",
       " ('2018-02-05 21:22:27', 'Birthday', 'Haripria'),\n",
       " ('2018-02-05 21:22:27', 'Birthday', 'vegi'),\n",
       " ('2018-02-05 21:22:27', 'party', 'Alex'),\n",
       " ('2018-02-05 21:22:27', 'vacation', 'vegi'),\n",
       " ('2018-02-05 21:22:27', 'Birthday', 'vegi'),\n",
       " ('2018-02-05 21:22:27', 'party', 'vegi'),\n",
       " ('2018-02-05 21:22:27', 'Birthday', 'vegi'),\n",
       " ('2018-02-05 21:22:27', 'vacation', 'Alex'),\n",
       " ('2018-02-05 21:22:27', 'party', 'vegi'),\n",
       " ('2018-02-05 21:22:27', 'Birthday', 'Haripria'),\n",
       " ('2018-02-05 21:22:27', 'vacation', 'Alex'),\n",
       " ('2018-02-05 21:22:27', 'Birthday', 'Haripria'),\n",
       " ('2018-02-05 21:22:27', 'Birthday', 'Haripria'),\n",
       " ('2018-02-05 21:22:27', 'Birthday', 'Haripria'),\n",
       " ('2018-02-05 21:22:27', 'vacation', 'vegi')]"
      ]
     },
     "execution_count": 14,
     "metadata": {},
     "output_type": "execute_result"
    }
   ],
   "source": [
    "update_data()"
   ]
  },
  {
   "cell_type": "code",
   "execution_count": 15,
   "metadata": {},
   "outputs": [
    {
     "data": {
      "text/plain": [
       "[('2017-02-13', 'Birthday', 'Haripria'),\n",
       " ('2018-02-05 21:22:27', 'party', 'Haripria'),\n",
       " ('2018-02-05 21:22:27', 'Birthday', 'vegi'),\n",
       " ('2018-02-05 21:22:27', 'party', 'vegi'),\n",
       " ('2018-02-05 21:22:27', 'Birthday', 'Haripria'),\n",
       " ('2018-02-05 21:22:27', 'Birthday', 'vegi'),\n",
       " ('2018-02-05 21:22:27', 'vacation', 'vegi'),\n",
       " ('2018-02-05 21:22:27', 'Birthday', 'vegi'),\n",
       " ('2018-02-05 21:22:27', 'party', 'vegi'),\n",
       " ('2018-02-05 21:22:27', 'Birthday', 'vegi'),\n",
       " ('2018-02-05 21:22:27', 'party', 'vegi'),\n",
       " ('2018-02-05 21:22:27', 'Birthday', 'Haripria'),\n",
       " ('2018-02-05 21:22:27', 'Birthday', 'Haripria'),\n",
       " ('2018-02-05 21:22:27', 'Birthday', 'Haripria'),\n",
       " ('2018-02-05 21:22:27', 'Birthday', 'Haripria'),\n",
       " ('2018-02-05 21:22:27', 'vacation', 'vegi'),\n",
       " ('2018-02-05 21:22:27', 'vacation', 'vegi'),\n",
       " ('2018-02-05 21:22:27', 'Birthday', 'Haripria'),\n",
       " ('2018-02-05 21:22:27', 'Birthday', 'vegi'),\n",
       " ('2018-02-05 21:22:27', 'Birthday', 'Haripria')]"
      ]
     },
     "execution_count": 15,
     "metadata": {},
     "output_type": "execute_result"
    }
   ],
   "source": [
    "c.execute('DELETE FROM our_data WHERE name = \"Alex\"')\n",
    "con.commit()\n",
    "c.execute('SELECT * FROM our_data') \n",
    "c.fetchmany(20) "
   ]
  },
  {
   "cell_type": "markdown",
   "metadata": {},
   "source": [
    "### Webscraping to be continued"
   ]
  },
  {
   "cell_type": "code",
   "execution_count": null,
   "metadata": {
    "collapsed": true
   },
   "outputs": [],
   "source": []
  }
 ],
 "metadata": {
  "kernelspec": {
   "display_name": "Python [conda root]",
   "language": "python",
   "name": "conda-root-py"
  },
  "language_info": {
   "codemirror_mode": {
    "name": "ipython",
    "version": 3
   },
   "file_extension": ".py",
   "mimetype": "text/x-python",
   "name": "python",
   "nbconvert_exporter": "python",
   "pygments_lexer": "ipython3",
   "version": "3.6.3"
  }
 },
 "nbformat": 4,
 "nbformat_minor": 2
}
