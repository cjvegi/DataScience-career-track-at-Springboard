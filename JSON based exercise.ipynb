{
 "cells": [
  {
   "cell_type": "markdown",
   "metadata": {},
   "source": [
    "## Excercises on JSON data\n",
    "* To get familiar with packages for dealing with JSON\n",
    "* Study examples with JSON strings and files\n",
    "* Work on exercise to be completed and submitted\n",
    "\n",
    "## Objective\n",
    "Using data in file 'data/world_bank_projects.json' and the techniques demonstrated above,\n",
    "1. Find the 10 countries with most projects\n",
    "2. Find the top 10 major project themes (using column 'mjtheme_namecode')\n",
    "3. In 2. above you will notice that some entries have only the code and the name is missing. Create a dataframe with the missing names filled in."
   ]
  },
  {
   "cell_type": "code",
   "execution_count": 1,
   "metadata": {
    "collapsed": true
   },
   "outputs": [],
   "source": [
    "## Importing required packages\n",
    "import pandas as pd\n",
    "import numpy as np\n",
    "import json\n",
    "import json\n",
    "from pandas.io.json import json_normalize"
   ]
  },
  {
   "cell_type": "code",
   "execution_count": 2,
   "metadata": {
    "collapsed": false
   },
   "outputs": [
    {
     "name": "stdout",
     "output_type": "stream",
     "text": [
      "<class 'list'>\n"
     ]
    }
   ],
   "source": [
    "## Loading the data using context manager\n",
    "\n",
    "with open(\"world_bank_projects.json\") as world_bank_file:\n",
    "    world_bank_data = json.load(world_bank_file)\n",
    "    \n",
    "## examing the type of loaded data.\n",
    "print(type(world_bank_data))\n"
   ]
  },
  {
   "cell_type": "markdown",
   "metadata": {},
   "source": [
    "Data type of loaded JSON file is 'list'. List can contain various data types in it.Working on loaded file with context manager for this exercise quite be tricky(performing data wrangling operations faster). we would load the JSON file using pandas as type 'DataFrame' which will help us use the suite of tools designed mainly for data wrangling operations in pandas.\n",
    "However, lets examine the data first,"
   ]
  },
  {
   "cell_type": "code",
   "execution_count": 3,
   "metadata": {
    "collapsed": false,
    "scrolled": true
   },
   "outputs": [
    {
     "data": {
      "text/plain": [
       "{'_id': {'$oid': '52b213b38594d8a2be17c781'},\n",
       " 'approvalfy': 2015,\n",
       " 'board_approval_month': 'November',\n",
       " 'boardapprovaldate': '2013-11-04T00:00:00Z',\n",
       " 'borrower': 'GOVERNMENT OF TUNISIA',\n",
       " 'country_namecode': 'Republic of Tunisia!$!TN',\n",
       " 'countrycode': 'TN',\n",
       " 'countryname': 'Republic of Tunisia',\n",
       " 'countryshortname': 'Tunisia',\n",
       " 'docty': 'Project Information Document,Integrated Safeguards Data Sheet,Integrated Safeguards Data Sheet,Project Information Document,Integrated Safeguards Data Sheet,Project Information Document',\n",
       " 'envassesmentcategorycode': 'C',\n",
       " 'grantamt': 4700000,\n",
       " 'ibrdcommamt': 0,\n",
       " 'id': 'P144674',\n",
       " 'idacommamt': 0,\n",
       " 'impagency': 'MINISTRY OF FINANCE',\n",
       " 'lendinginstr': 'Specific Investment Loan',\n",
       " 'lendinginstrtype': 'IN',\n",
       " 'lendprojectcost': 5700000,\n",
       " 'majorsector_percent': [{'Name': 'Public Administration, Law, and Justice',\n",
       "   'Percent': 70},\n",
       "  {'Name': 'Public Administration, Law, and Justice', 'Percent': 30}],\n",
       " 'mjsector_namecode': [{'code': 'BX',\n",
       "   'name': 'Public Administration, Law, and Justice'},\n",
       "  {'code': 'BX', 'name': 'Public Administration, Law, and Justice'}],\n",
       " 'mjtheme': ['Economic management', 'Social protection and risk management'],\n",
       " 'mjtheme_namecode': [{'code': '1', 'name': 'Economic management'},\n",
       "  {'code': '6', 'name': 'Social protection and risk management'}],\n",
       " 'mjthemecode': '1,6',\n",
       " 'prodline': 'RE',\n",
       " 'prodlinetext': 'Recipient Executed Activities',\n",
       " 'productlinetype': 'L',\n",
       " 'project_name': 'TN: DTF Social Protection Reforms Support',\n",
       " 'projectdocs': [{'DocDate': '29-MAR-2013',\n",
       "   'DocType': 'PID',\n",
       "   'DocTypeDesc': 'Project Information Document (PID),  Vol.1 of 1',\n",
       "   'DocURL': 'http://www-wds.worldbank.org/servlet/WDSServlet?pcont=details&eid=000333037_20131024115616',\n",
       "   'EntityID': '000333037_20131024115616'},\n",
       "  {'DocDate': '29-MAR-2013',\n",
       "   'DocType': 'ISDS',\n",
       "   'DocTypeDesc': 'Integrated Safeguards Data Sheet (ISDS),  Vol.1 of 1',\n",
       "   'DocURL': 'http://www-wds.worldbank.org/servlet/WDSServlet?pcont=details&eid=000356161_20131024151611',\n",
       "   'EntityID': '000356161_20131024151611'},\n",
       "  {'DocDate': '29-MAR-2013',\n",
       "   'DocType': 'ISDS',\n",
       "   'DocTypeDesc': 'Integrated Safeguards Data Sheet (ISDS),  Vol.1 of 1',\n",
       "   'DocURL': 'http://www-wds.worldbank.org/servlet/WDSServlet?pcont=details&eid=000442464_20131031112136',\n",
       "   'EntityID': '000442464_20131031112136'},\n",
       "  {'DocDate': '29-MAR-2013',\n",
       "   'DocType': 'PID',\n",
       "   'DocTypeDesc': 'Project Information Document (PID),  Vol.1 of 1',\n",
       "   'DocURL': 'http://www-wds.worldbank.org/servlet/WDSServlet?pcont=details&eid=000333037_20131031105716',\n",
       "   'EntityID': '000333037_20131031105716'},\n",
       "  {'DocDate': '16-JAN-2013',\n",
       "   'DocType': 'ISDS',\n",
       "   'DocTypeDesc': 'Integrated Safeguards Data Sheet (ISDS),  Vol.1 of 1',\n",
       "   'DocURL': 'http://www-wds.worldbank.org/servlet/WDSServlet?pcont=details&eid=000356161_20130305113209',\n",
       "   'EntityID': '000356161_20130305113209'},\n",
       "  {'DocDate': '16-JAN-2013',\n",
       "   'DocType': 'PID',\n",
       "   'DocTypeDesc': 'Project Information Document (PID),  Vol.1 of 1',\n",
       "   'DocURL': 'http://www-wds.worldbank.org/servlet/WDSServlet?pcont=details&eid=000356161_20130305113716',\n",
       "   'EntityID': '000356161_20130305113716'}],\n",
       " 'projectfinancialtype': 'OTHER',\n",
       " 'projectstatusdisplay': 'Active',\n",
       " 'regionname': 'Middle East and North Africa',\n",
       " 'sector': [{'Name': 'Public administration- Other social services'},\n",
       "  {'Name': 'General public administration sector'}],\n",
       " 'sector1': {'Name': 'Public administration- Other social services',\n",
       "  'Percent': 70},\n",
       " 'sector2': {'Name': 'General public administration sector', 'Percent': 30},\n",
       " 'sector_namecode': [{'code': 'BS',\n",
       "   'name': 'Public administration- Other social services'},\n",
       "  {'code': 'BZ', 'name': 'General public administration sector'}],\n",
       " 'sectorcode': 'BZ,BS',\n",
       " 'source': 'IBRD',\n",
       " 'status': 'Active',\n",
       " 'supplementprojectflg': 'N',\n",
       " 'theme1': {'Name': 'Other economic management', 'Percent': 30},\n",
       " 'theme_namecode': [{'code': '24', 'name': 'Other economic management'},\n",
       "  {'code': '54', 'name': 'Social safety nets'}],\n",
       " 'themecode': '54,24',\n",
       " 'totalamt': 0,\n",
       " 'totalcommamt': 4700000,\n",
       " 'url': 'http://www.worldbank.org/projects/P144674?lang=en'}"
      ]
     },
     "execution_count": 3,
     "metadata": {},
     "output_type": "execute_result"
    }
   ],
   "source": [
    "world_bank_data[1]"
   ]
  },
  {
   "cell_type": "markdown",
   "metadata": {},
   "source": [
    "We see the world_bank_data contains dictionaries in the list. Data contains project granted to nations for different sectors and information regarding the cost of project, duration, major sector classification etc."
   ]
  },
  {
   "cell_type": "markdown",
   "metadata": {},
   "source": [
    "No exploring different keys in the data. This is for getting a good understanding of what your data contains. The below code give the key value pairs in the data.However, it is code is commented as the output for the purpose of avoiding use space consumption."
   ]
  },
  {
   "cell_type": "code",
   "execution_count": 4,
   "metadata": {
    "collapsed": true
   },
   "outputs": [],
   "source": [
    "## visualizing the keys in the data\n",
    "# for k in world_bank_data:\n",
    "#     for key, value in k.items():\n",
    "#         print(key, value)"
   ]
  },
  {
   "cell_type": "markdown",
   "metadata": {},
   "source": [
    "Loading JSON file using pandas.This methods of using pandas to load JSON outputs a data frame that is helpful later. \n",
    "The type of loaded file is Pandas DataFrame. We also notice that the columns have different data types but a single column has the same data type. This is core feature for fast data manupilations using pandas DataFrame"
   ]
  },
  {
   "cell_type": "code",
   "execution_count": 5,
   "metadata": {
    "collapsed": false
   },
   "outputs": [
    {
     "name": "stdout",
     "output_type": "stream",
     "text": [
      "<class 'pandas.core.frame.DataFrame'>\n",
      "                                    _id  approvalfy board_approval_month  \\\n",
      "0  {'$oid': '52b213b38594d8a2be17c780'}        1999             November   \n",
      "1  {'$oid': '52b213b38594d8a2be17c781'}        2015             November   \n",
      "2  {'$oid': '52b213b38594d8a2be17c782'}        2014             November   \n",
      "3  {'$oid': '52b213b38594d8a2be17c783'}        2014              October   \n",
      "4  {'$oid': '52b213b38594d8a2be17c784'}        2014              October   \n",
      "\n",
      "      boardapprovaldate                                 borrower  \\\n",
      "0  2013-11-12T00:00:00Z  FEDERAL DEMOCRATIC REPUBLIC OF ETHIOPIA   \n",
      "1  2013-11-04T00:00:00Z                    GOVERNMENT OF TUNISIA   \n",
      "2  2013-11-01T00:00:00Z   MINISTRY OF FINANCE AND ECONOMIC DEVEL   \n",
      "3  2013-10-31T00:00:00Z   MIN. OF PLANNING AND INT'L COOPERATION   \n",
      "4  2013-10-31T00:00:00Z                      MINISTRY OF FINANCE   \n",
      "\n",
      "            closingdate                              country_namecode  \\\n",
      "0  2018-07-07T00:00:00Z  Federal Democratic Republic of Ethiopia!$!ET   \n",
      "1                   NaN                      Republic of Tunisia!$!TN   \n",
      "2                   NaN                                   Tuvalu!$!TV   \n",
      "3                   NaN                        Republic of Yemen!$!RY   \n",
      "4  2019-04-30T00:00:00Z                       Kingdom of Lesotho!$!LS   \n",
      "\n",
      "  countrycode                              countryname    countryshortname  \\\n",
      "0          ET  Federal Democratic Republic of Ethiopia            Ethiopia   \n",
      "1          TN                      Republic of Tunisia             Tunisia   \n",
      "2          TV                                   Tuvalu              Tuvalu   \n",
      "3          RY                        Republic of Yemen  Yemen, Republic of   \n",
      "4          LS                       Kingdom of Lesotho             Lesotho   \n",
      "\n",
      "                         ...                           sectorcode source  \\\n",
      "0                        ...                          ET,BS,ES,EP   IBRD   \n",
      "1                        ...                                BZ,BS   IBRD   \n",
      "2                        ...                                   TI   IBRD   \n",
      "3                        ...                                   JB   IBRD   \n",
      "4                        ...                             FH,YW,YZ   IBRD   \n",
      "\n",
      "   status  supplementprojectflg  \\\n",
      "0  Active                     N   \n",
      "1  Active                     N   \n",
      "2  Active                     Y   \n",
      "3  Active                     N   \n",
      "4  Active                     N   \n",
      "\n",
      "                                              theme1  \\\n",
      "0      {'Percent': 100, 'Name': 'Education for all'}   \n",
      "1  {'Percent': 30, 'Name': 'Other economic manage...   \n",
      "2    {'Percent': 46, 'Name': 'Regional integration'}   \n",
      "3  {'Percent': 50, 'Name': 'Participation and civ...   \n",
      "4  {'Percent': 30, 'Name': 'Export development an...   \n",
      "\n",
      "                                      theme_namecode    themecode   totalamt  \\\n",
      "0      [{'code': '65', 'name': 'Education for all'}]           65  130000000   \n",
      "1  [{'code': '24', 'name': 'Other economic manage...        54,24          0   \n",
      "2  [{'code': '47', 'name': 'Regional integration'...  52,81,25,47    6060000   \n",
      "3  [{'code': '57', 'name': 'Participation and civ...        59,57          0   \n",
      "4  [{'code': '45', 'name': 'Export development an...        41,45   13100000   \n",
      "\n",
      "  totalcommamt                                                url  \n",
      "0    130000000  http://www.worldbank.org/projects/P129828/ethi...  \n",
      "1      4700000  http://www.worldbank.org/projects/P144674?lang=en  \n",
      "2      6060000  http://www.worldbank.org/projects/P145310?lang=en  \n",
      "3      1500000  http://www.worldbank.org/projects/P144665?lang=en  \n",
      "4     13100000  http://www.worldbank.org/projects/P144933/seco...  \n",
      "\n",
      "[5 rows x 50 columns]\n"
     ]
    }
   ],
   "source": [
    "## Loading json using pandas\n",
    "world_bank_data = pd.read_json('world_bank_projects.json')\n",
    "\n",
    "# Examining data type \n",
    "print(type(world_bank_data))\n",
    "\n",
    "## print first 10 rows\n",
    "print(world_bank_data.head())\n"
   ]
  },
  {
   "cell_type": "markdown",
   "metadata": {},
   "source": [
    "Examining different columns, dimension of the data and column types in the data."
   ]
  },
  {
   "cell_type": "markdown",
   "metadata": {},
   "source": [
    "We see that they are nearly 50 columns all of which could not be seen. "
   ]
  },
  {
   "cell_type": "code",
   "execution_count": 6,
   "metadata": {
    "collapsed": false,
    "scrolled": true
   },
   "outputs": [
    {
     "name": "stdout",
     "output_type": "stream",
     "text": [
      "Index(['_id', 'approvalfy', 'board_approval_month', 'boardapprovaldate',\n",
      "       'borrower', 'closingdate', 'country_namecode', 'countrycode',\n",
      "       'countryname', 'countryshortname', 'docty', 'envassesmentcategorycode',\n",
      "       'grantamt', 'ibrdcommamt', 'id', 'idacommamt', 'impagency',\n",
      "       'lendinginstr', 'lendinginstrtype', 'lendprojectcost',\n",
      "       'majorsector_percent', 'mjsector_namecode', 'mjtheme',\n",
      "       'mjtheme_namecode', 'mjthemecode', 'prodline', 'prodlinetext',\n",
      "       'productlinetype', 'project_abstract', 'project_name', 'projectdocs',\n",
      "       'projectfinancialtype', 'projectstatusdisplay', 'regionname', 'sector',\n",
      "       'sector1', 'sector2', 'sector3', 'sector4', 'sector_namecode',\n",
      "       'sectorcode', 'source', 'status', 'supplementprojectflg', 'theme1',\n",
      "       'theme_namecode', 'themecode', 'totalamt', 'totalcommamt', 'url'],\n",
      "      dtype='object')\n",
      "_id                         object\n",
      "approvalfy                   int64\n",
      "board_approval_month        object\n",
      "boardapprovaldate           object\n",
      "borrower                    object\n",
      "closingdate                 object\n",
      "country_namecode            object\n",
      "countrycode                 object\n",
      "countryname                 object\n",
      "countryshortname            object\n",
      "docty                       object\n",
      "envassesmentcategorycode    object\n",
      "grantamt                     int64\n",
      "ibrdcommamt                  int64\n",
      "id                          object\n",
      "idacommamt                   int64\n",
      "impagency                   object\n",
      "lendinginstr                object\n",
      "lendinginstrtype            object\n",
      "lendprojectcost              int64\n",
      "majorsector_percent         object\n",
      "mjsector_namecode           object\n",
      "mjtheme                     object\n",
      "mjtheme_namecode            object\n",
      "mjthemecode                 object\n",
      "prodline                    object\n",
      "prodlinetext                object\n",
      "productlinetype             object\n",
      "project_abstract            object\n",
      "project_name                object\n",
      "projectdocs                 object\n",
      "projectfinancialtype        object\n",
      "projectstatusdisplay        object\n",
      "regionname                  object\n",
      "sector                      object\n",
      "sector1                     object\n",
      "sector2                     object\n",
      "sector3                     object\n",
      "sector4                     object\n",
      "sector_namecode             object\n",
      "sectorcode                  object\n",
      "source                      object\n",
      "status                      object\n",
      "supplementprojectflg        object\n",
      "theme1                      object\n",
      "theme_namecode              object\n",
      "themecode                   object\n",
      "totalamt                     int64\n",
      "totalcommamt                 int64\n",
      "url                         object\n",
      "dtype: object\n",
      "no. of rows =   500\n",
      "no. of columns =   50\n"
     ]
    }
   ],
   "source": [
    "## Printing columns names\n",
    "print(world_bank_data.columns)\n",
    "\n",
    "## seeing type of data in each of the columns\n",
    "print(world_bank_data.dtypes)\n",
    "\n",
    "## Number of rows and columns\n",
    "print('no. of rows =  ',world_bank_data.shape[0])\n",
    "print('no. of columns =  ',world_bank_data.shape[1])"
   ]
  },
  {
   "cell_type": "markdown",
   "metadata": {},
   "source": [
    "### First Objective: Find the 10 countries with most projects\n",
    "Data contains countries that are sanctioned projects. So, we need to find the top 10 countries that have more number of projects or in other words, we need to sort the number of occurences of a country name in the data in the decending order. \n",
    "Checking for Nan/missing entries in the country column"
   ]
  },
  {
   "cell_type": "code",
   "execution_count": 7,
   "metadata": {
    "collapsed": false
   },
   "outputs": [
    {
     "name": "stdout",
     "output_type": "stream",
     "text": [
      "countryname    0\n",
      "dtype: int64\n"
     ]
    },
    {
     "data": {
      "text/plain": [
       "False"
      ]
     },
     "execution_count": 7,
     "metadata": {},
     "output_type": "execute_result"
    }
   ],
   "source": [
    "## Checking if the country column has NULL/NAN entries\n",
    "\n",
    "print(world_bank_data[['countryname']].isnull().sum())\n",
    "world_bank_data[['countryname']].isnull().values.all()\n"
   ]
  },
  {
   "cell_type": "code",
   "execution_count": 8,
   "metadata": {
    "collapsed": false
   },
   "outputs": [
    {
     "name": "stdout",
     "output_type": "stream",
     "text": [
      "Republic of Indonesia              19\n",
      "People's Republic of China         19\n",
      "Socialist Republic of Vietnam      17\n",
      "Republic of India                  16\n",
      "Republic of Yemen                  13\n",
      "Kingdom of Morocco                 12\n",
      "Nepal                              12\n",
      "People's Republic of Bangladesh    12\n",
      "Africa                             11\n",
      "Republic of Mozambique             11\n",
      "Name: countryname, dtype: int64\n"
     ]
    }
   ],
   "source": [
    "## Sorting occurence of country in the data. This give the top 10 countries with most projects\n",
    "Top_10_contries = world_bank_data['countryname'].value_counts()\n",
    "print(Top_10_contries[0:10])"
   ]
  },
  {
   "cell_type": "markdown",
   "metadata": {},
   "source": [
    "### Second Objective: Find the top 10 major project themes (using column 'mjtheme_namecode')\n",
    "Lets examine the 'mjtheme_namecode' column."
   ]
  },
  {
   "cell_type": "code",
   "execution_count": 9,
   "metadata": {
    "collapsed": false
   },
   "outputs": [
    {
     "name": "stdout",
     "output_type": "stream",
     "text": [
      "[{'code': '8', 'name': 'Human development'}, {'code': '11', 'name': ''}]\n",
      "[{'code': '1', 'name': 'Economic management'}, {'code': '6', 'name': 'Social protection and risk management'}]\n",
      "[{'code': '5', 'name': 'Trade and integration'}, {'code': '2', 'name': 'Public sector governance'}, {'code': '11', 'name': 'Environment and natural resources management'}, {'code': '6', 'name': 'Social protection and risk management'}]\n",
      "[{'code': '7', 'name': 'Social dev/gender/inclusion'}, {'code': '7', 'name': 'Social dev/gender/inclusion'}]\n",
      "[{'code': '5', 'name': 'Trade and integration'}, {'code': '4', 'name': 'Financial and private sector development'}]\n"
     ]
    }
   ],
   "source": [
    "## Examining column 'mjtheme_namecode'\n",
    "world_bank_data[['mjtheme_namecode']].head()\n",
    "\n",
    "for row in world_bank_data['mjtheme_namecode'][0:5]:\n",
    "    print(row)"
   ]
  },
  {
   "cell_type": "markdown",
   "metadata": {},
   "source": [
    "We see that the column contains data type dictionary. Also, contains missing data.\n",
    "First we load the data as list and then use Json_normalize function to extract variables of interest into a dataframe"
   ]
  },
  {
   "cell_type": "code",
   "execution_count": 10,
   "metadata": {
    "collapsed": false
   },
   "outputs": [
    {
     "name": "stdout",
     "output_type": "stream",
     "text": [
      "<class 'list'>\n",
      "  code                                   name  \\\n",
      "0    8                      Human development   \n",
      "1   11                                          \n",
      "2    1                    Economic management   \n",
      "3    6  Social protection and risk management   \n",
      "4    5                  Trade and integration   \n",
      "\n",
      "                               countryname  \n",
      "0  Federal Democratic Republic of Ethiopia  \n",
      "1  Federal Democratic Republic of Ethiopia  \n",
      "2                      Republic of Tunisia  \n",
      "3                      Republic of Tunisia  \n",
      "4                                   Tuvalu  \n",
      "<class 'pandas.core.frame.DataFrame'>\n"
     ]
    }
   ],
   "source": [
    "## Loading the JSON file using json.load\n",
    "world_bank_data_string = json.load((open('world_bank_projects.json')))\n",
    "print(type(world_bank_data_string))\n",
    "\n",
    "## Creating a dataframe \n",
    "table_code = json_normalize(world_bank_data_string, 'mjtheme_namecode',['countryname'])\n",
    "print(table_code.head())\n",
    "print(type(table_code))"
   ]
  },
  {
   "cell_type": "markdown",
   "metadata": {},
   "source": [
    "Since we have missing values in the name column as observed. We cannot use name column to find the top 10 most frequent themes. So, lets see top 10 themes using unique code associated to each theme"
   ]
  },
  {
   "cell_type": "code",
   "execution_count": 11,
   "metadata": {
    "collapsed": false
   },
   "outputs": [
    {
     "data": {
      "text/html": [
       "<div>\n",
       "<table border=\"1\" class=\"dataframe\">\n",
       "  <thead>\n",
       "    <tr style=\"text-align: right;\">\n",
       "      <th></th>\n",
       "      <th>code</th>\n",
       "      <th>count</th>\n",
       "    </tr>\n",
       "  </thead>\n",
       "  <tbody>\n",
       "    <tr>\n",
       "      <th>0</th>\n",
       "      <td>11</td>\n",
       "      <td>250</td>\n",
       "    </tr>\n",
       "    <tr>\n",
       "      <th>1</th>\n",
       "      <td>10</td>\n",
       "      <td>216</td>\n",
       "    </tr>\n",
       "    <tr>\n",
       "      <th>2</th>\n",
       "      <td>8</td>\n",
       "      <td>210</td>\n",
       "    </tr>\n",
       "    <tr>\n",
       "      <th>3</th>\n",
       "      <td>2</td>\n",
       "      <td>199</td>\n",
       "    </tr>\n",
       "    <tr>\n",
       "      <th>4</th>\n",
       "      <td>6</td>\n",
       "      <td>168</td>\n",
       "    </tr>\n",
       "    <tr>\n",
       "      <th>5</th>\n",
       "      <td>4</td>\n",
       "      <td>146</td>\n",
       "    </tr>\n",
       "    <tr>\n",
       "      <th>6</th>\n",
       "      <td>7</td>\n",
       "      <td>130</td>\n",
       "    </tr>\n",
       "    <tr>\n",
       "      <th>7</th>\n",
       "      <td>5</td>\n",
       "      <td>77</td>\n",
       "    </tr>\n",
       "    <tr>\n",
       "      <th>8</th>\n",
       "      <td>9</td>\n",
       "      <td>50</td>\n",
       "    </tr>\n",
       "    <tr>\n",
       "      <th>9</th>\n",
       "      <td>1</td>\n",
       "      <td>38</td>\n",
       "    </tr>\n",
       "  </tbody>\n",
       "</table>\n",
       "</div>"
      ],
      "text/plain": [
       "  code  count\n",
       "0   11    250\n",
       "1   10    216\n",
       "2    8    210\n",
       "3    2    199\n",
       "4    6    168\n",
       "5    4    146\n",
       "6    7    130\n",
       "7    5     77\n",
       "8    9     50\n",
       "9    1     38"
      ]
     },
     "execution_count": 11,
     "metadata": {},
     "output_type": "execute_result"
    }
   ],
   "source": [
    "### Find top 10 themes by frequency of code number\n",
    "Top10_Themes = table_code.code.value_counts().head(10)\n",
    "Top10_Themes_da = Top10_Themes.to_frame()\n",
    "Top10_Themes = Top10_Themes_da.reset_index().copy()\n",
    "#Top10_Themes.reset_index()\n",
    "Top10_Themes.rename(columns= {'index':'code','code':'count'},inplace = True)\n",
    "Top10_Themes"
   ]
  },
  {
   "cell_type": "code",
   "execution_count": 12,
   "metadata": {
    "collapsed": false,
    "scrolled": false
   },
   "outputs": [
    {
     "data": {
      "text/plain": [
       "array(['8', '11', '1', '6', '5', '2', '7', '4', '10', '9', '3'], dtype=object)"
      ]
     },
     "execution_count": 12,
     "metadata": {},
     "output_type": "execute_result"
    }
   ],
   "source": [
    "## Examing unique code for themes\n",
    "type(table_code)\n",
    "table_code.code.unique()"
   ]
  },
  {
   "cell_type": "markdown",
   "metadata": {},
   "source": [
    "Creating a data frame with unique code and theme name associated with it"
   ]
  },
  {
   "cell_type": "code",
   "execution_count": 13,
   "metadata": {
    "collapsed": false
   },
   "outputs": [
    {
     "name": "stderr",
     "output_type": "stream",
     "text": [
      "C:\\Users\\vegi\\AppData\\Local\\Continuum\\Anaconda3\\lib\\site-packages\\ipykernel\\__main__.py:12: FutureWarning: sort(columns=....) is deprecated, use sort_values(by=.....)\n"
     ]
    },
    {
     "data": {
      "text/html": [
       "<div>\n",
       "<table border=\"1\" class=\"dataframe\">\n",
       "  <thead>\n",
       "    <tr style=\"text-align: right;\">\n",
       "      <th></th>\n",
       "      <th>code</th>\n",
       "      <th>name</th>\n",
       "      <th>count</th>\n",
       "    </tr>\n",
       "  </thead>\n",
       "  <tbody>\n",
       "    <tr>\n",
       "      <th>1</th>\n",
       "      <td>11</td>\n",
       "      <td>Environment and natural resources management</td>\n",
       "      <td>250</td>\n",
       "    </tr>\n",
       "    <tr>\n",
       "      <th>8</th>\n",
       "      <td>10</td>\n",
       "      <td>Rural development</td>\n",
       "      <td>216</td>\n",
       "    </tr>\n",
       "    <tr>\n",
       "      <th>0</th>\n",
       "      <td>8</td>\n",
       "      <td>Human development</td>\n",
       "      <td>210</td>\n",
       "    </tr>\n",
       "    <tr>\n",
       "      <th>5</th>\n",
       "      <td>2</td>\n",
       "      <td>Public sector governance</td>\n",
       "      <td>199</td>\n",
       "    </tr>\n",
       "    <tr>\n",
       "      <th>3</th>\n",
       "      <td>6</td>\n",
       "      <td>Social protection and risk management</td>\n",
       "      <td>168</td>\n",
       "    </tr>\n",
       "    <tr>\n",
       "      <th>7</th>\n",
       "      <td>4</td>\n",
       "      <td>Financial and private sector development</td>\n",
       "      <td>146</td>\n",
       "    </tr>\n",
       "    <tr>\n",
       "      <th>6</th>\n",
       "      <td>7</td>\n",
       "      <td>Social dev/gender/inclusion</td>\n",
       "      <td>130</td>\n",
       "    </tr>\n",
       "    <tr>\n",
       "      <th>4</th>\n",
       "      <td>5</td>\n",
       "      <td>Trade and integration</td>\n",
       "      <td>77</td>\n",
       "    </tr>\n",
       "    <tr>\n",
       "      <th>9</th>\n",
       "      <td>9</td>\n",
       "      <td>Urban development</td>\n",
       "      <td>50</td>\n",
       "    </tr>\n",
       "    <tr>\n",
       "      <th>2</th>\n",
       "      <td>1</td>\n",
       "      <td>Economic management</td>\n",
       "      <td>38</td>\n",
       "    </tr>\n",
       "  </tbody>\n",
       "</table>\n",
       "</div>"
      ],
      "text/plain": [
       "  code                                          name  count\n",
       "1   11  Environment and natural resources management    250\n",
       "8   10                             Rural development    216\n",
       "0    8                             Human development    210\n",
       "5    2                      Public sector governance    199\n",
       "3    6         Social protection and risk management    168\n",
       "7    4      Financial and private sector development    146\n",
       "6    7                   Social dev/gender/inclusion    130\n",
       "4    5                         Trade and integration     77\n",
       "9    9                             Urban development     50\n",
       "2    1                           Economic management     38"
      ]
     },
     "execution_count": 13,
     "metadata": {},
     "output_type": "execute_result"
    }
   ],
   "source": [
    "# Creating empty pandas dataframe\n",
    "d = pd.DataFrame(0, columns=['code','name'],index = range(0,len(table_code.code.unique())))\n",
    "\n",
    "#For loop that lookups theme names associated to a code number\n",
    "i= 0\n",
    "for code in table_code.code.unique():\n",
    "    d.iloc[i,0] = code\n",
    "    d.iloc[i,1] = table_code[(table_code.code == code) & (table_code.name != '')].iloc[0,1]\n",
    "    i=i+1\n",
    "\n",
    "# merging top10themes and unique code with theme name \n",
    "Themes = pd.merge(d,Top10_Themes,on ='code').sort(['count'],ascending=False)\n",
    "Themes"
   ]
  },
  {
   "cell_type": "markdown",
   "metadata": {},
   "source": [
    "### Third Objective:  We will notice that some entries have only the code and the name is missing. Create a dataframe with the missing names filled in."
   ]
  },
  {
   "cell_type": "code",
   "execution_count": 14,
   "metadata": {
    "collapsed": false
   },
   "outputs": [
    {
     "name": "stdout",
     "output_type": "stream",
     "text": [
      "Missing values are stored as: '' \n"
     ]
    }
   ],
   "source": [
    "##examing how the missing theme names are stored in the data\n",
    "\n",
    "table_code.iloc[1,1]\n",
    "print(\"Missing values are stored as: '' \")"
   ]
  },
  {
   "cell_type": "code",
   "execution_count": 15,
   "metadata": {
    "collapsed": false,
    "scrolled": true
   },
   "outputs": [
    {
     "name": "stdout",
     "output_type": "stream",
     "text": [
      "Number of rows with no name: 122\n"
     ]
    }
   ],
   "source": [
    "## Missing names data set\n",
    "no_name = table_code[(table_code.name == '')]\\\n",
    "\n",
    "# data set with no missing names\n",
    "name = table_code[(table_code.name != '')]\n",
    "\n",
    "## No name rows\n",
    "print('Number of rows with no name:', (no_name.shape[0]))"
   ]
  },
  {
   "cell_type": "code",
   "execution_count": 16,
   "metadata": {
    "collapsed": false
   },
   "outputs": [
    {
     "name": "stderr",
     "output_type": "stream",
     "text": [
      "C:\\Users\\vegi\\AppData\\Local\\Continuum\\Anaconda3\\lib\\site-packages\\IPython\\core\\interactiveshell.py:2881: SettingWithCopyWarning: \n",
      "A value is trying to be set on a copy of a slice from a DataFrame\n",
      "\n",
      "See the caveats in the documentation: http://pandas.pydata.org/pandas-docs/stable/indexing.html#indexing-view-versus-copy\n",
      "  exec(code_obj, self.user_global_ns, self.user_ns)\n"
     ]
    }
   ],
   "source": [
    "## Filling missign names by looking up the code and name associated in the no missing data set\n",
    "for i in no_name.code.index:\n",
    "    for j in name.code.index: \n",
    "        if no_name.code[i] == name.code[j]:\n",
    "            no_name.name[i] = name.name[j]\n",
    "            break\n",
    "        else:\n",
    "            continue"
   ]
  },
  {
   "cell_type": "code",
   "execution_count": 17,
   "metadata": {
    "collapsed": false
   },
   "outputs": [
    {
     "data": {
      "text/html": [
       "<div>\n",
       "<table border=\"1\" class=\"dataframe\">\n",
       "  <thead>\n",
       "    <tr style=\"text-align: right;\">\n",
       "      <th></th>\n",
       "      <th>code</th>\n",
       "      <th>name</th>\n",
       "      <th>countryname</th>\n",
       "    </tr>\n",
       "  </thead>\n",
       "  <tbody>\n",
       "    <tr>\n",
       "      <th>0</th>\n",
       "      <td>8</td>\n",
       "      <td>Human development</td>\n",
       "      <td>Federal Democratic Republic of Ethiopia</td>\n",
       "    </tr>\n",
       "    <tr>\n",
       "      <th>1</th>\n",
       "      <td>11</td>\n",
       "      <td>Environment and natural resources management</td>\n",
       "      <td>Federal Democratic Republic of Ethiopia</td>\n",
       "    </tr>\n",
       "    <tr>\n",
       "      <th>2</th>\n",
       "      <td>1</td>\n",
       "      <td>Economic management</td>\n",
       "      <td>Republic of Tunisia</td>\n",
       "    </tr>\n",
       "    <tr>\n",
       "      <th>3</th>\n",
       "      <td>6</td>\n",
       "      <td>Social protection and risk management</td>\n",
       "      <td>Republic of Tunisia</td>\n",
       "    </tr>\n",
       "    <tr>\n",
       "      <th>4</th>\n",
       "      <td>5</td>\n",
       "      <td>Trade and integration</td>\n",
       "      <td>Tuvalu</td>\n",
       "    </tr>\n",
       "    <tr>\n",
       "      <th>5</th>\n",
       "      <td>2</td>\n",
       "      <td>Public sector governance</td>\n",
       "      <td>Tuvalu</td>\n",
       "    </tr>\n",
       "    <tr>\n",
       "      <th>6</th>\n",
       "      <td>11</td>\n",
       "      <td>Environment and natural resources management</td>\n",
       "      <td>Tuvalu</td>\n",
       "    </tr>\n",
       "    <tr>\n",
       "      <th>7</th>\n",
       "      <td>6</td>\n",
       "      <td>Social protection and risk management</td>\n",
       "      <td>Tuvalu</td>\n",
       "    </tr>\n",
       "    <tr>\n",
       "      <th>8</th>\n",
       "      <td>7</td>\n",
       "      <td>Social dev/gender/inclusion</td>\n",
       "      <td>Republic of Yemen</td>\n",
       "    </tr>\n",
       "    <tr>\n",
       "      <th>9</th>\n",
       "      <td>7</td>\n",
       "      <td>Social dev/gender/inclusion</td>\n",
       "      <td>Republic of Yemen</td>\n",
       "    </tr>\n",
       "  </tbody>\n",
       "</table>\n",
       "</div>"
      ],
      "text/plain": [
       "  code                                          name  \\\n",
       "0    8                             Human development   \n",
       "1   11  Environment and natural resources management   \n",
       "2    1                           Economic management   \n",
       "3    6         Social protection and risk management   \n",
       "4    5                         Trade and integration   \n",
       "5    2                      Public sector governance   \n",
       "6   11  Environment and natural resources management   \n",
       "7    6         Social protection and risk management   \n",
       "8    7                   Social dev/gender/inclusion   \n",
       "9    7                   Social dev/gender/inclusion   \n",
       "\n",
       "                               countryname  \n",
       "0  Federal Democratic Republic of Ethiopia  \n",
       "1  Federal Democratic Republic of Ethiopia  \n",
       "2                      Republic of Tunisia  \n",
       "3                      Republic of Tunisia  \n",
       "4                                   Tuvalu  \n",
       "5                                   Tuvalu  \n",
       "6                                   Tuvalu  \n",
       "7                                   Tuvalu  \n",
       "8                        Republic of Yemen  \n",
       "9                        Republic of Yemen  "
      ]
     },
     "execution_count": 17,
     "metadata": {},
     "output_type": "execute_result"
    }
   ],
   "source": [
    "## Final dataframe with no Missing THEME names\n",
    "Filled_missingvalues = pd.concat([no_name,name]).sort_index()\n",
    "Filled_missingvalues.head(10)"
   ]
  }
 ],
 "metadata": {
  "kernelspec": {
   "display_name": "Python 3",
   "language": "python",
   "name": "python3"
  },
  "language_info": {
   "codemirror_mode": {
    "name": "ipython",
    "version": 3
   },
   "file_extension": ".py",
   "mimetype": "text/x-python",
   "name": "python",
   "nbconvert_exporter": "python",
   "pygments_lexer": "ipython3",
   "version": "3.6.0"
  }
 },
 "nbformat": 4,
 "nbformat_minor": 2
}
