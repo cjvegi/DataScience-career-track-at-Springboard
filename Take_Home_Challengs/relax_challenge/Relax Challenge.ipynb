{
 "cells": [
  {
   "cell_type": "markdown",
   "metadata": {},
   "source": [
    "## Relax Challenge\n",
    "---\n",
    "In this notebook, we will explore the two datasets to identify the contributing factors for prediciting future user adoption. An 'Adopted User' is defined as a user who has logged into the product on three separate days in atleast one seven-day period. \n",
    "\n",
    "Let's take a look at the data,\n",
    "1. **User Tabel(takehome_users)**: Data on 12,000 users who signed up for the product in the last two years\n",
    "This table includes:    \n",
    "    a). name: the user's name   \n",
    "    b). object_id: the user's id   \n",
    "    c). email: email address   \n",
    "    d). creation_source: how their account was created. This takes on one of 5 values:   \n",
    "        i.  PERSONAL_PROJECTS: invited to join another user's personal workspace\n",
    "        ii. GUEST_INVITE: invited to an organization as a guest (limited permissions)\n",
    "        iii.ORG_INVITE: invited to an organization (as a full member)\n",
    "        iv  SIGNUP: signed up via the website\n",
    "        v   SIGNUP_GOOGLE_AUTH: signed up using Google Authentication (using a Google email account for their login\n",
    "        id)\n",
    "    e) creation_time: when they created their account   \n",
    "    f) last_session_creation_time: unix timestamp of last login   \n",
    "    g) opted_in_to_mailing_list: whether they have opted into receiving marketing emails  \n",
    "    h) enabled_for_marketing_drip: whether they are on the regular marketing email drip   \n",
    "    i) org_id: the organization (group of users) they belong to invited_by_user_id: which user invited them to join (if applicable).\n",
    "    \n",
    "    \n",
    "2. usage summary table (\"takehome_user_engagement\"): Has a row for each day that a user logged into the product.\n"
   ]
  },
  {
   "cell_type": "code",
   "execution_count": 1,
   "metadata": {},
   "outputs": [],
   "source": [
    "### Importing required libraries\n",
    "import pandas as pd\n",
    "import datetime  \n",
    "import matplotlib.pyplot as plt\n",
    "import numpy as np\n",
    "%matplotlib inline "
   ]
  },
  {
   "cell_type": "code",
   "execution_count": 2,
   "metadata": {},
   "outputs": [
    {
     "name": "stdout",
     "output_type": "stream",
     "text": [
      "<class 'pandas.core.frame.DataFrame'>\n",
      "RangeIndex: 12000 entries, 0 to 11999\n",
      "Data columns (total 10 columns):\n",
      "object_id                     12000 non-null int64\n",
      "creation_time                 12000 non-null object\n",
      "name                          12000 non-null object\n",
      "email                         12000 non-null object\n",
      "creation_source               12000 non-null object\n",
      "last_session_creation_time    8823 non-null float64\n",
      "opted_in_to_mailing_list      12000 non-null int64\n",
      "enabled_for_marketing_drip    12000 non-null int64\n",
      "org_id                        12000 non-null int64\n",
      "invited_by_user_id            6417 non-null float64\n",
      "dtypes: float64(2), int64(4), object(4)\n",
      "memory usage: 937.6+ KB\n",
      "None\n",
      "---------------------------------------------------------------------------------------------------------------------\n"
     ]
    },
    {
     "data": {
      "text/html": [
       "<div>\n",
       "<style>\n",
       "    .dataframe thead tr:only-child th {\n",
       "        text-align: right;\n",
       "    }\n",
       "\n",
       "    .dataframe thead th {\n",
       "        text-align: left;\n",
       "    }\n",
       "\n",
       "    .dataframe tbody tr th {\n",
       "        vertical-align: top;\n",
       "    }\n",
       "</style>\n",
       "<table border=\"1\" class=\"dataframe\">\n",
       "  <thead>\n",
       "    <tr style=\"text-align: right;\">\n",
       "      <th></th>\n",
       "      <th>object_id</th>\n",
       "      <th>creation_time</th>\n",
       "      <th>name</th>\n",
       "      <th>email</th>\n",
       "      <th>creation_source</th>\n",
       "      <th>last_session_creation_time</th>\n",
       "      <th>opted_in_to_mailing_list</th>\n",
       "      <th>enabled_for_marketing_drip</th>\n",
       "      <th>org_id</th>\n",
       "      <th>invited_by_user_id</th>\n",
       "    </tr>\n",
       "  </thead>\n",
       "  <tbody>\n",
       "    <tr>\n",
       "      <th>0</th>\n",
       "      <td>1</td>\n",
       "      <td>2014-04-22 03:53:30</td>\n",
       "      <td>Clausen August</td>\n",
       "      <td>AugustCClausen@yahoo.com</td>\n",
       "      <td>GUEST_INVITE</td>\n",
       "      <td>1.398139e+09</td>\n",
       "      <td>1</td>\n",
       "      <td>0</td>\n",
       "      <td>11</td>\n",
       "      <td>10803.0</td>\n",
       "    </tr>\n",
       "    <tr>\n",
       "      <th>1</th>\n",
       "      <td>2</td>\n",
       "      <td>2013-11-15 03:45:04</td>\n",
       "      <td>Poole Matthew</td>\n",
       "      <td>MatthewPoole@gustr.com</td>\n",
       "      <td>ORG_INVITE</td>\n",
       "      <td>1.396238e+09</td>\n",
       "      <td>0</td>\n",
       "      <td>0</td>\n",
       "      <td>1</td>\n",
       "      <td>316.0</td>\n",
       "    </tr>\n",
       "    <tr>\n",
       "      <th>2</th>\n",
       "      <td>3</td>\n",
       "      <td>2013-03-19 23:14:52</td>\n",
       "      <td>Bottrill Mitchell</td>\n",
       "      <td>MitchellBottrill@gustr.com</td>\n",
       "      <td>ORG_INVITE</td>\n",
       "      <td>1.363735e+09</td>\n",
       "      <td>0</td>\n",
       "      <td>0</td>\n",
       "      <td>94</td>\n",
       "      <td>1525.0</td>\n",
       "    </tr>\n",
       "    <tr>\n",
       "      <th>3</th>\n",
       "      <td>4</td>\n",
       "      <td>2013-05-21 08:09:28</td>\n",
       "      <td>Clausen Nicklas</td>\n",
       "      <td>NicklasSClausen@yahoo.com</td>\n",
       "      <td>GUEST_INVITE</td>\n",
       "      <td>1.369210e+09</td>\n",
       "      <td>0</td>\n",
       "      <td>0</td>\n",
       "      <td>1</td>\n",
       "      <td>5151.0</td>\n",
       "    </tr>\n",
       "    <tr>\n",
       "      <th>4</th>\n",
       "      <td>5</td>\n",
       "      <td>2013-01-17 10:14:20</td>\n",
       "      <td>Raw Grace</td>\n",
       "      <td>GraceRaw@yahoo.com</td>\n",
       "      <td>GUEST_INVITE</td>\n",
       "      <td>1.358850e+09</td>\n",
       "      <td>0</td>\n",
       "      <td>0</td>\n",
       "      <td>193</td>\n",
       "      <td>5240.0</td>\n",
       "    </tr>\n",
       "  </tbody>\n",
       "</table>\n",
       "</div>"
      ],
      "text/plain": [
       "   object_id        creation_time               name  \\\n",
       "0          1  2014-04-22 03:53:30     Clausen August   \n",
       "1          2  2013-11-15 03:45:04      Poole Matthew   \n",
       "2          3  2013-03-19 23:14:52  Bottrill Mitchell   \n",
       "3          4  2013-05-21 08:09:28    Clausen Nicklas   \n",
       "4          5  2013-01-17 10:14:20          Raw Grace   \n",
       "\n",
       "                        email creation_source  last_session_creation_time  \\\n",
       "0    AugustCClausen@yahoo.com    GUEST_INVITE                1.398139e+09   \n",
       "1      MatthewPoole@gustr.com      ORG_INVITE                1.396238e+09   \n",
       "2  MitchellBottrill@gustr.com      ORG_INVITE                1.363735e+09   \n",
       "3   NicklasSClausen@yahoo.com    GUEST_INVITE                1.369210e+09   \n",
       "4          GraceRaw@yahoo.com    GUEST_INVITE                1.358850e+09   \n",
       "\n",
       "   opted_in_to_mailing_list  enabled_for_marketing_drip  org_id  \\\n",
       "0                         1                           0      11   \n",
       "1                         0                           0       1   \n",
       "2                         0                           0      94   \n",
       "3                         0                           0       1   \n",
       "4                         0                           0     193   \n",
       "\n",
       "   invited_by_user_id  \n",
       "0             10803.0  \n",
       "1               316.0  \n",
       "2              1525.0  \n",
       "3              5151.0  \n",
       "4              5240.0  "
      ]
     },
     "execution_count": 2,
     "metadata": {},
     "output_type": "execute_result"
    }
   ],
   "source": [
    "## Loading takehome_users data\n",
    "users = pd.read_csv(\"takehome_users.csv\",encoding=\"ISO-8859-1\")\n",
    "\n",
    "print(users.info())\n",
    "print(117*'-')\n",
    "users.head()"
   ]
  },
  {
   "cell_type": "markdown",
   "metadata": {},
   "source": [
    "> Quick glance at the data, we see that they are two different data types (Numerical and categorical). We also notice the data contains NULL values in last_session_creation_time and invited_by_user_id column. Also, note that creation time is read as float as the column has timestamp in Unix format. We will deal with this further in the notebook."
   ]
  },
  {
   "cell_type": "code",
   "execution_count": 3,
   "metadata": {},
   "outputs": [
    {
     "name": "stdout",
     "output_type": "stream",
     "text": [
      "<class 'pandas.core.frame.DataFrame'>\n",
      "RangeIndex: 207917 entries, 0 to 207916\n",
      "Data columns (total 3 columns):\n",
      "time_stamp    207917 non-null datetime64[ns]\n",
      "user_id       207917 non-null int64\n",
      "visited       207917 non-null int64\n",
      "dtypes: datetime64[ns](1), int64(2)\n",
      "memory usage: 4.8 MB\n",
      "None\n"
     ]
    },
    {
     "data": {
      "text/html": [
       "<div>\n",
       "<style>\n",
       "    .dataframe thead tr:only-child th {\n",
       "        text-align: right;\n",
       "    }\n",
       "\n",
       "    .dataframe thead th {\n",
       "        text-align: left;\n",
       "    }\n",
       "\n",
       "    .dataframe tbody tr th {\n",
       "        vertical-align: top;\n",
       "    }\n",
       "</style>\n",
       "<table border=\"1\" class=\"dataframe\">\n",
       "  <thead>\n",
       "    <tr style=\"text-align: right;\">\n",
       "      <th></th>\n",
       "      <th>time_stamp</th>\n",
       "      <th>user_id</th>\n",
       "      <th>visited</th>\n",
       "    </tr>\n",
       "  </thead>\n",
       "  <tbody>\n",
       "    <tr>\n",
       "      <th>0</th>\n",
       "      <td>2014-04-22 03:53:30</td>\n",
       "      <td>1</td>\n",
       "      <td>1</td>\n",
       "    </tr>\n",
       "    <tr>\n",
       "      <th>1</th>\n",
       "      <td>2013-11-15 03:45:04</td>\n",
       "      <td>2</td>\n",
       "      <td>1</td>\n",
       "    </tr>\n",
       "    <tr>\n",
       "      <th>2</th>\n",
       "      <td>2013-11-29 03:45:04</td>\n",
       "      <td>2</td>\n",
       "      <td>1</td>\n",
       "    </tr>\n",
       "    <tr>\n",
       "      <th>3</th>\n",
       "      <td>2013-12-09 03:45:04</td>\n",
       "      <td>2</td>\n",
       "      <td>1</td>\n",
       "    </tr>\n",
       "    <tr>\n",
       "      <th>4</th>\n",
       "      <td>2013-12-25 03:45:04</td>\n",
       "      <td>2</td>\n",
       "      <td>1</td>\n",
       "    </tr>\n",
       "  </tbody>\n",
       "</table>\n",
       "</div>"
      ],
      "text/plain": [
       "           time_stamp  user_id  visited\n",
       "0 2014-04-22 03:53:30        1        1\n",
       "1 2013-11-15 03:45:04        2        1\n",
       "2 2013-11-29 03:45:04        2        1\n",
       "3 2013-12-09 03:45:04        2        1\n",
       "4 2013-12-25 03:45:04        2        1"
      ]
     },
     "execution_count": 3,
     "metadata": {},
     "output_type": "execute_result"
    }
   ],
   "source": [
    "# load and user enagagement data\n",
    "user_engage = pd.read_csv('takehome_user_engagement.csv', parse_dates=['time_stamp'])\n",
    "print(user_engage.info())\n",
    "user_engage.head()"
   ]
  },
  {
   "cell_type": "markdown",
   "metadata": {},
   "source": [
    "> In the user enagagement data we do not see any missing values. By Joining users engagement and users data, we will have information of user login per day along with user features. Before that lets see if all the users who signed up were active. This information can be extracted by comparing number of unique users in both the datasets. We will define an 'atleastonce' user as a user who was active atleast once after signing up."
   ]
  },
  {
   "cell_type": "code",
   "execution_count": 4,
   "metadata": {},
   "outputs": [
    {
     "name": "stdout",
     "output_type": "stream",
     "text": [
      "Number of users who signed up: 12000\n",
      "Number of users who were active: 8823\n",
      "Number of users who were did not have a single activity after signup: 3177\n",
      "----------------------------------------------------------------------------------------------------\n",
      "Percentage of users who never logged in after sign up: 26.475 %\n"
     ]
    }
   ],
   "source": [
    "## users signed up vs users active\n",
    "\n",
    "signup_users = len(users.object_id.unique())\n",
    "atleastonce_users = len(user_engage.user_id.unique())\n",
    "\n",
    "print(\"Number of users who signed up:\", signup_users)\n",
    "print(\"Number of users who were active:\", atleastonce_users)\n",
    "\n",
    "print(\"Number of users who were did not have a single activity after signup:\", signup_users-atleastonce_users)\n",
    "print(100*'-')\n",
    "print(\"Percentage of users who never logged in after sign up:\",(signup_users-atleastonce_users)*100/signup_users,\"%\")"
   ]
  },
  {
   "cell_type": "markdown",
   "metadata": {},
   "source": [
    "> From the above, we see a quater of users signed in but never used the application. They might be many reasons for this, people signed in o request from friends, some referal programs, some offers. Here we cannot deduct/pinpoint a reason as we do not have anay data to back. Before moving on to next step i.e., finding \"Adopted Users\". We see how the 3177 users who never had an activity signed up"
   ]
  },
  {
   "cell_type": "code",
   "execution_count": 5,
   "metadata": {
    "scrolled": true
   },
   "outputs": [
    {
     "data": {
      "image/png": "[encoded data removed]",
      "text/plain": [
       "<matplotlib.figure.Figure at 0x11a029c88>"
      ]
     },
     "metadata": {},
     "output_type": "display_data"
    }
   ],
   "source": [
    "## MEthod of signup of users \n",
    "users[~users['object_id'].isin(list(user_engage.user_id.unique()))].creation_source.value_counts().plot(kind='barh')\n",
    "plt.title(\"Method of signup of users who never had an activity after signup\")\n",
    "plt.gcf().set_size_inches(7,5)\n",
    "plt.show()"
   ]
  },
  {
   "cell_type": "markdown",
   "metadata": {},
   "source": [
    "> The plot is interesting as the users who never had activity seem to join by \"personal_project\" method i.e., they are asked to join someone's workspace. Let's see this as comapared to the users who have activity"
   ]
  },
  {
   "cell_type": "code",
   "execution_count": 6,
   "metadata": {},
   "outputs": [
    {
     "name": "stdout",
     "output_type": "stream",
     "text": [
      "users with atleast one login/activity\n",
      "----------------------------------------------------------------------------------------------------\n",
      "ORG_INVITE            36.132835\n",
      "SIGNUP                21.511957\n",
      "GUEST_INVITE          17.998413\n",
      "SIGNUP_GOOGLE_AUTH    15.697609\n",
      "PERSONAL_PROJECTS      8.659186\n",
      "Name: creation_source, dtype: float64\n",
      "\n",
      "users without one login/activity\n",
      "----------------------------------------------------------------------------------------------------\n",
      "PERSONAL_PROJECTS    42.398489\n",
      "ORG_INVITE           33.553667\n",
      "GUEST_INVITE         18.098835\n",
      "SIGNUP                5.949008\n",
      "Name: creation_source, dtype: float64\n"
     ]
    }
   ],
   "source": [
    "## People who are active\n",
    "print(\"users with atleast one login/activity\")\n",
    "print(100*'-')\n",
    "print(users[users['object_id'].isin(list(user_engage.user_id.unique()))].\n",
    "      creation_source.value_counts(normalize=True)*100)\n",
    "print('')\n",
    "print(\"users without one login/activity\")\n",
    "print(100*'-')\n",
    "print(users[~users['object_id'].isin(list(user_engage.user_id.unique()))].\n",
    "      creation_source.value_counts(normalize=True)*100)"
   ]
  },
  {
   "cell_type": "markdown",
   "metadata": {},
   "source": [
    "> The above ouput clearly shows the difference between users without a single login and users with atleast one login. Now we move on to identifiying the \"Adopted User\" : A user who has logged into the product on three separate days in atleast one seven-day period. We already have 3177 of no-active users who would be classified as Adopted Users. Now e have to look in the user_enage data to see if we have additional Adopted Users"
   ]
  },
  {
   "cell_type": "code",
   "execution_count": 7,
   "metadata": {},
   "outputs": [
    {
     "name": "stdout",
     "output_type": "stream",
     "text": [
      "Percentage of Adopted User in the data:  13.35 %\n"
     ]
    }
   ],
   "source": [
    "## Finding adopted users\n",
    "\n",
    "## Create a dictionary to save the adopted users data\n",
    "adopt = {x:False for x in range(1, len(users)+1)}\n",
    "\n",
    "\"\"\"\n",
    "Here in the code below, we will loop over the user_engage data set,\n",
    "1. We will filter the people with less than three login as these users would not staisfy the \n",
    "criteria of Adopted User\n",
    "2. After filtering, we will take each time stamp see if we have two other timestamps in the 7day window.\n",
    "\"\"\"\n",
    "for user in user_engage.groupby('user_id'):\n",
    "    #print(user) /*Just checking if the loop is correct*/\n",
    "    \n",
    "    # Getting time stamps\n",
    "    time_stamps = user[1]['time_stamp'].sort_values().reset_index(drop=True)\n",
    "    \n",
    "    user_id,total_logins = user[0],len(time_stamps) # Getting the user_id and number of logins per userID\n",
    "    \n",
    "    #Filtering the users with less than total_logins less than 3\n",
    "    if total_logins < 3:\n",
    "        continue\n",
    "     \n",
    "    #Window of 7days given a time stamp\n",
    "    for i, time in enumerate(time_stamps):\n",
    "        if i == total_logins-2:\n",
    "            break  \n",
    "        start = time\n",
    "        end = start + pd.Timedelta('7D')\n",
    "        next_time_1 = time_stamps[i+1]\n",
    "        next_time_2 = time_stamps[i+2]\n",
    "        if (next_time_1 < end) & (next_time_2 < end):\n",
    "            adopt[user_id] = True\n",
    "            break    \n",
    "            \n",
    "print('Percentage of Adopted User in the data: ',sum(adopt.values())*100/len(users),'%')\n"
   ]
  },
  {
   "cell_type": "markdown",
   "metadata": {},
   "source": [
    "> We see that 13.35% of the users are adopted. Let's join the two dataseta and see if we can plot any interestign features"
   ]
  },
  {
   "cell_type": "code",
   "execution_count": 8,
   "metadata": {},
   "outputs": [
    {
     "data": {
      "text/html": [
       "<div>\n",
       "<style>\n",
       "    .dataframe thead tr:only-child th {\n",
       "        text-align: right;\n",
       "    }\n",
       "\n",
       "    .dataframe thead th {\n",
       "        text-align: left;\n",
       "    }\n",
       "\n",
       "    .dataframe tbody tr th {\n",
       "        vertical-align: top;\n",
       "    }\n",
       "</style>\n",
       "<table border=\"1\" class=\"dataframe\">\n",
       "  <thead>\n",
       "    <tr style=\"text-align: right;\">\n",
       "      <th></th>\n",
       "      <th>user_id</th>\n",
       "      <th>Adopted_user</th>\n",
       "    </tr>\n",
       "  </thead>\n",
       "  <tbody>\n",
       "    <tr>\n",
       "      <th>0</th>\n",
       "      <td>1</td>\n",
       "      <td>False</td>\n",
       "    </tr>\n",
       "    <tr>\n",
       "      <th>1</th>\n",
       "      <td>2</td>\n",
       "      <td>True</td>\n",
       "    </tr>\n",
       "    <tr>\n",
       "      <th>2</th>\n",
       "      <td>3</td>\n",
       "      <td>False</td>\n",
       "    </tr>\n",
       "    <tr>\n",
       "      <th>3</th>\n",
       "      <td>4</td>\n",
       "      <td>False</td>\n",
       "    </tr>\n",
       "    <tr>\n",
       "      <th>4</th>\n",
       "      <td>5</td>\n",
       "      <td>False</td>\n",
       "    </tr>\n",
       "  </tbody>\n",
       "</table>\n",
       "</div>"
      ],
      "text/plain": [
       "   user_id  Adopted_user\n",
       "0        1         False\n",
       "1        2          True\n",
       "2        3         False\n",
       "3        4         False\n",
       "4        5         False"
      ]
     },
     "execution_count": 8,
     "metadata": {},
     "output_type": "execute_result"
    }
   ],
   "source": [
    "## to dataframe from dictionary\n",
    "adopt_data = pd.DataFrame.from_dict(adopt,orient='index').reset_index()\n",
    "adopt_data.columns = ['user_id','Adopted_user']\n",
    "adopt_data.head()"
   ]
  },
  {
   "cell_type": "code",
   "execution_count": 9,
   "metadata": {},
   "outputs": [],
   "source": [
    "#Joining the two dataframe\n",
    "users['user_id'] = users.object_id\n",
    "users_join = pd.merge(users, adopt_data, on='user_id', how='outer')"
   ]
  },
  {
   "cell_type": "code",
   "execution_count": 10,
   "metadata": {},
   "outputs": [
    {
     "data": {
      "text/html": [
       "<div>\n",
       "<style>\n",
       "    .dataframe thead tr:only-child th {\n",
       "        text-align: right;\n",
       "    }\n",
       "\n",
       "    .dataframe thead th {\n",
       "        text-align: left;\n",
       "    }\n",
       "\n",
       "    .dataframe tbody tr th {\n",
       "        vertical-align: top;\n",
       "    }\n",
       "</style>\n",
       "<table border=\"1\" class=\"dataframe\">\n",
       "  <thead>\n",
       "    <tr style=\"text-align: right;\">\n",
       "      <th></th>\n",
       "      <th>creation_time</th>\n",
       "      <th>name</th>\n",
       "      <th>email</th>\n",
       "      <th>creation_source</th>\n",
       "      <th>last_session_creation_time</th>\n",
       "      <th>opted_in_to_mailing_list</th>\n",
       "      <th>enabled_for_marketing_drip</th>\n",
       "      <th>org_id</th>\n",
       "      <th>invited_by_user_id</th>\n",
       "      <th>user_id</th>\n",
       "      <th>Adopted_user</th>\n",
       "    </tr>\n",
       "  </thead>\n",
       "  <tbody>\n",
       "    <tr>\n",
       "      <th>0</th>\n",
       "      <td>2014-04-22 03:53:30</td>\n",
       "      <td>Clausen August</td>\n",
       "      <td>AugustCClausen@yahoo.com</td>\n",
       "      <td>GUEST_INVITE</td>\n",
       "      <td>1.398139e+09</td>\n",
       "      <td>1</td>\n",
       "      <td>0</td>\n",
       "      <td>11</td>\n",
       "      <td>10803.0</td>\n",
       "      <td>1</td>\n",
       "      <td>False</td>\n",
       "    </tr>\n",
       "    <tr>\n",
       "      <th>1</th>\n",
       "      <td>2013-11-15 03:45:04</td>\n",
       "      <td>Poole Matthew</td>\n",
       "      <td>MatthewPoole@gustr.com</td>\n",
       "      <td>ORG_INVITE</td>\n",
       "      <td>1.396238e+09</td>\n",
       "      <td>0</td>\n",
       "      <td>0</td>\n",
       "      <td>1</td>\n",
       "      <td>316.0</td>\n",
       "      <td>2</td>\n",
       "      <td>True</td>\n",
       "    </tr>\n",
       "    <tr>\n",
       "      <th>2</th>\n",
       "      <td>2013-03-19 23:14:52</td>\n",
       "      <td>Bottrill Mitchell</td>\n",
       "      <td>MitchellBottrill@gustr.com</td>\n",
       "      <td>ORG_INVITE</td>\n",
       "      <td>1.363735e+09</td>\n",
       "      <td>0</td>\n",
       "      <td>0</td>\n",
       "      <td>94</td>\n",
       "      <td>1525.0</td>\n",
       "      <td>3</td>\n",
       "      <td>False</td>\n",
       "    </tr>\n",
       "    <tr>\n",
       "      <th>3</th>\n",
       "      <td>2013-05-21 08:09:28</td>\n",
       "      <td>Clausen Nicklas</td>\n",
       "      <td>NicklasSClausen@yahoo.com</td>\n",
       "      <td>GUEST_INVITE</td>\n",
       "      <td>1.369210e+09</td>\n",
       "      <td>0</td>\n",
       "      <td>0</td>\n",
       "      <td>1</td>\n",
       "      <td>5151.0</td>\n",
       "      <td>4</td>\n",
       "      <td>False</td>\n",
       "    </tr>\n",
       "    <tr>\n",
       "      <th>4</th>\n",
       "      <td>2013-01-17 10:14:20</td>\n",
       "      <td>Raw Grace</td>\n",
       "      <td>GraceRaw@yahoo.com</td>\n",
       "      <td>GUEST_INVITE</td>\n",
       "      <td>1.358850e+09</td>\n",
       "      <td>0</td>\n",
       "      <td>0</td>\n",
       "      <td>193</td>\n",
       "      <td>5240.0</td>\n",
       "      <td>5</td>\n",
       "      <td>False</td>\n",
       "    </tr>\n",
       "    <tr>\n",
       "      <th>5</th>\n",
       "      <td>2013-12-17 03:37:06</td>\n",
       "      <td>Cunha Eduardo</td>\n",
       "      <td>EduardoPereiraCunha@yahoo.com</td>\n",
       "      <td>GUEST_INVITE</td>\n",
       "      <td>1.387424e+09</td>\n",
       "      <td>0</td>\n",
       "      <td>0</td>\n",
       "      <td>197</td>\n",
       "      <td>11241.0</td>\n",
       "      <td>6</td>\n",
       "      <td>False</td>\n",
       "    </tr>\n",
       "    <tr>\n",
       "      <th>6</th>\n",
       "      <td>2012-12-16 13:24:32</td>\n",
       "      <td>Sewell Tyler</td>\n",
       "      <td>TylerSewell@jourrapide.com</td>\n",
       "      <td>SIGNUP</td>\n",
       "      <td>1.356010e+09</td>\n",
       "      <td>0</td>\n",
       "      <td>1</td>\n",
       "      <td>37</td>\n",
       "      <td>NaN</td>\n",
       "      <td>7</td>\n",
       "      <td>False</td>\n",
       "    </tr>\n",
       "    <tr>\n",
       "      <th>7</th>\n",
       "      <td>2013-07-31 05:34:02</td>\n",
       "      <td>Hamilton Danielle</td>\n",
       "      <td>DanielleHamilton@yahoo.com</td>\n",
       "      <td>PERSONAL_PROJECTS</td>\n",
       "      <td>NaN</td>\n",
       "      <td>1</td>\n",
       "      <td>1</td>\n",
       "      <td>74</td>\n",
       "      <td>NaN</td>\n",
       "      <td>8</td>\n",
       "      <td>False</td>\n",
       "    </tr>\n",
       "    <tr>\n",
       "      <th>8</th>\n",
       "      <td>2013-11-05 04:04:24</td>\n",
       "      <td>Amsel Paul</td>\n",
       "      <td>PaulAmsel@hotmail.com</td>\n",
       "      <td>PERSONAL_PROJECTS</td>\n",
       "      <td>NaN</td>\n",
       "      <td>0</td>\n",
       "      <td>0</td>\n",
       "      <td>302</td>\n",
       "      <td>NaN</td>\n",
       "      <td>9</td>\n",
       "      <td>False</td>\n",
       "    </tr>\n",
       "    <tr>\n",
       "      <th>9</th>\n",
       "      <td>2013-01-16 22:08:03</td>\n",
       "      <td>Santos Carla</td>\n",
       "      <td>CarlaFerreiraSantos@gustr.com</td>\n",
       "      <td>ORG_INVITE</td>\n",
       "      <td>1.401833e+09</td>\n",
       "      <td>1</td>\n",
       "      <td>1</td>\n",
       "      <td>318</td>\n",
       "      <td>4143.0</td>\n",
       "      <td>10</td>\n",
       "      <td>True</td>\n",
       "    </tr>\n",
       "  </tbody>\n",
       "</table>\n",
       "</div>"
      ],
      "text/plain": [
       "         creation_time               name                          email  \\\n",
       "0  2014-04-22 03:53:30     Clausen August       AugustCClausen@yahoo.com   \n",
       "1  2013-11-15 03:45:04      Poole Matthew         MatthewPoole@gustr.com   \n",
       "2  2013-03-19 23:14:52  Bottrill Mitchell     MitchellBottrill@gustr.com   \n",
       "3  2013-05-21 08:09:28    Clausen Nicklas      NicklasSClausen@yahoo.com   \n",
       "4  2013-01-17 10:14:20          Raw Grace             GraceRaw@yahoo.com   \n",
       "5  2013-12-17 03:37:06      Cunha Eduardo  EduardoPereiraCunha@yahoo.com   \n",
       "6  2012-12-16 13:24:32       Sewell Tyler     TylerSewell@jourrapide.com   \n",
       "7  2013-07-31 05:34:02  Hamilton Danielle     DanielleHamilton@yahoo.com   \n",
       "8  2013-11-05 04:04:24         Amsel Paul          PaulAmsel@hotmail.com   \n",
       "9  2013-01-16 22:08:03       Santos Carla  CarlaFerreiraSantos@gustr.com   \n",
       "\n",
       "     creation_source  last_session_creation_time  opted_in_to_mailing_list  \\\n",
       "0       GUEST_INVITE                1.398139e+09                         1   \n",
       "1         ORG_INVITE                1.396238e+09                         0   \n",
       "2         ORG_INVITE                1.363735e+09                         0   \n",
       "3       GUEST_INVITE                1.369210e+09                         0   \n",
       "4       GUEST_INVITE                1.358850e+09                         0   \n",
       "5       GUEST_INVITE                1.387424e+09                         0   \n",
       "6             SIGNUP                1.356010e+09                         0   \n",
       "7  PERSONAL_PROJECTS                         NaN                         1   \n",
       "8  PERSONAL_PROJECTS                         NaN                         0   \n",
       "9         ORG_INVITE                1.401833e+09                         1   \n",
       "\n",
       "   enabled_for_marketing_drip  org_id  invited_by_user_id  user_id  \\\n",
       "0                           0      11             10803.0        1   \n",
       "1                           0       1               316.0        2   \n",
       "2                           0      94              1525.0        3   \n",
       "3                           0       1              5151.0        4   \n",
       "4                           0     193              5240.0        5   \n",
       "5                           0     197             11241.0        6   \n",
       "6                           1      37                 NaN        7   \n",
       "7                           1      74                 NaN        8   \n",
       "8                           0     302                 NaN        9   \n",
       "9                           1     318              4143.0       10   \n",
       "\n",
       "   Adopted_user  \n",
       "0         False  \n",
       "1          True  \n",
       "2         False  \n",
       "3         False  \n",
       "4         False  \n",
       "5         False  \n",
       "6         False  \n",
       "7         False  \n",
       "8         False  \n",
       "9          True  "
      ]
     },
     "execution_count": 10,
     "metadata": {},
     "output_type": "execute_result"
    }
   ],
   "source": [
    "users_join.pop('object_id')\n",
    "users_join.head(10)"
   ]
  },
  {
   "cell_type": "code",
   "execution_count": 11,
   "metadata": {},
   "outputs": [
    {
     "data": {
      "image/png": "[encoded data removed]",
      "text/plain": [
       "<matplotlib.figure.Figure at 0x11ab66b70>"
      ]
     },
     "metadata": {},
     "output_type": "display_data"
    },
    {
     "name": "stdout",
     "output_type": "stream",
     "text": [
      "\n"
     ]
    },
    {
     "data": {
      "image/png": "[encoded data removed]",
      "text/plain": [
       "<matplotlib.figure.Figure at 0x1197db438>"
      ]
     },
     "metadata": {},
     "output_type": "display_data"
    },
    {
     "name": "stdout",
     "output_type": "stream",
     "text": [
      "\n"
     ]
    },
    {
     "data": {
      "image/png": "[encoded data removed]",
      "text/plain": [
       "<matplotlib.figure.Figure at 0x11aadbcc0>"
      ]
     },
     "metadata": {},
     "output_type": "display_data"
    },
    {
     "name": "stdout",
     "output_type": "stream",
     "text": [
      "\n"
     ]
    }
   ],
   "source": [
    "## ADopted users creation source\n",
    "for col in ['creation_source','opted_in_to_mailing_list','enabled_for_marketing_drip']:\n",
    "    users_join.groupby([col,'Adopted_user'])[col].count().\\\n",
    "    sort_values(ascending=True).unstack().plot(kind='bar', figsize =(10,7))\n",
    "    plt.title(\"Adopted user in the category \" + col)\n",
    "    plt.show()\n",
    "    print('')"
   ]
  },
  {
   "cell_type": "markdown",
   "metadata": {},
   "source": [
    "The above plots show adopted user distribution in each of the categories. However, we dont see noticebale difference. We train a RandomForest classifier to get the important features "
   ]
  },
  {
   "cell_type": "code",
   "execution_count": 12,
   "metadata": {},
   "outputs": [],
   "source": [
    "## COnveriting unix to time\n",
    "users_join.creation_time = pd.to_datetime(users_join.creation_time)\n",
    "users_join.last_session_creation_time = pd.to_datetime(users_join.last_session_creation_time, unit='s')\n",
    "\n",
    "users_join.rename(columns={'last_session_creation_time': 'last_session', 'creation_time': 'creation'}, inplace=True)\n",
    "for col in ['last_session','creation']:\n",
    "    users_join[\"month_\"+col] = users_join[col].dt.month\n",
    "    users_join[\"day_\"+col] = users_join[col].dt.day"
   ]
  },
  {
   "cell_type": "code",
   "execution_count": 13,
   "metadata": {},
   "outputs": [
    {
     "data": {
      "text/html": [
       "<div>\n",
       "<style>\n",
       "    .dataframe thead tr:only-child th {\n",
       "        text-align: right;\n",
       "    }\n",
       "\n",
       "    .dataframe thead th {\n",
       "        text-align: left;\n",
       "    }\n",
       "\n",
       "    .dataframe tbody tr th {\n",
       "        vertical-align: top;\n",
       "    }\n",
       "</style>\n",
       "<table border=\"1\" class=\"dataframe\">\n",
       "  <thead>\n",
       "    <tr style=\"text-align: right;\">\n",
       "      <th></th>\n",
       "      <th>creation_source</th>\n",
       "      <th>opted_in_to_mailing_list</th>\n",
       "      <th>enabled_for_marketing_drip</th>\n",
       "      <th>org_id</th>\n",
       "      <th>Adopted_user</th>\n",
       "      <th>month_last_session</th>\n",
       "      <th>day_last_session</th>\n",
       "      <th>month_creation</th>\n",
       "      <th>day_creation</th>\n",
       "    </tr>\n",
       "  </thead>\n",
       "  <tbody>\n",
       "    <tr>\n",
       "      <th>0</th>\n",
       "      <td>GUEST_INVITE</td>\n",
       "      <td>1</td>\n",
       "      <td>0</td>\n",
       "      <td>11</td>\n",
       "      <td>False</td>\n",
       "      <td>4.0</td>\n",
       "      <td>22.0</td>\n",
       "      <td>4</td>\n",
       "      <td>22</td>\n",
       "    </tr>\n",
       "    <tr>\n",
       "      <th>1</th>\n",
       "      <td>ORG_INVITE</td>\n",
       "      <td>0</td>\n",
       "      <td>0</td>\n",
       "      <td>1</td>\n",
       "      <td>True</td>\n",
       "      <td>3.0</td>\n",
       "      <td>31.0</td>\n",
       "      <td>11</td>\n",
       "      <td>15</td>\n",
       "    </tr>\n",
       "    <tr>\n",
       "      <th>2</th>\n",
       "      <td>ORG_INVITE</td>\n",
       "      <td>0</td>\n",
       "      <td>0</td>\n",
       "      <td>94</td>\n",
       "      <td>False</td>\n",
       "      <td>3.0</td>\n",
       "      <td>19.0</td>\n",
       "      <td>3</td>\n",
       "      <td>19</td>\n",
       "    </tr>\n",
       "    <tr>\n",
       "      <th>3</th>\n",
       "      <td>GUEST_INVITE</td>\n",
       "      <td>0</td>\n",
       "      <td>0</td>\n",
       "      <td>1</td>\n",
       "      <td>False</td>\n",
       "      <td>5.0</td>\n",
       "      <td>22.0</td>\n",
       "      <td>5</td>\n",
       "      <td>21</td>\n",
       "    </tr>\n",
       "    <tr>\n",
       "      <th>4</th>\n",
       "      <td>GUEST_INVITE</td>\n",
       "      <td>0</td>\n",
       "      <td>0</td>\n",
       "      <td>193</td>\n",
       "      <td>False</td>\n",
       "      <td>1.0</td>\n",
       "      <td>22.0</td>\n",
       "      <td>1</td>\n",
       "      <td>17</td>\n",
       "    </tr>\n",
       "  </tbody>\n",
       "</table>\n",
       "</div>"
      ],
      "text/plain": [
       "  creation_source  opted_in_to_mailing_list  enabled_for_marketing_drip  \\\n",
       "0    GUEST_INVITE                         1                           0   \n",
       "1      ORG_INVITE                         0                           0   \n",
       "2      ORG_INVITE                         0                           0   \n",
       "3    GUEST_INVITE                         0                           0   \n",
       "4    GUEST_INVITE                         0                           0   \n",
       "\n",
       "   org_id  Adopted_user  month_last_session  day_last_session  month_creation  \\\n",
       "0      11         False                 4.0              22.0               4   \n",
       "1       1          True                 3.0              31.0              11   \n",
       "2      94         False                 3.0              19.0               3   \n",
       "3       1         False                 5.0              22.0               5   \n",
       "4     193         False                 1.0              22.0               1   \n",
       "\n",
       "   day_creation  \n",
       "0            22  \n",
       "1            15  \n",
       "2            19  \n",
       "3            21  \n",
       "4            17  "
      ]
     },
     "execution_count": 13,
     "metadata": {},
     "output_type": "execute_result"
    }
   ],
   "source": [
    "## Drop the columns we do not need anylonger and ones without any predictive capabilities\n",
    "users_join.drop(['creation','name','email','last_session','invited_by_user_id','user_id'],axis=1,inplace=True)\n",
    "users_join.head()"
   ]
  },
  {
   "cell_type": "code",
   "execution_count": 14,
   "metadata": {},
   "outputs": [],
   "source": [
    "## One hot encoding creation source column\n",
    "users_join.rename(columns={'creation_source':'source'},inplace=True)\n",
    "final = pd.get_dummies(users_join, columns = ['source'], drop_first=True)\n"
   ]
  },
  {
   "cell_type": "code",
   "execution_count": 15,
   "metadata": {},
   "outputs": [
    {
     "data": {
      "text/html": [
       "<div>\n",
       "<style>\n",
       "    .dataframe thead tr:only-child th {\n",
       "        text-align: right;\n",
       "    }\n",
       "\n",
       "    .dataframe thead th {\n",
       "        text-align: left;\n",
       "    }\n",
       "\n",
       "    .dataframe tbody tr th {\n",
       "        vertical-align: top;\n",
       "    }\n",
       "</style>\n",
       "<table border=\"1\" class=\"dataframe\">\n",
       "  <thead>\n",
       "    <tr style=\"text-align: right;\">\n",
       "      <th></th>\n",
       "      <th>opted_in_to_mailing_list</th>\n",
       "      <th>enabled_for_marketing_drip</th>\n",
       "      <th>org_id</th>\n",
       "      <th>Adopted_user</th>\n",
       "      <th>month_last_session</th>\n",
       "      <th>day_last_session</th>\n",
       "      <th>month_creation</th>\n",
       "      <th>day_creation</th>\n",
       "      <th>source_ORG_INVITE</th>\n",
       "      <th>source_PERSONAL_PROJECTS</th>\n",
       "      <th>source_SIGNUP</th>\n",
       "      <th>source_SIGNUP_GOOGLE_AUTH</th>\n",
       "    </tr>\n",
       "  </thead>\n",
       "  <tbody>\n",
       "    <tr>\n",
       "      <th>0</th>\n",
       "      <td>1</td>\n",
       "      <td>0</td>\n",
       "      <td>11</td>\n",
       "      <td>False</td>\n",
       "      <td>4.0</td>\n",
       "      <td>22.0</td>\n",
       "      <td>4</td>\n",
       "      <td>22</td>\n",
       "      <td>0</td>\n",
       "      <td>0</td>\n",
       "      <td>0</td>\n",
       "      <td>0</td>\n",
       "    </tr>\n",
       "    <tr>\n",
       "      <th>1</th>\n",
       "      <td>0</td>\n",
       "      <td>0</td>\n",
       "      <td>1</td>\n",
       "      <td>True</td>\n",
       "      <td>3.0</td>\n",
       "      <td>31.0</td>\n",
       "      <td>11</td>\n",
       "      <td>15</td>\n",
       "      <td>1</td>\n",
       "      <td>0</td>\n",
       "      <td>0</td>\n",
       "      <td>0</td>\n",
       "    </tr>\n",
       "    <tr>\n",
       "      <th>2</th>\n",
       "      <td>0</td>\n",
       "      <td>0</td>\n",
       "      <td>94</td>\n",
       "      <td>False</td>\n",
       "      <td>3.0</td>\n",
       "      <td>19.0</td>\n",
       "      <td>3</td>\n",
       "      <td>19</td>\n",
       "      <td>1</td>\n",
       "      <td>0</td>\n",
       "      <td>0</td>\n",
       "      <td>0</td>\n",
       "    </tr>\n",
       "    <tr>\n",
       "      <th>3</th>\n",
       "      <td>0</td>\n",
       "      <td>0</td>\n",
       "      <td>1</td>\n",
       "      <td>False</td>\n",
       "      <td>5.0</td>\n",
       "      <td>22.0</td>\n",
       "      <td>5</td>\n",
       "      <td>21</td>\n",
       "      <td>0</td>\n",
       "      <td>0</td>\n",
       "      <td>0</td>\n",
       "      <td>0</td>\n",
       "    </tr>\n",
       "    <tr>\n",
       "      <th>4</th>\n",
       "      <td>0</td>\n",
       "      <td>0</td>\n",
       "      <td>193</td>\n",
       "      <td>False</td>\n",
       "      <td>1.0</td>\n",
       "      <td>22.0</td>\n",
       "      <td>1</td>\n",
       "      <td>17</td>\n",
       "      <td>0</td>\n",
       "      <td>0</td>\n",
       "      <td>0</td>\n",
       "      <td>0</td>\n",
       "    </tr>\n",
       "  </tbody>\n",
       "</table>\n",
       "</div>"
      ],
      "text/plain": [
       "   opted_in_to_mailing_list  enabled_for_marketing_drip  org_id  Adopted_user  \\\n",
       "0                         1                           0      11         False   \n",
       "1                         0                           0       1          True   \n",
       "2                         0                           0      94         False   \n",
       "3                         0                           0       1         False   \n",
       "4                         0                           0     193         False   \n",
       "\n",
       "   month_last_session  day_last_session  month_creation  day_creation  \\\n",
       "0                 4.0              22.0               4            22   \n",
       "1                 3.0              31.0              11            15   \n",
       "2                 3.0              19.0               3            19   \n",
       "3                 5.0              22.0               5            21   \n",
       "4                 1.0              22.0               1            17   \n",
       "\n",
       "   source_ORG_INVITE  source_PERSONAL_PROJECTS  source_SIGNUP  \\\n",
       "0                  0                         0              0   \n",
       "1                  1                         0              0   \n",
       "2                  1                         0              0   \n",
       "3                  0                         0              0   \n",
       "4                  0                         0              0   \n",
       "\n",
       "   source_SIGNUP_GOOGLE_AUTH  \n",
       "0                          0  \n",
       "1                          0  \n",
       "2                          0  \n",
       "3                          0  \n",
       "4                          0  "
      ]
     },
     "execution_count": 15,
     "metadata": {},
     "output_type": "execute_result"
    }
   ],
   "source": [
    "## Filling our data \n",
    "final.fillna(0,axis=1,inplace=True)\n",
    "final.head()"
   ]
  },
  {
   "cell_type": "code",
   "execution_count": 16,
   "metadata": {},
   "outputs": [],
   "source": [
    "import sys\n",
    "import warnings\n",
    "\n",
    "if not sys.warnoptions:\n",
    "    warnings.simplefilter(\"ignore\")\n",
    "\n",
    "## Scikit Learn Machine Learning libraries\n",
    "from sklearn.ensemble import RandomForestClassifier\n",
    "\n",
    "from sklearn.metrics import accuracy_score, roc_auc_score, make_scorer\n",
    "from sklearn.model_selection import train_test_split, StratifiedKFold, GridSearchCV, cross_val_score"
   ]
  },
  {
   "cell_type": "code",
   "execution_count": 17,
   "metadata": {},
   "outputs": [],
   "source": [
    "X = final.drop('Adopted_user', axis=1)\n",
    "target = final['Adopted_user']"
   ]
  },
  {
   "cell_type": "code",
   "execution_count": 18,
   "metadata": {},
   "outputs": [
    {
     "data": {
      "image/png": "[encoded data removed]",
      "text/plain": [
       "<matplotlib.figure.Figure at 0x11d052240>"
      ]
     },
     "metadata": {},
     "output_type": "display_data"
    },
    {
     "name": "stdout",
     "output_type": "stream",
     "text": [
      "Percenatge distribution of target/dependent variable: \n",
      " False    86.65\n",
      "True     13.35\n",
      "Name: Adopted_user, dtype: float64\n"
     ]
    }
   ],
   "source": [
    "target.value_counts().plot(kind='bar')\n",
    "plt.title(\"Adopted User Distribution\")\n",
    "plt.gcf().set_size_inches(9,6)\n",
    "plt.show()\n",
    "\n",
    "print(\"Percenatge distribution of target/dependent variable: \\n\",\n",
    "      users_join.Adopted_user.value_counts(normalize=True)*100 )\n",
    "\n"
   ]
  },
  {
   "cell_type": "code",
   "execution_count": 19,
   "metadata": {
    "collapsed": true
   },
   "outputs": [],
   "source": [
    "#Split into train/test\n",
    "X_train, X_test, y_train, y_test = train_test_split(X, target, test_size = 0.2, random_state=123, stratify=target)"
   ]
  },
  {
   "cell_type": "code",
   "execution_count": 20,
   "metadata": {},
   "outputs": [
    {
     "name": "stdout",
     "output_type": "stream",
     "text": [
      "After stratification distribution of traget variables in train and test data \n",
      "----------------------------------------------------------------------------------------------------\n",
      "Training data\n",
      "False    86.645833\n",
      "True     13.354167\n",
      "Name: Adopted_user, dtype: float64\n",
      "\n",
      "Test Data\n"
     ]
    },
    {
     "data": {
      "text/plain": [
       "False    86.666667\n",
       "True     13.333333\n",
       "Name: Adopted_user, dtype: float64"
      ]
     },
     "execution_count": 20,
     "metadata": {},
     "output_type": "execute_result"
    }
   ],
   "source": [
    "print(\"After stratification distribution of traget variables in train and test data \\n\"+ 100*'-' \n",
    "      + '\\n' + \"Training data\")\n",
    "print(y_train.value_counts(normalize=True)*100)\n",
    "print('')\n",
    "print(\"Test Data\")\n",
    "y_test.value_counts(normalize=True)*100"
   ]
  },
  {
   "cell_type": "code",
   "execution_count": 21,
   "metadata": {
    "collapsed": true
   },
   "outputs": [],
   "source": [
    "## Cross Validation\n",
    "CV = StratifiedKFold(n_splits=5, shuffle=True, random_state=123)\n",
    "\n",
    "## Metric for model evaluation: Area Under the Receiver Operating Characteristic curve. \n",
    "model_metric  = make_scorer(roc_auc_score, greater_is_better=True)"
   ]
  },
  {
   "cell_type": "code",
   "execution_count": 22,
   "metadata": {
    "collapsed": true
   },
   "outputs": [],
   "source": [
    "#Initilizing Random Forest Classifier\n",
    "RF = RandomForestClassifier(criterion='gini',n_jobs=-1)\n",
    "\n",
    "## Defining Hyperparamter grid and gridsearch\n",
    "param_grid = {'n_estimators' : [40, 50, 60], 'min_samples_split' : [2, 3, 4], \n",
    "              'max_depth' : [4, 7, 10], 'class_weight' : [None,'balanced',{0:1,1:2},{0:1,1:3}]}\n",
    "\n",
    "RF_CV = GridSearchCV(RF, param_grid, cv=CV, scoring=model_metric, verbose=1)"
   ]
  },
  {
   "cell_type": "code",
   "execution_count": 23,
   "metadata": {},
   "outputs": [
    {
     "name": "stdout",
     "output_type": "stream",
     "text": [
      "Fitting 5 folds for each of 108 candidates, totalling 540 fits\n"
     ]
    },
    {
     "name": "stderr",
     "output_type": "stream",
     "text": [
      "[Parallel(n_jobs=1)]: Done 540 out of 540 | elapsed:  4.4min finished\n"
     ]
    },
    {
     "name": "stdout",
     "output_type": "stream",
     "text": [
      "Best parameters learned:  {'class_weight': 'balanced', 'max_depth': 10, 'n_estimators': 60, 'min_samples_split': 4}\n",
      "AUROC score with best RF paramters 0.916618072725\n"
     ]
    }
   ],
   "source": [
    "## Fitting the data to RF classifier\n",
    "RF_CV.fit(X_train, y_train)\n",
    "\n",
    "#Print out the best model\n",
    "print(\"Best parameters learned: \",RF_CV.best_params_)\n",
    "print(\"AUROC score with best RF paramters\",RF_CV.best_score_)"
   ]
  },
  {
   "cell_type": "code",
   "execution_count": 24,
   "metadata": {},
   "outputs": [
    {
     "data": {
      "text/plain": [
       "RandomForestClassifier(bootstrap=True, class_weight='balanced',\n",
       "            criterion='gini', max_depth=10, max_features='auto',\n",
       "            max_leaf_nodes=None, min_impurity_decrease=0.0,\n",
       "            min_impurity_split=None, min_samples_leaf=1,\n",
       "            min_samples_split=4, min_weight_fraction_leaf=0.0,\n",
       "            n_estimators=60, n_jobs=-1, oob_score=False, random_state=None,\n",
       "            verbose=0, warm_start=False)"
      ]
     },
     "execution_count": 24,
     "metadata": {},
     "output_type": "execute_result"
    }
   ],
   "source": [
    "### Initialzing RandomForest Classifier with best parameters learned from Gridsearch\n",
    "\n",
    "RF_best_param = RandomForestClassifier(criterion='gini', class_weight= RF_CV.best_params_['class_weight'], n_jobs=-1, \n",
    "                                       min_samples_split=RF_CV.best_params_['min_samples_split'], \n",
    "                                       max_depth=RF_CV.best_params_['max_depth'],\n",
    "                                      n_estimators=RF_CV.best_params_['n_estimators'],)\n",
    "\n",
    "## Fitting the model\n",
    "RF_best_param.fit(X_train, y_train)"
   ]
  },
  {
   "cell_type": "code",
   "execution_count": 25,
   "metadata": {
    "collapsed": true
   },
   "outputs": [],
   "source": [
    "## Plotting AUROC scores to evaluate the model\n",
    "\n",
    "## Code extracted from scikit learn: \n",
    "## http://scikit-learn.org/stable/auto_examples/model_selection/plot_learning_curve.html\n",
    "\n",
    "import numpy as np\n",
    "from sklearn.model_selection import learning_curve\n",
    "\n",
    "\n",
    "\n",
    "def plot_learning_curve(estimator, title, X, y, ylim=None, cv=None,\n",
    "                        n_jobs=1, train_sizes=np.linspace(.1, 1.0, 5)):\n",
    "    \"\"\"\n",
    "    Generate a simple plot of the test and training learning curve.\n",
    "\n",
    "    Parameters\n",
    "    ----------\n",
    "    estimator : object type that implements the \"fit\" and \"predict\" methods\n",
    "        An object of that type which is cloned for each validation.\n",
    "\n",
    "    title : string\n",
    "        Title for the chart.\n",
    "\n",
    "    X : array-like, shape (n_samples, n_features)\n",
    "        Training vector, where n_samples is the number of samples and\n",
    "        n_features is the number of features.\n",
    "\n",
    "    y : array-like, shape (n_samples) or (n_samples, n_features), optional\n",
    "        Target relative to X for classification or regression;\n",
    "        None for unsupervised learning.\n",
    "\n",
    "    ylim : tuple, shape (ymin, ymax), optional\n",
    "        Defines minimum and maximum yvalues plotted.\n",
    "\n",
    "    cv : int, cross-validation generator or an iterable, optional\n",
    "        Determines the cross-validation splitting strategy.\n",
    "        Possible inputs for cv are:\n",
    "          - None, to use the default 3-fold cross-validation,\n",
    "          - integer, to specify the number of folds.\n",
    "          - An object to be used as a cross-validation generator.\n",
    "          - An iterable yielding train/test splits.\n",
    "\n",
    "        For integer/None inputs, if ``y`` is binary or multiclass,\n",
    "        :class:`StratifiedKFold` used. If the estimator is not a classifier\n",
    "        or if ``y`` is neither binary nor multiclass, :class:`KFold` is used.\n",
    "\n",
    "        Refer :ref:`User Guide <cross_validation>` for the various\n",
    "        cross-validators that can be used here.\n",
    "\n",
    "    n_jobs : integer, optional\n",
    "        Number of jobs to run in parallel (default 1).\n",
    "    \"\"\"\n",
    "    plt.figure()\n",
    "    plt.title(title)\n",
    "    if ylim is not None:\n",
    "        plt.ylim(*ylim)\n",
    "    plt.xlabel(\"Training examples\")\n",
    "    plt.ylabel(\"Score\")\n",
    "    train_sizes, train_scores, test_scores = learning_curve(\n",
    "        estimator, X, y, cv=cv, n_jobs=n_jobs, train_sizes=train_sizes)\n",
    "    train_scores_mean = np.mean(train_scores, axis=1)\n",
    "    train_scores_std = np.std(train_scores, axis=1)\n",
    "    test_scores_mean = np.mean(test_scores, axis=1)\n",
    "    test_scores_std = np.std(test_scores, axis=1)\n",
    "    plt.grid()\n",
    "\n",
    "    plt.fill_between(train_sizes, train_scores_mean - train_scores_std,\n",
    "                     train_scores_mean + train_scores_std, alpha=0.1,\n",
    "                     color=\"r\")\n",
    "    plt.fill_between(train_sizes, test_scores_mean - test_scores_std,\n",
    "                     test_scores_mean + test_scores_std, alpha=0.1, color=\"g\")\n",
    "    plt.plot(train_sizes, train_scores_mean, 'o-', color=\"r\",\n",
    "             label=\"Training score\")\n",
    "    plt.plot(train_sizes, test_scores_mean, 'o-', color=\"g\",\n",
    "             label=\"Cross-validation score\")\n",
    "\n",
    "    plt.legend(loc=\"best\")\n",
    "    return plt"
   ]
  },
  {
   "cell_type": "code",
   "execution_count": 26,
   "metadata": {},
   "outputs": [
    {
     "data": {
      "image/png": "[encoded data removed]",
      "text/plain": [
       "<matplotlib.figure.Figure at 0x11d07fef0>"
      ]
     },
     "metadata": {},
     "output_type": "display_data"
    }
   ],
   "source": [
    "X, y = X_train, y_train\n",
    "\n",
    "\n",
    "title = \"Learning Curves: Random Forest classifier with best parameters\"\n",
    "# Cross validation with 100 iterations to get smoother mean test and train\n",
    "# score curves, each time with 20% data randomly selected as a validation set.\n",
    "\n",
    "plot_learning_curve(RF_best_param, title, X, y, ylim=(0.8, 1.01), cv=CV, n_jobs=-1)\n",
    "plt.gcf().set_size_inches(10,7)\n",
    "\n",
    "plt.show()"
   ]
  },
  {
   "cell_type": "code",
   "execution_count": 27,
   "metadata": {},
   "outputs": [
    {
     "name": "stdout",
     "output_type": "stream",
     "text": [
      "AUROC score 0.984508713942\n",
      "AUCROC score using 5-fold CV:   [ 0.91000192  0.93243158  0.90414663  0.90954318  0.9244224 ]\n"
     ]
    }
   ],
   "source": [
    "## Prediction TEST SET\n",
    "\n",
    "from sklearn.model_selection import cross_val_score\n",
    "y_pred_prob = RF_best_param.predict_proba(X_test)[:,1]\n",
    "print(\"AUROC score\", roc_auc_score(y_test, y_pred_prob))\n",
    "cv_auc = cross_val_score(RF_best_param, X, y, cv = CV,scoring = model_metric)\n",
    "print(\"AUCROC score using 5-fold CV:  \",format(cv_auc))\n"
   ]
  },
  {
   "cell_type": "code",
   "execution_count": 28,
   "metadata": {},
   "outputs": [
    {
     "data": {
      "image/png": "[encoded data removed]",
      "text/plain": [
       "<matplotlib.figure.Figure at 0x1195b20f0>"
      ]
     },
     "metadata": {},
     "output_type": "display_data"
    }
   ],
   "source": [
    "## Plotting ROC CURVE\n",
    "from sklearn.metrics import roc_curve\n",
    "\n",
    "# Compute predicted probabilities: y_pred_prob\n",
    "y_pred_prob = RF_best_param.predict_proba(X_test)[:,1]\n",
    "\n",
    "# Generate ROC curve values: fpr, tpr, thresholds\n",
    "fpr, tpr, thresholds = roc_curve(y_test, y_pred_prob)\n",
    "\n",
    "# Plotting ROC curve\n",
    "plt.plot([0, 1], [0, 1], 'k--')\n",
    "plt.gcf().set_size_inches(7,5)\n",
    "plt.plot(fpr, tpr)\n",
    "plt.xlabel('False Positive Rate')\n",
    "plt.ylabel('True Positive Rate')\n",
    "plt.title('ROC Curve')\n",
    "plt.show()"
   ]
  },
  {
   "cell_type": "code",
   "execution_count": 29,
   "metadata": {},
   "outputs": [
    {
     "data": {
      "text/html": [
       "<div>\n",
       "<style>\n",
       "    .dataframe thead tr:only-child th {\n",
       "        text-align: right;\n",
       "    }\n",
       "\n",
       "    .dataframe thead th {\n",
       "        text-align: left;\n",
       "    }\n",
       "\n",
       "    .dataframe tbody tr th {\n",
       "        vertical-align: top;\n",
       "    }\n",
       "</style>\n",
       "<table border=\"1\" class=\"dataframe\">\n",
       "  <thead>\n",
       "    <tr style=\"text-align: right;\">\n",
       "      <th></th>\n",
       "      <th>importance</th>\n",
       "    </tr>\n",
       "  </thead>\n",
       "  <tbody>\n",
       "    <tr>\n",
       "      <th>month_last_session</th>\n",
       "      <td>0.417080</td>\n",
       "    </tr>\n",
       "    <tr>\n",
       "      <th>day_last_session</th>\n",
       "      <td>0.265063</td>\n",
       "    </tr>\n",
       "    <tr>\n",
       "      <th>month_creation</th>\n",
       "      <td>0.154668</td>\n",
       "    </tr>\n",
       "    <tr>\n",
       "      <th>day_creation</th>\n",
       "      <td>0.081354</td>\n",
       "    </tr>\n",
       "    <tr>\n",
       "      <th>org_id</th>\n",
       "      <td>0.052489</td>\n",
       "    </tr>\n",
       "    <tr>\n",
       "      <th>source_PERSONAL_PROJECTS</th>\n",
       "      <td>0.006881</td>\n",
       "    </tr>\n",
       "    <tr>\n",
       "      <th>source_SIGNUP_GOOGLE_AUTH</th>\n",
       "      <td>0.004832</td>\n",
       "    </tr>\n",
       "    <tr>\n",
       "      <th>source_SIGNUP</th>\n",
       "      <td>0.004679</td>\n",
       "    </tr>\n",
       "    <tr>\n",
       "      <th>enabled_for_marketing_drip</th>\n",
       "      <td>0.004488</td>\n",
       "    </tr>\n",
       "    <tr>\n",
       "      <th>opted_in_to_mailing_list</th>\n",
       "      <td>0.004364</td>\n",
       "    </tr>\n",
       "    <tr>\n",
       "      <th>source_ORG_INVITE</th>\n",
       "      <td>0.004103</td>\n",
       "    </tr>\n",
       "  </tbody>\n",
       "</table>\n",
       "</div>"
      ],
      "text/plain": [
       "                            importance\n",
       "month_last_session            0.417080\n",
       "day_last_session              0.265063\n",
       "month_creation                0.154668\n",
       "day_creation                  0.081354\n",
       "org_id                        0.052489\n",
       "source_PERSONAL_PROJECTS      0.006881\n",
       "source_SIGNUP_GOOGLE_AUTH     0.004832\n",
       "source_SIGNUP                 0.004679\n",
       "enabled_for_marketing_drip    0.004488\n",
       "opted_in_to_mailing_list      0.004364\n",
       "source_ORG_INVITE             0.004103"
      ]
     },
     "execution_count": 29,
     "metadata": {},
     "output_type": "execute_result"
    }
   ],
   "source": [
    "## Getting feature importance from classifier## Getti \n",
    "feature_importances = pd.DataFrame(RF_best_param.feature_importances_,\n",
    "                                   index = X_train.columns,\n",
    "                                   columns=['importance']).sort_values('importance', ascending=False)\n",
    "feature_importances.head(11)"
   ]
  },
  {
   "cell_type": "code",
   "execution_count": 30,
   "metadata": {},
   "outputs": [
    {
     "data": {
      "image/png": "[encoded data removed]",
      "text/plain": [
       "<matplotlib.figure.Figure at 0x11d2030b8>"
      ]
     },
     "metadata": {},
     "output_type": "display_data"
    }
   ],
   "source": [
    "feature_importances.sort_values('importance', ascending=True).plot(kind = 'barh',legend=False)\n",
    "plt.title(\"Feature Importances as obtained by RandomForest Classifier\")\n",
    "plt.gcf().set_size_inches(10,7)"
   ]
  },
  {
   "cell_type": "markdown",
   "metadata": {},
   "source": [
    ">Feature importance plot shows that month and day the user was last active, and organization id(the organization (group of users) they belong to invited_by_user_id: which user invited them to join (if applicable) are important in prediciting. While we can point that how can signing in a particular month makes the user adopted. At this point, this is not clear unless we have other data associated with the particulars of the month, are they any offers that month which can make users be active etc. Organization Id also came out as an important feature, this is a potential source to investigate which are all the organizations have high percentage of adopted users. However, we need more features pertaining to user, organisation work, types of projects, offers provided for signup etc   \n",
    "Finally, this notebook is far from real world however it shows the data science workflow and typical approach in answering and posing a question."
   ]
  },
  {
   "cell_type": "code",
   "execution_count": null,
   "metadata": {},
   "outputs": [],
   "source": []
  },
  {
   "cell_type": "code",
   "execution_count": null,
   "metadata": {},
   "outputs": [],
   "source": []
  },
  {
   "cell_type": "code",
   "execution_count": null,
   "metadata": {},
   "outputs": [],
   "source": []
  },
  {
   "cell_type": "code",
   "execution_count": null,
   "metadata": {
    "collapsed": true
   },
   "outputs": [],
   "source": []
  }
 ],
 "metadata": {
  "kernelspec": {
   "display_name": "Python [conda env:tfdeeplearning]",
   "language": "python",
   "name": "conda-env-tfdeeplearning-py"
  },
  "language_info": {
   "codemirror_mode": {
    "name": "ipython",
    "version": 3
   },
   "file_extension": ".py",
   "mimetype": "text/x-python",
   "name": "python",
   "nbconvert_exporter": "python",
   "pygments_lexer": "ipython3",
   "version": "3.5.4"
  }
 },
 "nbformat": 4,
 "nbformat_minor": 2
}
